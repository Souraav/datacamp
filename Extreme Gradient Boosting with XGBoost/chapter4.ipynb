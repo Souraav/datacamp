{
 "cells": [
  {
   "cell_type": "markdown",
   "id": "360f2d62-586b-4258-8e5e-d569fb8cfc98",
   "metadata": {},
   "source": [
    "## Using XGBoost in pipelines"
   ]
  },
  {
   "cell_type": "code",
   "execution_count": 1,
   "id": "2ad74e8a-2087-453d-9584-a96982b2c3a2",
   "metadata": {},
   "outputs": [],
   "source": [
    "import xgboost as xgb\n",
    "import pandas as pd\n",
    "import numpy as np"
   ]
  },
  {
   "cell_type": "markdown",
   "id": "9e54c601-6d70-4891-827f-5dfcc81bd1af",
   "metadata": {},
   "source": [
    "### Encoding categorical columns I: LabelEncoder"
   ]
  },
  {
   "cell_type": "code",
   "execution_count": 4,
   "id": "b101c4e9-ef6b-4be5-b8ca-f720dd98e13a",
   "metadata": {},
   "outputs": [],
   "source": [
    "df = pd.read_csv('chapter4-data.csv')"
   ]
  },
  {
   "cell_type": "code",
   "execution_count": 5,
   "id": "95bfa2a6-96a3-44ac-97be-e3caf5ff4f4d",
   "metadata": {},
   "outputs": [
    {
     "name": "stdout",
     "output_type": "stream",
     "text": [
      "  MSZoning PavedDrive Neighborhood BldgType HouseStyle\n",
      "0       RL          Y      CollgCr     1Fam     2Story\n",
      "1       RL          Y      Veenker     1Fam     1Story\n",
      "2       RL          Y      CollgCr     1Fam     2Story\n",
      "3       RL          Y      Crawfor     1Fam     2Story\n",
      "4       RL          Y      NoRidge     1Fam     2Story\n",
      "   MSZoning  PavedDrive  Neighborhood  BldgType  HouseStyle\n",
      "0         3           2             5         0           5\n",
      "1         3           2            24         0           2\n",
      "2         3           2             5         0           5\n",
      "3         3           2             6         0           5\n",
      "4         3           2            15         0           5\n"
     ]
    }
   ],
   "source": [
    "\n",
    "from sklearn.preprocessing import LabelEncoder\n",
    "\n",
    "\n",
    "df.LotFrontage = df.LotFrontage.fillna(0)\n",
    "\n",
    "\n",
    "categorical_mask = (df.dtypes == object)\n",
    "\n",
    "\n",
    "categorical_columns = df.columns[categorical_mask].tolist()\n",
    "\n",
    "\n",
    "print(df[categorical_columns].head())\n",
    "\n",
    "\n",
    "le = LabelEncoder()\n",
    "\n",
    "\n",
    "df[categorical_columns] = df[categorical_columns].apply(lambda x: le.fit_transform(x))\n",
    "\n",
    "\n",
    "print(df[categorical_columns].head())"
   ]
  },
  {
   "cell_type": "markdown",
   "id": "63cb4c16-e63c-4f0a-b728-804334b5730f",
   "metadata": {},
   "source": [
    "### Encoding categorical columns II: OneHotEncoder"
   ]
  },
  {
   "cell_type": "code",
   "execution_count": 6,
   "id": "f1f04f57-aa81-4f2a-8e18-37682ab2a2b9",
   "metadata": {},
   "outputs": [
    {
     "name": "stdout",
     "output_type": "stream",
     "text": [
      "[[1. 0. 0. ... 0. 0. 0.]\n",
      " [0. 1. 0. ... 0. 0. 0.]\n",
      " [0. 0. 1. ... 0. 0. 0.]\n",
      " [0. 0. 0. ... 0. 0. 0.]\n",
      " [0. 0. 0. ... 0. 0. 0.]]\n",
      "(1460, 22)\n",
      "(1460, 4829)\n"
     ]
    }
   ],
   "source": [
    "\n",
    "from sklearn.preprocessing import OneHotEncoder\n",
    "\n",
    "\n",
    "ohe = OneHotEncoder(sparse=False)\n",
    "\n",
    "\n",
    "df_encoded = ohe.fit_transform(df)\n",
    "\n",
    "\n",
    "print(df_encoded[:5, :])\n",
    "\n",
    "\n",
    "print(df.shape)\n",
    "\n",
    "\n",
    "print(df_encoded.shape)"
   ]
  },
  {
   "cell_type": "code",
   "execution_count": null,
   "id": "28ebde0a-c470-4c65-b482-fc50daeeab56",
   "metadata": {},
   "outputs": [],
   "source": []
  }
 ],
 "metadata": {
  "kernelspec": {
   "display_name": "Python 3 (ipykernel)",
   "language": "python",
   "name": "python3"
  },
  "language_info": {
   "codemirror_mode": {
    "name": "ipython",
    "version": 3
   },
   "file_extension": ".py",
   "mimetype": "text/x-python",
   "name": "python",
   "nbconvert_exporter": "python",
   "pygments_lexer": "ipython3",
   "version": "3.8.0"
  }
 },
 "nbformat": 4,
 "nbformat_minor": 5
}
