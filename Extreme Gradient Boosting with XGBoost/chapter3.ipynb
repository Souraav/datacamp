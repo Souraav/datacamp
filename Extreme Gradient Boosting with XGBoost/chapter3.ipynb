{
 "cells": [
  {
   "cell_type": "markdown",
   "id": "95b04d9d-a3f0-4fb0-8ce0-454332802f19",
   "metadata": {},
   "source": [
    "## Fine-tuning your XGBoost model"
   ]
  },
  {
   "cell_type": "markdown",
   "id": "9f3525a8-aaa3-4149-91f3-3f251c254f55",
   "metadata": {},
   "source": [
    "### Tuning the number of boosting rounds"
   ]
  },
  {
   "cell_type": "code",
   "execution_count": 1,
   "id": "64d2e32b-10eb-4f2d-97c3-1ea4b7a8cbe1",
   "metadata": {},
   "outputs": [],
   "source": [
    "import xgboost as xgb\n",
    "import pandas as pd\n",
    "import numpy as np"
   ]
  },
  {
   "cell_type": "code",
   "execution_count": 3,
   "id": "b2b47f04-32b3-4cd5-96af-d2a8ba66641e",
   "metadata": {},
   "outputs": [],
   "source": [
    "X = pd.read_csv('X.txt')"
   ]
  },
  {
   "cell_type": "code",
   "execution_count": 4,
   "id": "92e77c89-776f-42ba-b004-bb204b6d9aef",
   "metadata": {},
   "outputs": [],
   "source": [
    "y = pd.read_csv('y.txt')"
   ]
  },
  {
   "cell_type": "code",
   "execution_count": 5,
   "id": "1dc02c7d-74d1-4086-b552-14003197df39",
   "metadata": {},
   "outputs": [
    {
     "name": "stdout",
     "output_type": "stream",
     "text": [
      "   num_boosting_rounds          rmse\n",
      "0                    5  32455.576236\n",
      "1                   10  24675.345279\n",
      "2                   15  23304.248116\n"
     ]
    },
    {
     "name": "stderr",
     "output_type": "stream",
     "text": [
      "/Users/hozler/Notebooks/venv-3.8/lib/python3.8/site-packages/xgboost/core.py:160: UserWarning: [23:31:45] WARNING: /Users/runner/work/xgboost/xgboost/src/objective/regression_obj.cu:209: reg:linear is now deprecated in favor of reg:squarederror.\n",
      "  warnings.warn(smsg, UserWarning)\n"
     ]
    }
   ],
   "source": [
    "\n",
    "housing_dmatrix = xgb.DMatrix(data=X, label=y)\n",
    "\n",
    "\n",
    "params = {\"objective\":\"reg:linear\", \"max_depth\":3}\n",
    "\n",
    "\n",
    "num_rounds = [5, 10, 15]\n",
    "\n",
    "\n",
    "final_rmse_per_round = []\n",
    "\n",
    "\n",
    "for curr_num_rounds in num_rounds:\n",
    "\n",
    "    \n",
    "    cv_results = xgb.cv(dtrain=housing_dmatrix, params=params, nfold=3, num_boost_round=curr_num_rounds, metrics=\"rmse\", as_pandas=True, seed=123)\n",
    "    \n",
    "    \n",
    "    final_rmse_per_round.append(cv_results[\"test-rmse-mean\"].tail().values[-1])\n",
    "\n",
    "\n",
    "num_rounds_rmses = list(zip(num_rounds, final_rmse_per_round))\n",
    "print(pd.DataFrame(num_rounds_rmses,columns=[\"num_boosting_rounds\",\"rmse\"]))"
   ]
  },
  {
   "cell_type": "code",
   "execution_count": null,
   "id": "874fb303-346f-450c-b411-6db99a4ae22c",
   "metadata": {},
   "outputs": [],
   "source": []
  }
 ],
 "metadata": {
  "kernelspec": {
   "display_name": "Python 3 (ipykernel)",
   "language": "python",
   "name": "python3"
  },
  "language_info": {
   "codemirror_mode": {
    "name": "ipython",
    "version": 3
   },
   "file_extension": ".py",
   "mimetype": "text/x-python",
   "name": "python",
   "nbconvert_exporter": "python",
   "pygments_lexer": "ipython3",
   "version": "3.8.0"
  }
 },
 "nbformat": 4,
 "nbformat_minor": 5
}
