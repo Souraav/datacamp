{
 "cells": [
  {
   "cell_type": "markdown",
   "id": "95b04d9d-a3f0-4fb0-8ce0-454332802f19",
   "metadata": {},
   "source": [
    "## Fine-tuning your XGBoost model"
   ]
  },
  {
   "cell_type": "markdown",
   "id": "9f3525a8-aaa3-4149-91f3-3f251c254f55",
   "metadata": {},
   "source": [
    "### Tuning the number of boosting rounds"
   ]
  },
  {
   "cell_type": "code",
   "execution_count": 1,
   "id": "64d2e32b-10eb-4f2d-97c3-1ea4b7a8cbe1",
   "metadata": {},
   "outputs": [],
   "source": [
    "import xgboost as xgb\n",
    "import pandas as pd\n",
    "import numpy as np"
   ]
  },
  {
   "cell_type": "code",
   "execution_count": 2,
   "id": "b2b47f04-32b3-4cd5-96af-d2a8ba66641e",
   "metadata": {},
   "outputs": [],
   "source": [
    "X = pd.read_csv('X.txt')"
   ]
  },
  {
   "cell_type": "code",
   "execution_count": 3,
   "id": "92e77c89-776f-42ba-b004-bb204b6d9aef",
   "metadata": {},
   "outputs": [],
   "source": [
    "y = pd.read_csv('y.txt')"
   ]
  },
  {
   "cell_type": "code",
   "execution_count": 4,
   "id": "1dc02c7d-74d1-4086-b552-14003197df39",
   "metadata": {},
   "outputs": [
    {
     "name": "stdout",
     "output_type": "stream",
     "text": [
      "   num_boosting_rounds          rmse\n",
      "0                    5  32455.576236\n",
      "1                   10  24675.345279\n",
      "2                   15  23304.248116\n"
     ]
    },
    {
     "name": "stderr",
     "output_type": "stream",
     "text": [
      "/Users/hozler/Notebooks/venv-3.8/lib/python3.8/site-packages/xgboost/core.py:160: UserWarning: [20:35:42] WARNING: /Users/runner/work/xgboost/xgboost/src/objective/regression_obj.cu:209: reg:linear is now deprecated in favor of reg:squarederror.\n",
      "  warnings.warn(smsg, UserWarning)\n"
     ]
    }
   ],
   "source": [
    "\n",
    "housing_dmatrix = xgb.DMatrix(data=X, label=y)\n",
    "\n",
    "\n",
    "params = {\"objective\":\"reg:linear\", \"max_depth\":3}\n",
    "\n",
    "\n",
    "num_rounds = [5, 10, 15]\n",
    "\n",
    "\n",
    "final_rmse_per_round = []\n",
    "\n",
    "\n",
    "for curr_num_rounds in num_rounds:\n",
    "\n",
    "    \n",
    "    cv_results = xgb.cv(dtrain=housing_dmatrix, params=params, nfold=3, num_boost_round=curr_num_rounds, metrics=\"rmse\", as_pandas=True, seed=123)\n",
    "    \n",
    "    \n",
    "    final_rmse_per_round.append(cv_results[\"test-rmse-mean\"].tail().values[-1])\n",
    "\n",
    "\n",
    "num_rounds_rmses = list(zip(num_rounds, final_rmse_per_round))\n",
    "print(pd.DataFrame(num_rounds_rmses,columns=[\"num_boosting_rounds\",\"rmse\"]))"
   ]
  },
  {
   "cell_type": "markdown",
   "id": "4175b128-a2f4-4d75-a95b-67b2d1e06623",
   "metadata": {},
   "source": [
    "### Automated boosting round selection using early_stopping"
   ]
  },
  {
   "cell_type": "code",
   "execution_count": 5,
   "id": "6d399ce2-676f-4cb1-9302-a7c62994785b",
   "metadata": {},
   "outputs": [
    {
     "name": "stderr",
     "output_type": "stream",
     "text": [
      "/Users/hozler/Notebooks/venv-3.8/lib/python3.8/site-packages/xgboost/core.py:160: UserWarning: [20:35:43] WARNING: /Users/runner/work/xgboost/xgboost/src/objective/regression_obj.cu:209: reg:linear is now deprecated in favor of reg:squarederror.\n",
      "  warnings.warn(smsg, UserWarning)\n"
     ]
    },
    {
     "name": "stdout",
     "output_type": "stream",
     "text": [
      "    train-rmse-mean  train-rmse-std  test-rmse-mean  test-rmse-std\n",
      "0      77031.058568       55.660752    77804.773691     346.814023\n",
      "1      56869.233006      229.127281    58548.550123     575.781370\n",
      "2      42902.933831      378.049821    45559.286250    1066.800468\n",
      "3      33289.856892      482.771472    36914.972775    1339.198748\n",
      "4      26863.055100      553.115223    31550.551870    1636.243742\n",
      "5      22512.458156      542.658794    28330.335832    1774.720809\n",
      "6      19509.184153      482.049651    26265.675997    1651.202276\n",
      "7      17389.677475      543.888949    25025.399209    1532.873294\n",
      "8      15948.717364      544.908739    24278.221018    1464.283362\n",
      "9      14936.607887      507.480881    23865.993785    1216.674852\n",
      "10     14177.968566      552.541873    23452.717203    1268.423089\n",
      "11     13496.755524      504.091805    23246.076461    1106.999593\n",
      "12     12996.723136      379.083534    23101.533140    1026.005550\n",
      "13     12675.871782      379.596774    23081.842970    1021.520356\n",
      "14     12416.322744      341.385927    23077.991991    1000.938442\n",
      "15     12213.764965      337.676241    22939.887654     891.969345\n",
      "16     11969.977896      302.456199    22908.263425     876.610195\n",
      "17     11772.531923      263.328376    22884.967626     808.241925\n",
      "18     11551.003037      367.444690    22890.072385     804.685799\n",
      "19     11405.317243      378.104636    22843.248841     848.760013\n",
      "20     11247.086003      345.920019    22819.548522     843.447203\n",
      "21     11071.108249      368.897376    22802.344336     843.205554\n",
      "22     10946.234413      397.067842    22792.844636     787.387000\n",
      "23     10771.019898      357.811447    22795.373232     790.825276\n",
      "24     10611.121197      342.493617    22762.732828     759.477778\n",
      "25     10492.442747      324.873981    22706.861138     761.835243\n",
      "26     10321.349182      293.839824    22670.942230     760.717831\n",
      "27     10165.834992      281.032500    22688.500645     747.826240\n",
      "28     10042.328725      309.880642    22686.836227     758.738427\n",
      "29      9854.597937      307.271647    22658.155148     753.034938\n",
      "30      9750.207718      293.183358    22642.075162     724.681611\n",
      "31      9621.496609      295.504642    22603.597278     723.965266\n",
      "32      9410.369081      260.187012    22537.135022     779.999474\n",
      "33      9275.639566      248.578456    22539.865316     775.463502\n",
      "34      9131.632843      211.565377    22464.720931     794.962618\n",
      "35      9044.094510      221.733540    22458.332902     766.262013\n",
      "36      8939.478907      249.093892    22480.864595     773.634466\n",
      "37      8798.292139      253.946189    22492.506679     781.264383\n",
      "38      8615.131882      214.388379    22422.048749     761.550070\n"
     ]
    }
   ],
   "source": [
    "\n",
    "housing_dmatrix = xgb.DMatrix(data=X,label=y)\n",
    "\n",
    "\n",
    "params = {\"objective\":\"reg:linear\", \"max_depth\":4}\n",
    "\n",
    "\n",
    "cv_results = xgb.cv(dtrain=housing_dmatrix, params=params, nfold=3, num_boost_round=50, early_stopping_rounds=10, metrics=\"rmse\", as_pandas=True, seed=123)\n",
    "\n",
    "\n",
    "print(cv_results)"
   ]
  },
  {
   "cell_type": "markdown",
   "id": "344f3d46-7e76-4044-8bad-bdd108040517",
   "metadata": {},
   "source": [
    "### Automated boosting round selection using early_stopping"
   ]
  },
  {
   "cell_type": "code",
   "execution_count": 6,
   "id": "5b1efc61-39cd-4d57-80a2-b2a97d65cbf2",
   "metadata": {},
   "outputs": [
    {
     "name": "stdout",
     "output_type": "stream",
     "text": [
      "    train-rmse-mean  train-rmse-std  test-rmse-mean  test-rmse-std\n",
      "0      77031.058568       55.660752    77804.773691     346.814023\n",
      "1      56869.233006      229.127281    58548.550123     575.781370\n",
      "2      42902.933831      378.049821    45559.286250    1066.800468\n",
      "3      33289.856892      482.771472    36914.972775    1339.198748\n",
      "4      26863.055100      553.115223    31550.551870    1636.243742\n",
      "5      22512.458156      542.658794    28330.335832    1774.720809\n",
      "6      19509.184153      482.049651    26265.675997    1651.202276\n",
      "7      17389.677475      543.888949    25025.399209    1532.873294\n",
      "8      15948.717364      544.908739    24278.221018    1464.283362\n",
      "9      14936.607887      507.480881    23865.993785    1216.674852\n",
      "10     14177.968566      552.541873    23452.717203    1268.423089\n",
      "11     13496.755524      504.091805    23246.076461    1106.999593\n",
      "12     12996.723136      379.083534    23101.533140    1026.005550\n",
      "13     12675.871782      379.596774    23081.842970    1021.520356\n",
      "14     12416.322744      341.385927    23077.991991    1000.938442\n",
      "15     12213.764965      337.676241    22939.887654     891.969345\n",
      "16     11969.977896      302.456199    22908.263425     876.610195\n",
      "17     11772.531923      263.328376    22884.967626     808.241925\n",
      "18     11551.003037      367.444690    22890.072385     804.685799\n",
      "19     11405.317243      378.104636    22843.248841     848.760013\n",
      "20     11247.086003      345.920019    22819.548522     843.447203\n",
      "21     11071.108249      368.897376    22802.344336     843.205554\n",
      "22     10946.234413      397.067842    22792.844636     787.387000\n",
      "23     10771.019898      357.811447    22795.373232     790.825276\n",
      "24     10611.121197      342.493617    22762.732828     759.477778\n",
      "25     10492.442747      324.873981    22706.861138     761.835243\n",
      "26     10321.349182      293.839824    22670.942230     760.717831\n",
      "27     10165.834992      281.032500    22688.500645     747.826240\n",
      "28     10042.328725      309.880642    22686.836227     758.738427\n",
      "29      9854.597937      307.271647    22658.155148     753.034938\n",
      "30      9750.207718      293.183358    22642.075162     724.681611\n",
      "31      9621.496609      295.504642    22603.597278     723.965266\n",
      "32      9410.369081      260.187012    22537.135022     779.999474\n",
      "33      9275.639566      248.578456    22539.865316     775.463502\n",
      "34      9131.632843      211.565377    22464.720931     794.962618\n",
      "35      9044.094510      221.733540    22458.332902     766.262013\n",
      "36      8939.478907      249.093892    22480.864595     773.634466\n",
      "37      8798.292139      253.946189    22492.506679     781.264383\n",
      "38      8615.131882      214.388379    22422.048749     761.550070\n"
     ]
    },
    {
     "name": "stderr",
     "output_type": "stream",
     "text": [
      "/Users/hozler/Notebooks/venv-3.8/lib/python3.8/site-packages/xgboost/core.py:160: UserWarning: [20:35:43] WARNING: /Users/runner/work/xgboost/xgboost/src/objective/regression_obj.cu:209: reg:linear is now deprecated in favor of reg:squarederror.\n",
      "  warnings.warn(smsg, UserWarning)\n"
     ]
    }
   ],
   "source": [
    "\n",
    "housing_dmatrix = xgb.DMatrix(data=X,label=y)\n",
    "\n",
    "\n",
    "params = {\"objective\":\"reg:linear\", \"max_depth\":4}\n",
    "\n",
    "\n",
    "cv_results = xgb.cv(dtrain=housing_dmatrix, params=params, nfold=3, num_boost_round=50, early_stopping_rounds=10, metrics=\"rmse\", as_pandas=True, seed=123)\n",
    "\n",
    "\n",
    "print(cv_results)"
   ]
  },
  {
   "cell_type": "markdown",
   "id": "4286d540-42ad-4a19-8fbc-bf5a8f391353",
   "metadata": {},
   "source": [
    "### Tuning eta"
   ]
  },
  {
   "cell_type": "code",
   "execution_count": 7,
   "id": "6018248f-dba5-47a8-8d81-e585d0b70479",
   "metadata": {},
   "outputs": [
    {
     "name": "stdout",
     "output_type": "stream",
     "text": [
      "     eta      best_rmse\n",
      "0  0.001  105215.605318\n",
      "1  0.010   97036.286483\n",
      "2  0.100   46194.446726\n"
     ]
    },
    {
     "name": "stderr",
     "output_type": "stream",
     "text": [
      "/Users/hozler/Notebooks/venv-3.8/lib/python3.8/site-packages/xgboost/core.py:160: UserWarning: [20:35:43] WARNING: /Users/runner/work/xgboost/xgboost/src/objective/regression_obj.cu:209: reg:linear is now deprecated in favor of reg:squarederror.\n",
      "  warnings.warn(smsg, UserWarning)\n"
     ]
    }
   ],
   "source": [
    "\n",
    "housing_dmatrix = xgb.DMatrix(data=X, label=y)\n",
    "\n",
    "\n",
    "params = {\"objective\":\"reg:linear\", \"max_depth\":3}\n",
    "\n",
    "\n",
    "eta_vals = [0.001, 0.01, 0.1]\n",
    "best_rmse = []\n",
    "\n",
    "\n",
    "for curr_val in eta_vals:\n",
    "\n",
    "    params[\"eta\"] = curr_val\n",
    "    \n",
    "    \n",
    "    cv_results = xgb.cv(dtrain=housing_dmatrix, params=params, nfold=3, num_boost_round=10, early_stopping_rounds=5, metrics=\"rmse\", as_pandas=True, seed=123)\n",
    "    \n",
    "    \n",
    "    \n",
    "    \n",
    "    best_rmse.append(cv_results[\"test-rmse-mean\"].tail().values[-1])\n",
    "\n",
    "\n",
    "print(pd.DataFrame(list(zip(eta_vals, best_rmse)), columns=[\"eta\",\"best_rmse\"]))"
   ]
  },
  {
   "cell_type": "markdown",
   "id": "a27fee46-c428-40a9-a4c8-a71dcc3f84fe",
   "metadata": {},
   "source": [
    "### Tuning max_depth"
   ]
  },
  {
   "cell_type": "code",
   "execution_count": 8,
   "id": "269662a6-2078-411e-b852-9386581ce6ef",
   "metadata": {},
   "outputs": [
    {
     "name": "stderr",
     "output_type": "stream",
     "text": [
      "/Users/hozler/Notebooks/venv-3.8/lib/python3.8/site-packages/xgboost/core.py:160: UserWarning: [20:35:43] WARNING: /Users/runner/work/xgboost/xgboost/src/objective/regression_obj.cu:209: reg:linear is now deprecated in favor of reg:squarederror.\n",
      "  warnings.warn(smsg, UserWarning)\n"
     ]
    },
    {
     "name": "stdout",
     "output_type": "stream",
     "text": [
      "   max_depth     best_rmse\n",
      "0          2  26089.818995\n",
      "1          5  24656.821221\n",
      "2         10  26252.971590\n",
      "3         20  26281.207341\n"
     ]
    }
   ],
   "source": [
    "\n",
    "housing_dmatrix = xgb.DMatrix(data=X,label=y)\n",
    "\n",
    "\n",
    "params = {\"objective\":\"reg:linear\"}\n",
    "\n",
    "\n",
    "max_depths = [2, 5, 10, 20]\n",
    "best_rmse = []\n",
    "\n",
    "\n",
    "for curr_val in max_depths:\n",
    "\n",
    "    params[\"max_depth\"] = curr_val\n",
    "    \n",
    "    \n",
    "    cv_results = xgb.cv(dtrain=housing_dmatrix, params=params, nfold=2,\n",
    "                 num_boost_round=10, early_stopping_rounds=5,\n",
    "                 metrics=\"rmse\", as_pandas=True, seed=123)\n",
    "    \n",
    "    \n",
    "    best_rmse.append(cv_results[\"test-rmse-mean\"].tail().values[-1])\n",
    "\n",
    "\n",
    "print(pd.DataFrame(list(zip(max_depths, best_rmse)),columns=[\"max_depth\",\"best_rmse\"]))"
   ]
  },
  {
   "cell_type": "markdown",
   "id": "a77af989-d3d1-40f5-8793-60afb1c63f41",
   "metadata": {},
   "source": [
    "### Tuning colsample_bytree"
   ]
  },
  {
   "cell_type": "code",
   "execution_count": 9,
   "id": "0ca72556-5771-43b4-9714-63e257148974",
   "metadata": {},
   "outputs": [
    {
     "name": "stderr",
     "output_type": "stream",
     "text": [
      "/Users/hozler/Notebooks/venv-3.8/lib/python3.8/site-packages/xgboost/core.py:160: UserWarning: [09:18:10] WARNING: /Users/runner/work/xgboost/xgboost/src/objective/regression_obj.cu:209: reg:linear is now deprecated in favor of reg:squarederror.\n",
      "  warnings.warn(smsg, UserWarning)\n"
     ]
    },
    {
     "name": "stdout",
     "output_type": "stream",
     "text": [
      "   colsample_bytree     best_rmse\n",
      "0               0.1  36344.760198\n",
      "1               0.5  24828.438744\n",
      "2               0.8  24646.365638\n",
      "3               1.0  24957.385547\n"
     ]
    }
   ],
   "source": [
    "\n",
    "housing_dmatrix = xgb.DMatrix(data=X,label=y)\n",
    "\n",
    "\n",
    "params={\"objective\":\"reg:linear\",\"max_depth\":3}\n",
    "\n",
    "\n",
    "colsample_bytree_vals = [0.1, 0.5, 0.8, 1]\n",
    "best_rmse = []\n",
    "\n",
    "\n",
    "for curr_val in colsample_bytree_vals:\n",
    "\n",
    "    params[\"colsample_bytree\"] = curr_val\n",
    "    \n",
    "    \n",
    "    cv_results = xgb.cv(dtrain=housing_dmatrix, params=params, nfold=2,\n",
    "                 num_boost_round=10, early_stopping_rounds=5,\n",
    "                 metrics=\"rmse\", as_pandas=True, seed=123)\n",
    "    \n",
    "    \n",
    "    best_rmse.append(cv_results[\"test-rmse-mean\"].tail().values[-1])\n",
    "\n",
    "\n",
    "print(pd.DataFrame(list(zip(colsample_bytree_vals, best_rmse)), columns=[\"colsample_bytree\",\"best_rmse\"]))"
   ]
  },
  {
   "cell_type": "code",
   "execution_count": null,
   "id": "66e0a022-f3a6-4567-9446-c45d89ac8c6a",
   "metadata": {},
   "outputs": [],
   "source": []
  }
 ],
 "metadata": {
  "kernelspec": {
   "display_name": "Python 3 (ipykernel)",
   "language": "python",
   "name": "python3"
  },
  "language_info": {
   "codemirror_mode": {
    "name": "ipython",
    "version": 3
   },
   "file_extension": ".py",
   "mimetype": "text/x-python",
   "name": "python",
   "nbconvert_exporter": "python",
   "pygments_lexer": "ipython3",
   "version": "3.8.0"
  }
 },
 "nbformat": 4,
 "nbformat_minor": 5
}
