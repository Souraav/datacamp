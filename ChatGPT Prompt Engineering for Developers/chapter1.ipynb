{
 "cells": [
  {
   "cell_type": "markdown",
   "id": "580e640b-0285-41fc-a5a8-3d44192fda70",
   "metadata": {},
   "source": [
    "# ChatGPT Prompt Engineering for Developers"
   ]
  },
  {
   "cell_type": "markdown",
   "id": "a082a5fe-d634-4aa8-a025-43cf7729ccb2",
   "metadata": {},
   "source": [
    "## Introduction to Prompt Engineering Best Practices\n"
   ]
  },
  {
   "cell_type": "markdown",
   "id": "9b23a84e-0d6d-4196-b27c-59c2a8635bba",
   "metadata": {},
   "source": [
    "### Creating the get_response() function"
   ]
  },
  {
   "cell_type": "code",
   "execution_count": null,
   "id": "4041f2ca-8bfa-4951-b89d-f775aef330cc",
   "metadata": {},
   "outputs": [],
   "source": [
    "pip install openai"
   ]
  },
  {
   "cell_type": "code",
   "execution_count": 4,
   "id": "ecf291ae-3c86-403c-bc7f-33d31bbac452",
   "metadata": {},
   "outputs": [],
   "source": [
    "from openai import OpenAI"
   ]
  },
  {
   "cell_type": "code",
   "execution_count": null,
   "id": "fef6a6e3-068e-4ec9-aa22-69e447b6613a",
   "metadata": {},
   "outputs": [],
   "source": [
    "\n",
    "client = OpenAI(api_key=\"\")\n",
    "\n",
    "def get_response(prompt):\n",
    "    \n",
    "    response = client.chat.completions.create(\n",
    "        model=\"gpt-3.5-turbo\",\n",
    "        \n",
    "        messages=[{\"role\": \"user\", \"content\": prompt}], \n",
    "        temperature = 0)\n",
    "    return response.choices[0].message.content\n",
    "\n",
    "\n",
    "response = get_response(\"Write a poem about ChatGPT\")\n",
    "print(response)"
   ]
  },
  {
   "cell_type": "markdown",
   "id": "02b72c6c-5dc4-444e-9fbb-58fd5ce54128",
   "metadata": {},
   "source": [
    "### Exploring prompt engineering"
   ]
  },
  {
   "cell_type": "code",
   "execution_count": null,
   "id": "0771fc72-add1-4e6e-8067-93fbb8d72cb3",
   "metadata": {},
   "outputs": [],
   "source": [
    "\n",
    "prompt = \"Write a poem about ChatGPT. Use basic English that a child can understand.\"\n",
    "\n",
    "\n",
    "response = get_response(prompt)\n",
    "\n",
    "print(response)"
   ]
  },
  {
   "cell_type": "markdown",
   "id": "66dc7b19-d72b-47a6-a80e-8ed2369df63f",
   "metadata": {},
   "source": [
    "### Creating the get_response() function"
   ]
  },
  {
   "cell_type": "code",
   "execution_count": null,
   "id": "ad03b105-1ab0-4153-9c72-ce2baeaaad60",
   "metadata": {},
   "outputs": [],
   "source": [
    "def get_response(prompt):\n",
    "    \n",
    "    response = client.chat.completions.create(\n",
    "    model=\"gpt-3.5-turbo\",\n",
    "    \n",
    "    messages=[{\"role\": \"user\", \"content\": prompt}], \n",
    "    temperature = 0)\n",
    "    return response.choices[0].message.content\n",
    "\n",
    "\n",
    "response = get_response(\"Write a poem about ChatGPT\")\n",
    "print(response)"
   ]
  },
  {
   "cell_type": "markdown",
   "id": "9e25921d-6176-472e-99bb-95d018890783",
   "metadata": {},
   "source": [
    "### Exploring prompt engineering"
   ]
  },
  {
   "cell_type": "code",
   "execution_count": null,
   "id": "418c4ab7-7f5a-41e3-a9db-128545fb3996",
   "metadata": {},
   "outputs": [],
   "source": [
    "\n",
    "prompt = \"Write a poem about ChatGPT. Use basic English that a child can understand.\"\n",
    "\n",
    "\n",
    "response = get_response(prompt)\n",
    "\n",
    "print(response)"
   ]
  },
  {
   "cell_type": "code",
   "execution_count": null,
   "id": "4f7542da-b43c-4e7c-a817-8b5c827696f8",
   "metadata": {},
   "outputs": [],
   "source": []
  }
 ],
 "metadata": {
  "kernelspec": {
   "display_name": "Python 3 (ipykernel)",
   "language": "python",
   "name": "python3"
  },
  "language_info": {
   "codemirror_mode": {
    "name": "ipython",
    "version": 3
   },
   "file_extension": ".py",
   "mimetype": "text/x-python",
   "name": "python",
   "nbconvert_exporter": "python",
   "pygments_lexer": "ipython3",
   "version": "3.8.0"
  }
 },
 "nbformat": 4,
 "nbformat_minor": 5
}
