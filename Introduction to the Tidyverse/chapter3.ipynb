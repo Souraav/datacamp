{
 "cells": [
  {
   "cell_type": "markdown",
   "id": "1f9ffdbd-a009-44a4-b6ae-ddc5792de2f3",
   "metadata": {},
   "source": [
    "# Introduction to the Tidyverse"
   ]
  },
  {
   "cell_type": "markdown",
   "id": "84246d15-f005-44de-acbb-08ab674ecbd7",
   "metadata": {},
   "source": [
    "## Grouping and summarizing"
   ]
  },
  {
   "cell_type": "markdown",
   "id": "87ea426c-f903-40d6-ad18-164f40361d6d",
   "metadata": {},
   "source": [
    "### Summarizing the median life expectancy"
   ]
  },
  {
   "cell_type": "code",
   "execution_count": 1,
   "id": "5d0c6d4e-8b71-47ee-a8ad-2646ce1ebee4",
   "metadata": {},
   "outputs": [
    {
     "name": "stderr",
     "output_type": "stream",
     "text": [
      "\n",
      "Attaching package: ‘dplyr’\n",
      "\n",
      "\n",
      "The following objects are masked from ‘package:stats’:\n",
      "\n",
      "    filter, lag\n",
      "\n",
      "\n",
      "The following objects are masked from ‘package:base’:\n",
      "\n",
      "    intersect, setdiff, setequal, union\n",
      "\n",
      "\n"
     ]
    },
    {
     "data": {
      "text/html": [
       "<table class=\"dataframe\">\n",
       "<caption>A tibble: 1 × 1</caption>\n",
       "<thead>\n",
       "\t<tr><th scope=col>medianLifeExp</th></tr>\n",
       "\t<tr><th scope=col>&lt;dbl&gt;</th></tr>\n",
       "</thead>\n",
       "<tbody>\n",
       "\t<tr><td>60.7125</td></tr>\n",
       "</tbody>\n",
       "</table>\n"
      ],
      "text/latex": [
       "A tibble: 1 × 1\n",
       "\\begin{tabular}{l}\n",
       " medianLifeExp\\\\\n",
       " <dbl>\\\\\n",
       "\\hline\n",
       "\t 60.7125\\\\\n",
       "\\end{tabular}\n"
      ],
      "text/markdown": [
       "\n",
       "A tibble: 1 × 1\n",
       "\n",
       "| medianLifeExp &lt;dbl&gt; |\n",
       "|---|\n",
       "| 60.7125 |\n",
       "\n"
      ],
      "text/plain": [
       "  medianLifeExp\n",
       "1 60.7125      "
      ]
     },
     "metadata": {},
     "output_type": "display_data"
    }
   ],
   "source": [
    "library(gapminder)\n",
    "library(dplyr)\n",
    "library(ggplot2)\n",
    "\n",
    "\n",
    "gapminder %>%  \n",
    "    summarize(medianLifeExp = median(lifeExp))"
   ]
  },
  {
   "cell_type": "markdown",
   "id": "1bf99e9c-c176-41f2-80df-3d6a5e2e19bf",
   "metadata": {},
   "source": [
    "### Summarizing the median life expectancy in 1957"
   ]
  },
  {
   "cell_type": "code",
   "execution_count": 2,
   "id": "ecba6f53-0008-4ca6-b5ad-2af558ed657f",
   "metadata": {},
   "outputs": [
    {
     "data": {
      "text/html": [
       "<table class=\"dataframe\">\n",
       "<caption>A tibble: 1 × 1</caption>\n",
       "<thead>\n",
       "\t<tr><th scope=col>medianLifeExp</th></tr>\n",
       "\t<tr><th scope=col>&lt;dbl&gt;</th></tr>\n",
       "</thead>\n",
       "<tbody>\n",
       "\t<tr><td>48.3605</td></tr>\n",
       "</tbody>\n",
       "</table>\n"
      ],
      "text/latex": [
       "A tibble: 1 × 1\n",
       "\\begin{tabular}{l}\n",
       " medianLifeExp\\\\\n",
       " <dbl>\\\\\n",
       "\\hline\n",
       "\t 48.3605\\\\\n",
       "\\end{tabular}\n"
      ],
      "text/markdown": [
       "\n",
       "A tibble: 1 × 1\n",
       "\n",
       "| medianLifeExp &lt;dbl&gt; |\n",
       "|---|\n",
       "| 48.3605 |\n",
       "\n"
      ],
      "text/plain": [
       "  medianLifeExp\n",
       "1 48.3605      "
      ]
     },
     "metadata": {},
     "output_type": "display_data"
    }
   ],
   "source": [
    "gapminder %>%  \n",
    "    filter(year == 1957) %>%\n",
    "    summarize(medianLifeExp = median(lifeExp))"
   ]
  },
  {
   "cell_type": "markdown",
   "id": "b80b6e8f-8eb9-4d10-8962-bd7d301a996b",
   "metadata": {},
   "source": [
    "### Summarizing multiple variables in 1957"
   ]
  },
  {
   "cell_type": "code",
   "execution_count": 3,
   "id": "d5f463ab-2790-43e1-96c7-04a402d75807",
   "metadata": {},
   "outputs": [
    {
     "data": {
      "text/html": [
       "<table class=\"dataframe\">\n",
       "<caption>A tibble: 1 × 2</caption>\n",
       "<thead>\n",
       "\t<tr><th scope=col>medianLifeExp</th><th scope=col>maxGdpPercap</th></tr>\n",
       "\t<tr><th scope=col>&lt;dbl&gt;</th><th scope=col>&lt;dbl&gt;</th></tr>\n",
       "</thead>\n",
       "<tbody>\n",
       "\t<tr><td>48.3605</td><td>113523.1</td></tr>\n",
       "</tbody>\n",
       "</table>\n"
      ],
      "text/latex": [
       "A tibble: 1 × 2\n",
       "\\begin{tabular}{ll}\n",
       " medianLifeExp & maxGdpPercap\\\\\n",
       " <dbl> & <dbl>\\\\\n",
       "\\hline\n",
       "\t 48.3605 & 113523.1\\\\\n",
       "\\end{tabular}\n"
      ],
      "text/markdown": [
       "\n",
       "A tibble: 1 × 2\n",
       "\n",
       "| medianLifeExp &lt;dbl&gt; | maxGdpPercap &lt;dbl&gt; |\n",
       "|---|---|\n",
       "| 48.3605 | 113523.1 |\n",
       "\n"
      ],
      "text/plain": [
       "  medianLifeExp maxGdpPercap\n",
       "1 48.3605       113523.1    "
      ]
     },
     "metadata": {},
     "output_type": "display_data"
    }
   ],
   "source": [
    "\n",
    "gapminder %>%  \n",
    "    filter(year == 1957) %>%  \n",
    "    summarize(medianLifeExp = median(lifeExp), maxGdpPercap = max(gdpPercap))"
   ]
  },
  {
   "cell_type": "markdown",
   "id": "04daadb4-fd24-4cdd-8213-9a69ac385f65",
   "metadata": {},
   "source": [
    "### Summarizing by year"
   ]
  },
  {
   "cell_type": "code",
   "execution_count": 4,
   "id": "8296ebb2-2e82-4ebb-82de-bb90257db997",
   "metadata": {},
   "outputs": [
    {
     "data": {
      "text/html": [
       "<table class=\"dataframe\">\n",
       "<caption>A tibble: 12 × 3</caption>\n",
       "<thead>\n",
       "\t<tr><th scope=col>year</th><th scope=col>medianLifeExp</th><th scope=col>maxGdpPercap</th></tr>\n",
       "\t<tr><th scope=col>&lt;int&gt;</th><th scope=col>&lt;dbl&gt;</th><th scope=col>&lt;dbl&gt;</th></tr>\n",
       "</thead>\n",
       "<tbody>\n",
       "\t<tr><td>1952</td><td>45.1355</td><td>108382.35</td></tr>\n",
       "\t<tr><td>1957</td><td>48.3605</td><td>113523.13</td></tr>\n",
       "\t<tr><td>1962</td><td>50.8810</td><td> 95458.11</td></tr>\n",
       "\t<tr><td>1967</td><td>53.8250</td><td> 80894.88</td></tr>\n",
       "\t<tr><td>1972</td><td>56.5300</td><td>109347.87</td></tr>\n",
       "\t<tr><td>1977</td><td>59.6720</td><td> 59265.48</td></tr>\n",
       "\t<tr><td>1982</td><td>62.4415</td><td> 33693.18</td></tr>\n",
       "\t<tr><td>1987</td><td>65.8340</td><td> 31540.97</td></tr>\n",
       "\t<tr><td>1992</td><td>67.7030</td><td> 34932.92</td></tr>\n",
       "\t<tr><td>1997</td><td>69.3940</td><td> 41283.16</td></tr>\n",
       "\t<tr><td>2002</td><td>70.8255</td><td> 44683.98</td></tr>\n",
       "\t<tr><td>2007</td><td>71.9355</td><td> 49357.19</td></tr>\n",
       "</tbody>\n",
       "</table>\n"
      ],
      "text/latex": [
       "A tibble: 12 × 3\n",
       "\\begin{tabular}{lll}\n",
       " year & medianLifeExp & maxGdpPercap\\\\\n",
       " <int> & <dbl> & <dbl>\\\\\n",
       "\\hline\n",
       "\t 1952 & 45.1355 & 108382.35\\\\\n",
       "\t 1957 & 48.3605 & 113523.13\\\\\n",
       "\t 1962 & 50.8810 &  95458.11\\\\\n",
       "\t 1967 & 53.8250 &  80894.88\\\\\n",
       "\t 1972 & 56.5300 & 109347.87\\\\\n",
       "\t 1977 & 59.6720 &  59265.48\\\\\n",
       "\t 1982 & 62.4415 &  33693.18\\\\\n",
       "\t 1987 & 65.8340 &  31540.97\\\\\n",
       "\t 1992 & 67.7030 &  34932.92\\\\\n",
       "\t 1997 & 69.3940 &  41283.16\\\\\n",
       "\t 2002 & 70.8255 &  44683.98\\\\\n",
       "\t 2007 & 71.9355 &  49357.19\\\\\n",
       "\\end{tabular}\n"
      ],
      "text/markdown": [
       "\n",
       "A tibble: 12 × 3\n",
       "\n",
       "| year &lt;int&gt; | medianLifeExp &lt;dbl&gt; | maxGdpPercap &lt;dbl&gt; |\n",
       "|---|---|---|\n",
       "| 1952 | 45.1355 | 108382.35 |\n",
       "| 1957 | 48.3605 | 113523.13 |\n",
       "| 1962 | 50.8810 |  95458.11 |\n",
       "| 1967 | 53.8250 |  80894.88 |\n",
       "| 1972 | 56.5300 | 109347.87 |\n",
       "| 1977 | 59.6720 |  59265.48 |\n",
       "| 1982 | 62.4415 |  33693.18 |\n",
       "| 1987 | 65.8340 |  31540.97 |\n",
       "| 1992 | 67.7030 |  34932.92 |\n",
       "| 1997 | 69.3940 |  41283.16 |\n",
       "| 2002 | 70.8255 |  44683.98 |\n",
       "| 2007 | 71.9355 |  49357.19 |\n",
       "\n"
      ],
      "text/plain": [
       "   year medianLifeExp maxGdpPercap\n",
       "1  1952 45.1355       108382.35   \n",
       "2  1957 48.3605       113523.13   \n",
       "3  1962 50.8810        95458.11   \n",
       "4  1967 53.8250        80894.88   \n",
       "5  1972 56.5300       109347.87   \n",
       "6  1977 59.6720        59265.48   \n",
       "7  1982 62.4415        33693.18   \n",
       "8  1987 65.8340        31540.97   \n",
       "9  1992 67.7030        34932.92   \n",
       "10 1997 69.3940        41283.16   \n",
       "11 2002 70.8255        44683.98   \n",
       "12 2007 71.9355        49357.19   "
      ]
     },
     "metadata": {},
     "output_type": "display_data"
    }
   ],
   "source": [
    "\n",
    "gapminder %>%  \n",
    "    group_by(year) %>% \n",
    "    summarize(medianLifeExp = median(lifeExp), maxGdpPercap = max(gdpPercap))"
   ]
  },
  {
   "cell_type": "markdown",
   "id": "b2a437d7-e7db-4bb0-9bab-88a02c3302bb",
   "metadata": {},
   "source": [
    "### Summarizing by continent"
   ]
  },
  {
   "cell_type": "code",
   "execution_count": 5,
   "id": "9e1af135-0235-495d-8ba2-f4c5bf5eb5d9",
   "metadata": {},
   "outputs": [
    {
     "data": {
      "text/html": [
       "<table class=\"dataframe\">\n",
       "<caption>A tibble: 5 × 3</caption>\n",
       "<thead>\n",
       "\t<tr><th scope=col>continent</th><th scope=col>medianLifeExp</th><th scope=col>maxGdpPercap</th></tr>\n",
       "\t<tr><th scope=col>&lt;fct&gt;</th><th scope=col>&lt;dbl&gt;</th><th scope=col>&lt;dbl&gt;</th></tr>\n",
       "</thead>\n",
       "<tbody>\n",
       "\t<tr><td>Africa  </td><td>40.5925</td><td>  5487.104</td></tr>\n",
       "\t<tr><td>Americas</td><td>56.0740</td><td> 14847.127</td></tr>\n",
       "\t<tr><td>Asia    </td><td>48.2840</td><td>113523.133</td></tr>\n",
       "\t<tr><td>Europe  </td><td>67.6500</td><td> 17909.490</td></tr>\n",
       "\t<tr><td>Oceania </td><td>70.2950</td><td> 12247.395</td></tr>\n",
       "</tbody>\n",
       "</table>\n"
      ],
      "text/latex": [
       "A tibble: 5 × 3\n",
       "\\begin{tabular}{lll}\n",
       " continent & medianLifeExp & maxGdpPercap\\\\\n",
       " <fct> & <dbl> & <dbl>\\\\\n",
       "\\hline\n",
       "\t Africa   & 40.5925 &   5487.104\\\\\n",
       "\t Americas & 56.0740 &  14847.127\\\\\n",
       "\t Asia     & 48.2840 & 113523.133\\\\\n",
       "\t Europe   & 67.6500 &  17909.490\\\\\n",
       "\t Oceania  & 70.2950 &  12247.395\\\\\n",
       "\\end{tabular}\n"
      ],
      "text/markdown": [
       "\n",
       "A tibble: 5 × 3\n",
       "\n",
       "| continent &lt;fct&gt; | medianLifeExp &lt;dbl&gt; | maxGdpPercap &lt;dbl&gt; |\n",
       "|---|---|---|\n",
       "| Africa   | 40.5925 |   5487.104 |\n",
       "| Americas | 56.0740 |  14847.127 |\n",
       "| Asia     | 48.2840 | 113523.133 |\n",
       "| Europe   | 67.6500 |  17909.490 |\n",
       "| Oceania  | 70.2950 |  12247.395 |\n",
       "\n"
      ],
      "text/plain": [
       "  continent medianLifeExp maxGdpPercap\n",
       "1 Africa    40.5925         5487.104  \n",
       "2 Americas  56.0740        14847.127  \n",
       "3 Asia      48.2840       113523.133  \n",
       "4 Europe    67.6500        17909.490  \n",
       "5 Oceania   70.2950        12247.395  "
      ]
     },
     "metadata": {},
     "output_type": "display_data"
    }
   ],
   "source": [
    "\n",
    "gapminder %>%  \n",
    "    filter(year==1957) %>%\n",
    "    group_by(continent) %>% \n",
    "    summarize(medianLifeExp = median(lifeExp), maxGdpPercap = max(gdpPercap))"
   ]
  },
  {
   "cell_type": "markdown",
   "id": "e28468df-e0f2-4f73-8aa4-af4940093444",
   "metadata": {},
   "source": [
    "### Summarizing by continent and year"
   ]
  },
  {
   "cell_type": "code",
   "execution_count": 6,
   "id": "0562c10a-8494-42f9-896f-46a00ad23a74",
   "metadata": {},
   "outputs": [
    {
     "name": "stderr",
     "output_type": "stream",
     "text": [
      "\u001b[1m\u001b[22m`summarise()` has grouped output by 'continent'. You can override using the `.groups` argument.\n"
     ]
    },
    {
     "data": {
      "text/html": [
       "<table class=\"dataframe\">\n",
       "<caption>A grouped_df: 60 × 4</caption>\n",
       "<thead>\n",
       "\t<tr><th scope=col>continent</th><th scope=col>year</th><th scope=col>medianLifeExp</th><th scope=col>maxGdpPercap</th></tr>\n",
       "\t<tr><th scope=col>&lt;fct&gt;</th><th scope=col>&lt;int&gt;</th><th scope=col>&lt;dbl&gt;</th><th scope=col>&lt;dbl&gt;</th></tr>\n",
       "</thead>\n",
       "<tbody>\n",
       "\t<tr><td>Africa  </td><td>1952</td><td>38.8330</td><td>  4725.296</td></tr>\n",
       "\t<tr><td>Africa  </td><td>1957</td><td>40.5925</td><td>  5487.104</td></tr>\n",
       "\t<tr><td>Africa  </td><td>1962</td><td>42.6305</td><td>  6757.031</td></tr>\n",
       "\t<tr><td>Africa  </td><td>1967</td><td>44.6985</td><td> 18772.752</td></tr>\n",
       "\t<tr><td>Africa  </td><td>1972</td><td>47.0315</td><td> 21011.497</td></tr>\n",
       "\t<tr><td>Africa  </td><td>1977</td><td>49.2725</td><td> 21951.212</td></tr>\n",
       "\t<tr><td>Africa  </td><td>1982</td><td>50.7560</td><td> 17364.275</td></tr>\n",
       "\t<tr><td>Africa  </td><td>1987</td><td>51.6395</td><td> 11864.408</td></tr>\n",
       "\t<tr><td>Africa  </td><td>1992</td><td>52.4290</td><td> 13522.158</td></tr>\n",
       "\t<tr><td>Africa  </td><td>1997</td><td>52.7590</td><td> 14722.842</td></tr>\n",
       "\t<tr><td>Africa  </td><td>2002</td><td>51.2355</td><td> 12521.714</td></tr>\n",
       "\t<tr><td>Africa  </td><td>2007</td><td>52.9265</td><td> 13206.485</td></tr>\n",
       "\t<tr><td>Americas</td><td>1952</td><td>54.7450</td><td> 13990.482</td></tr>\n",
       "\t<tr><td>Americas</td><td>1957</td><td>56.0740</td><td> 14847.127</td></tr>\n",
       "\t<tr><td>Americas</td><td>1962</td><td>58.2990</td><td> 16173.146</td></tr>\n",
       "\t<tr><td>Americas</td><td>1967</td><td>60.5230</td><td> 19530.366</td></tr>\n",
       "\t<tr><td>Americas</td><td>1972</td><td>63.4410</td><td> 21806.036</td></tr>\n",
       "\t<tr><td>Americas</td><td>1977</td><td>66.3530</td><td> 24072.632</td></tr>\n",
       "\t<tr><td>Americas</td><td>1982</td><td>67.4050</td><td> 25009.559</td></tr>\n",
       "\t<tr><td>Americas</td><td>1987</td><td>69.4980</td><td> 29884.350</td></tr>\n",
       "\t<tr><td>Americas</td><td>1992</td><td>69.8620</td><td> 32003.932</td></tr>\n",
       "\t<tr><td>Americas</td><td>1997</td><td>72.1460</td><td> 35767.433</td></tr>\n",
       "\t<tr><td>Americas</td><td>2002</td><td>72.0470</td><td> 39097.100</td></tr>\n",
       "\t<tr><td>Americas</td><td>2007</td><td>72.8990</td><td> 42951.653</td></tr>\n",
       "\t<tr><td>Asia    </td><td>1952</td><td>44.8690</td><td>108382.353</td></tr>\n",
       "\t<tr><td>Asia    </td><td>1957</td><td>48.2840</td><td>113523.133</td></tr>\n",
       "\t<tr><td>Asia    </td><td>1962</td><td>49.3250</td><td> 95458.112</td></tr>\n",
       "\t<tr><td>Asia    </td><td>1967</td><td>53.6550</td><td> 80894.883</td></tr>\n",
       "\t<tr><td>Asia    </td><td>1972</td><td>56.9500</td><td>109347.867</td></tr>\n",
       "\t<tr><td>Asia    </td><td>1977</td><td>60.7650</td><td> 59265.477</td></tr>\n",
       "\t<tr><td>Asia    </td><td>1982</td><td>63.7390</td><td> 33693.175</td></tr>\n",
       "\t<tr><td>Asia    </td><td>1987</td><td>66.2950</td><td> 28118.430</td></tr>\n",
       "\t<tr><td>Asia    </td><td>1992</td><td>68.6900</td><td> 34932.920</td></tr>\n",
       "\t<tr><td>Asia    </td><td>1997</td><td>70.2650</td><td> 40300.620</td></tr>\n",
       "\t<tr><td>Asia    </td><td>2002</td><td>71.0280</td><td> 36023.105</td></tr>\n",
       "\t<tr><td>Asia    </td><td>2007</td><td>72.3960</td><td> 47306.990</td></tr>\n",
       "\t<tr><td>Europe  </td><td>1952</td><td>65.9000</td><td> 14734.233</td></tr>\n",
       "\t<tr><td>Europe  </td><td>1957</td><td>67.6500</td><td> 17909.490</td></tr>\n",
       "\t<tr><td>Europe  </td><td>1962</td><td>69.5250</td><td> 20431.093</td></tr>\n",
       "\t<tr><td>Europe  </td><td>1967</td><td>70.6100</td><td> 22966.144</td></tr>\n",
       "\t<tr><td>Europe  </td><td>1972</td><td>70.8850</td><td> 27195.113</td></tr>\n",
       "\t<tr><td>Europe  </td><td>1977</td><td>72.3350</td><td> 26982.291</td></tr>\n",
       "\t<tr><td>Europe  </td><td>1982</td><td>73.4900</td><td> 28397.715</td></tr>\n",
       "\t<tr><td>Europe  </td><td>1987</td><td>74.8150</td><td> 31540.975</td></tr>\n",
       "\t<tr><td>Europe  </td><td>1992</td><td>75.4510</td><td> 33965.661</td></tr>\n",
       "\t<tr><td>Europe  </td><td>1997</td><td>76.1160</td><td> 41283.164</td></tr>\n",
       "\t<tr><td>Europe  </td><td>2002</td><td>77.5365</td><td> 44683.975</td></tr>\n",
       "\t<tr><td>Europe  </td><td>2007</td><td>78.6085</td><td> 49357.190</td></tr>\n",
       "\t<tr><td>Oceania </td><td>1952</td><td>69.2550</td><td> 10556.576</td></tr>\n",
       "\t<tr><td>Oceania </td><td>1957</td><td>70.2950</td><td> 12247.395</td></tr>\n",
       "\t<tr><td>Oceania </td><td>1962</td><td>71.0850</td><td> 13175.678</td></tr>\n",
       "\t<tr><td>Oceania </td><td>1967</td><td>71.3100</td><td> 14526.125</td></tr>\n",
       "\t<tr><td>Oceania </td><td>1972</td><td>71.9100</td><td> 16788.629</td></tr>\n",
       "\t<tr><td>Oceania </td><td>1977</td><td>72.8550</td><td> 18334.198</td></tr>\n",
       "\t<tr><td>Oceania </td><td>1982</td><td>74.2900</td><td> 19477.009</td></tr>\n",
       "\t<tr><td>Oceania </td><td>1987</td><td>75.3200</td><td> 21888.889</td></tr>\n",
       "\t<tr><td>Oceania </td><td>1992</td><td>76.9450</td><td> 23424.767</td></tr>\n",
       "\t<tr><td>Oceania </td><td>1997</td><td>78.1900</td><td> 26997.937</td></tr>\n",
       "\t<tr><td>Oceania </td><td>2002</td><td>79.7400</td><td> 30687.755</td></tr>\n",
       "\t<tr><td>Oceania </td><td>2007</td><td>80.7195</td><td> 34435.367</td></tr>\n",
       "</tbody>\n",
       "</table>\n"
      ],
      "text/latex": [
       "A grouped\\_df: 60 × 4\n",
       "\\begin{tabular}{llll}\n",
       " continent & year & medianLifeExp & maxGdpPercap\\\\\n",
       " <fct> & <int> & <dbl> & <dbl>\\\\\n",
       "\\hline\n",
       "\t Africa   & 1952 & 38.8330 &   4725.296\\\\\n",
       "\t Africa   & 1957 & 40.5925 &   5487.104\\\\\n",
       "\t Africa   & 1962 & 42.6305 &   6757.031\\\\\n",
       "\t Africa   & 1967 & 44.6985 &  18772.752\\\\\n",
       "\t Africa   & 1972 & 47.0315 &  21011.497\\\\\n",
       "\t Africa   & 1977 & 49.2725 &  21951.212\\\\\n",
       "\t Africa   & 1982 & 50.7560 &  17364.275\\\\\n",
       "\t Africa   & 1987 & 51.6395 &  11864.408\\\\\n",
       "\t Africa   & 1992 & 52.4290 &  13522.158\\\\\n",
       "\t Africa   & 1997 & 52.7590 &  14722.842\\\\\n",
       "\t Africa   & 2002 & 51.2355 &  12521.714\\\\\n",
       "\t Africa   & 2007 & 52.9265 &  13206.485\\\\\n",
       "\t Americas & 1952 & 54.7450 &  13990.482\\\\\n",
       "\t Americas & 1957 & 56.0740 &  14847.127\\\\\n",
       "\t Americas & 1962 & 58.2990 &  16173.146\\\\\n",
       "\t Americas & 1967 & 60.5230 &  19530.366\\\\\n",
       "\t Americas & 1972 & 63.4410 &  21806.036\\\\\n",
       "\t Americas & 1977 & 66.3530 &  24072.632\\\\\n",
       "\t Americas & 1982 & 67.4050 &  25009.559\\\\\n",
       "\t Americas & 1987 & 69.4980 &  29884.350\\\\\n",
       "\t Americas & 1992 & 69.8620 &  32003.932\\\\\n",
       "\t Americas & 1997 & 72.1460 &  35767.433\\\\\n",
       "\t Americas & 2002 & 72.0470 &  39097.100\\\\\n",
       "\t Americas & 2007 & 72.8990 &  42951.653\\\\\n",
       "\t Asia     & 1952 & 44.8690 & 108382.353\\\\\n",
       "\t Asia     & 1957 & 48.2840 & 113523.133\\\\\n",
       "\t Asia     & 1962 & 49.3250 &  95458.112\\\\\n",
       "\t Asia     & 1967 & 53.6550 &  80894.883\\\\\n",
       "\t Asia     & 1972 & 56.9500 & 109347.867\\\\\n",
       "\t Asia     & 1977 & 60.7650 &  59265.477\\\\\n",
       "\t Asia     & 1982 & 63.7390 &  33693.175\\\\\n",
       "\t Asia     & 1987 & 66.2950 &  28118.430\\\\\n",
       "\t Asia     & 1992 & 68.6900 &  34932.920\\\\\n",
       "\t Asia     & 1997 & 70.2650 &  40300.620\\\\\n",
       "\t Asia     & 2002 & 71.0280 &  36023.105\\\\\n",
       "\t Asia     & 2007 & 72.3960 &  47306.990\\\\\n",
       "\t Europe   & 1952 & 65.9000 &  14734.233\\\\\n",
       "\t Europe   & 1957 & 67.6500 &  17909.490\\\\\n",
       "\t Europe   & 1962 & 69.5250 &  20431.093\\\\\n",
       "\t Europe   & 1967 & 70.6100 &  22966.144\\\\\n",
       "\t Europe   & 1972 & 70.8850 &  27195.113\\\\\n",
       "\t Europe   & 1977 & 72.3350 &  26982.291\\\\\n",
       "\t Europe   & 1982 & 73.4900 &  28397.715\\\\\n",
       "\t Europe   & 1987 & 74.8150 &  31540.975\\\\\n",
       "\t Europe   & 1992 & 75.4510 &  33965.661\\\\\n",
       "\t Europe   & 1997 & 76.1160 &  41283.164\\\\\n",
       "\t Europe   & 2002 & 77.5365 &  44683.975\\\\\n",
       "\t Europe   & 2007 & 78.6085 &  49357.190\\\\\n",
       "\t Oceania  & 1952 & 69.2550 &  10556.576\\\\\n",
       "\t Oceania  & 1957 & 70.2950 &  12247.395\\\\\n",
       "\t Oceania  & 1962 & 71.0850 &  13175.678\\\\\n",
       "\t Oceania  & 1967 & 71.3100 &  14526.125\\\\\n",
       "\t Oceania  & 1972 & 71.9100 &  16788.629\\\\\n",
       "\t Oceania  & 1977 & 72.8550 &  18334.198\\\\\n",
       "\t Oceania  & 1982 & 74.2900 &  19477.009\\\\\n",
       "\t Oceania  & 1987 & 75.3200 &  21888.889\\\\\n",
       "\t Oceania  & 1992 & 76.9450 &  23424.767\\\\\n",
       "\t Oceania  & 1997 & 78.1900 &  26997.937\\\\\n",
       "\t Oceania  & 2002 & 79.7400 &  30687.755\\\\\n",
       "\t Oceania  & 2007 & 80.7195 &  34435.367\\\\\n",
       "\\end{tabular}\n"
      ],
      "text/markdown": [
       "\n",
       "A grouped_df: 60 × 4\n",
       "\n",
       "| continent &lt;fct&gt; | year &lt;int&gt; | medianLifeExp &lt;dbl&gt; | maxGdpPercap &lt;dbl&gt; |\n",
       "|---|---|---|---|\n",
       "| Africa   | 1952 | 38.8330 |   4725.296 |\n",
       "| Africa   | 1957 | 40.5925 |   5487.104 |\n",
       "| Africa   | 1962 | 42.6305 |   6757.031 |\n",
       "| Africa   | 1967 | 44.6985 |  18772.752 |\n",
       "| Africa   | 1972 | 47.0315 |  21011.497 |\n",
       "| Africa   | 1977 | 49.2725 |  21951.212 |\n",
       "| Africa   | 1982 | 50.7560 |  17364.275 |\n",
       "| Africa   | 1987 | 51.6395 |  11864.408 |\n",
       "| Africa   | 1992 | 52.4290 |  13522.158 |\n",
       "| Africa   | 1997 | 52.7590 |  14722.842 |\n",
       "| Africa   | 2002 | 51.2355 |  12521.714 |\n",
       "| Africa   | 2007 | 52.9265 |  13206.485 |\n",
       "| Americas | 1952 | 54.7450 |  13990.482 |\n",
       "| Americas | 1957 | 56.0740 |  14847.127 |\n",
       "| Americas | 1962 | 58.2990 |  16173.146 |\n",
       "| Americas | 1967 | 60.5230 |  19530.366 |\n",
       "| Americas | 1972 | 63.4410 |  21806.036 |\n",
       "| Americas | 1977 | 66.3530 |  24072.632 |\n",
       "| Americas | 1982 | 67.4050 |  25009.559 |\n",
       "| Americas | 1987 | 69.4980 |  29884.350 |\n",
       "| Americas | 1992 | 69.8620 |  32003.932 |\n",
       "| Americas | 1997 | 72.1460 |  35767.433 |\n",
       "| Americas | 2002 | 72.0470 |  39097.100 |\n",
       "| Americas | 2007 | 72.8990 |  42951.653 |\n",
       "| Asia     | 1952 | 44.8690 | 108382.353 |\n",
       "| Asia     | 1957 | 48.2840 | 113523.133 |\n",
       "| Asia     | 1962 | 49.3250 |  95458.112 |\n",
       "| Asia     | 1967 | 53.6550 |  80894.883 |\n",
       "| Asia     | 1972 | 56.9500 | 109347.867 |\n",
       "| Asia     | 1977 | 60.7650 |  59265.477 |\n",
       "| Asia     | 1982 | 63.7390 |  33693.175 |\n",
       "| Asia     | 1987 | 66.2950 |  28118.430 |\n",
       "| Asia     | 1992 | 68.6900 |  34932.920 |\n",
       "| Asia     | 1997 | 70.2650 |  40300.620 |\n",
       "| Asia     | 2002 | 71.0280 |  36023.105 |\n",
       "| Asia     | 2007 | 72.3960 |  47306.990 |\n",
       "| Europe   | 1952 | 65.9000 |  14734.233 |\n",
       "| Europe   | 1957 | 67.6500 |  17909.490 |\n",
       "| Europe   | 1962 | 69.5250 |  20431.093 |\n",
       "| Europe   | 1967 | 70.6100 |  22966.144 |\n",
       "| Europe   | 1972 | 70.8850 |  27195.113 |\n",
       "| Europe   | 1977 | 72.3350 |  26982.291 |\n",
       "| Europe   | 1982 | 73.4900 |  28397.715 |\n",
       "| Europe   | 1987 | 74.8150 |  31540.975 |\n",
       "| Europe   | 1992 | 75.4510 |  33965.661 |\n",
       "| Europe   | 1997 | 76.1160 |  41283.164 |\n",
       "| Europe   | 2002 | 77.5365 |  44683.975 |\n",
       "| Europe   | 2007 | 78.6085 |  49357.190 |\n",
       "| Oceania  | 1952 | 69.2550 |  10556.576 |\n",
       "| Oceania  | 1957 | 70.2950 |  12247.395 |\n",
       "| Oceania  | 1962 | 71.0850 |  13175.678 |\n",
       "| Oceania  | 1967 | 71.3100 |  14526.125 |\n",
       "| Oceania  | 1972 | 71.9100 |  16788.629 |\n",
       "| Oceania  | 1977 | 72.8550 |  18334.198 |\n",
       "| Oceania  | 1982 | 74.2900 |  19477.009 |\n",
       "| Oceania  | 1987 | 75.3200 |  21888.889 |\n",
       "| Oceania  | 1992 | 76.9450 |  23424.767 |\n",
       "| Oceania  | 1997 | 78.1900 |  26997.937 |\n",
       "| Oceania  | 2002 | 79.7400 |  30687.755 |\n",
       "| Oceania  | 2007 | 80.7195 |  34435.367 |\n",
       "\n"
      ],
      "text/plain": [
       "   continent year medianLifeExp maxGdpPercap\n",
       "1  Africa    1952 38.8330         4725.296  \n",
       "2  Africa    1957 40.5925         5487.104  \n",
       "3  Africa    1962 42.6305         6757.031  \n",
       "4  Africa    1967 44.6985        18772.752  \n",
       "5  Africa    1972 47.0315        21011.497  \n",
       "6  Africa    1977 49.2725        21951.212  \n",
       "7  Africa    1982 50.7560        17364.275  \n",
       "8  Africa    1987 51.6395        11864.408  \n",
       "9  Africa    1992 52.4290        13522.158  \n",
       "10 Africa    1997 52.7590        14722.842  \n",
       "11 Africa    2002 51.2355        12521.714  \n",
       "12 Africa    2007 52.9265        13206.485  \n",
       "13 Americas  1952 54.7450        13990.482  \n",
       "14 Americas  1957 56.0740        14847.127  \n",
       "15 Americas  1962 58.2990        16173.146  \n",
       "16 Americas  1967 60.5230        19530.366  \n",
       "17 Americas  1972 63.4410        21806.036  \n",
       "18 Americas  1977 66.3530        24072.632  \n",
       "19 Americas  1982 67.4050        25009.559  \n",
       "20 Americas  1987 69.4980        29884.350  \n",
       "21 Americas  1992 69.8620        32003.932  \n",
       "22 Americas  1997 72.1460        35767.433  \n",
       "23 Americas  2002 72.0470        39097.100  \n",
       "24 Americas  2007 72.8990        42951.653  \n",
       "25 Asia      1952 44.8690       108382.353  \n",
       "26 Asia      1957 48.2840       113523.133  \n",
       "27 Asia      1962 49.3250        95458.112  \n",
       "28 Asia      1967 53.6550        80894.883  \n",
       "29 Asia      1972 56.9500       109347.867  \n",
       "30 Asia      1977 60.7650        59265.477  \n",
       "31 Asia      1982 63.7390        33693.175  \n",
       "32 Asia      1987 66.2950        28118.430  \n",
       "33 Asia      1992 68.6900        34932.920  \n",
       "34 Asia      1997 70.2650        40300.620  \n",
       "35 Asia      2002 71.0280        36023.105  \n",
       "36 Asia      2007 72.3960        47306.990  \n",
       "37 Europe    1952 65.9000        14734.233  \n",
       "38 Europe    1957 67.6500        17909.490  \n",
       "39 Europe    1962 69.5250        20431.093  \n",
       "40 Europe    1967 70.6100        22966.144  \n",
       "41 Europe    1972 70.8850        27195.113  \n",
       "42 Europe    1977 72.3350        26982.291  \n",
       "43 Europe    1982 73.4900        28397.715  \n",
       "44 Europe    1987 74.8150        31540.975  \n",
       "45 Europe    1992 75.4510        33965.661  \n",
       "46 Europe    1997 76.1160        41283.164  \n",
       "47 Europe    2002 77.5365        44683.975  \n",
       "48 Europe    2007 78.6085        49357.190  \n",
       "49 Oceania   1952 69.2550        10556.576  \n",
       "50 Oceania   1957 70.2950        12247.395  \n",
       "51 Oceania   1962 71.0850        13175.678  \n",
       "52 Oceania   1967 71.3100        14526.125  \n",
       "53 Oceania   1972 71.9100        16788.629  \n",
       "54 Oceania   1977 72.8550        18334.198  \n",
       "55 Oceania   1982 74.2900        19477.009  \n",
       "56 Oceania   1987 75.3200        21888.889  \n",
       "57 Oceania   1992 76.9450        23424.767  \n",
       "58 Oceania   1997 78.1900        26997.937  \n",
       "59 Oceania   2002 79.7400        30687.755  \n",
       "60 Oceania   2007 80.7195        34435.367  "
      ]
     },
     "metadata": {},
     "output_type": "display_data"
    }
   ],
   "source": [
    "gapminder %>%  \n",
    "    group_by(continent, year) %>% \n",
    "    summarize(medianLifeExp = median(lifeExp), maxGdpPercap = max(gdpPercap))"
   ]
  },
  {
   "cell_type": "markdown",
   "id": "793706f2-5e10-4a12-9d59-8847c4e95d0d",
   "metadata": {},
   "source": [
    "### Visualizing median life expectancy over time"
   ]
  },
  {
   "cell_type": "code",
   "execution_count": 7,
   "id": "8f8e5d76-de49-4607-aaef-a123f7200111",
   "metadata": {},
   "outputs": [],
   "source": [
    "by_year <- gapminder %>%\n",
    "  group_by(year) %>%\n",
    "  summarize(medianLifeExp = median(lifeExp),\n",
    "            maxGdpPercap = max(gdpPercap))"
   ]
  },
  {
   "cell_type": "code",
   "execution_count": 8,
   "id": "4468e6e9-5ed6-491e-a6e9-4e02e27a0a17",
   "metadata": {},
   "outputs": [
    {
     "data": {
      "image/png": "[encoded data removed]",
      "text/plain": [
       "plot without title"
      ]
     },
     "metadata": {
      "image/png": {
       "height": 420,
       "width": 420
      }
     },
     "output_type": "display_data"
    }
   ],
   "source": [
    "\n",
    "ggplot(by_year, aes(x = year, y = medianLifeExp)) +  geom_point() + expand_limits(y =0)"
   ]
  },
  {
   "cell_type": "code",
   "execution_count": null,
   "id": "b83b9cc9-5cf5-4b02-8b6f-b3cc256f14ce",
   "metadata": {},
   "outputs": [],
   "source": []
  }
 ],
 "metadata": {
  "kernelspec": {
   "display_name": "R",
   "language": "R",
   "name": "r"
  },
  "language_info": {
   "codemirror_mode": "r",
   "file_extension": ".r",
   "mimetype": "text/x-r-source",
   "name": "R",
   "pygments_lexer": "r",
   "version": "4.3.1"
  }
 },
 "nbformat": 4,
 "nbformat_minor": 5
}
