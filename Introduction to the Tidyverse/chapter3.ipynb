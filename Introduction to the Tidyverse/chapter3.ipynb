{
 "cells": [
  {
   "cell_type": "markdown",
   "id": "1f9ffdbd-a009-44a4-b6ae-ddc5792de2f3",
   "metadata": {},
   "source": [
    "# Introduction to the Tidyverse"
   ]
  },
  {
   "cell_type": "markdown",
   "id": "84246d15-f005-44de-acbb-08ab674ecbd7",
   "metadata": {},
   "source": [
    "## Grouping and summarizing"
   ]
  },
  {
   "cell_type": "markdown",
   "id": "87ea426c-f903-40d6-ad18-164f40361d6d",
   "metadata": {},
   "source": [
    "### Summarizing the median life expectancy"
   ]
  },
  {
   "cell_type": "code",
   "execution_count": 2,
   "id": "5d0c6d4e-8b71-47ee-a8ad-2646ce1ebee4",
   "metadata": {},
   "outputs": [
    {
     "name": "stderr",
     "output_type": "stream",
     "text": [
      "\n",
      "Attaching package: ‘dplyr’\n",
      "\n",
      "\n",
      "The following objects are masked from ‘package:stats’:\n",
      "\n",
      "    filter, lag\n",
      "\n",
      "\n",
      "The following objects are masked from ‘package:base’:\n",
      "\n",
      "    intersect, setdiff, setequal, union\n",
      "\n",
      "\n"
     ]
    },
    {
     "data": {
      "text/html": [
       "<table class=\"dataframe\">\n",
       "<caption>A tibble: 1 × 1</caption>\n",
       "<thead>\n",
       "\t<tr><th scope=col>medianLifeExp</th></tr>\n",
       "\t<tr><th scope=col>&lt;dbl&gt;</th></tr>\n",
       "</thead>\n",
       "<tbody>\n",
       "\t<tr><td>60.7125</td></tr>\n",
       "</tbody>\n",
       "</table>\n"
      ],
      "text/latex": [
       "A tibble: 1 × 1\n",
       "\\begin{tabular}{l}\n",
       " medianLifeExp\\\\\n",
       " <dbl>\\\\\n",
       "\\hline\n",
       "\t 60.7125\\\\\n",
       "\\end{tabular}\n"
      ],
      "text/markdown": [
       "\n",
       "A tibble: 1 × 1\n",
       "\n",
       "| medianLifeExp &lt;dbl&gt; |\n",
       "|---|\n",
       "| 60.7125 |\n",
       "\n"
      ],
      "text/plain": [
       "  medianLifeExp\n",
       "1 60.7125      "
      ]
     },
     "metadata": {},
     "output_type": "display_data"
    }
   ],
   "source": [
    "library(gapminder)\n",
    "library(dplyr)\n",
    "library(ggplot2)\n",
    "\n",
    "\n",
    "gapminder %>%  \n",
    "    summarize(medianLifeExp = median(lifeExp))"
   ]
  },
  {
   "cell_type": "markdown",
   "id": "1bf99e9c-c176-41f2-80df-3d6a5e2e19bf",
   "metadata": {},
   "source": [
    "### Summarizing the median life expectancy in 1957"
   ]
  },
  {
   "cell_type": "code",
   "execution_count": 3,
   "id": "ecba6f53-0008-4ca6-b5ad-2af558ed657f",
   "metadata": {},
   "outputs": [
    {
     "data": {
      "text/html": [
       "<table class=\"dataframe\">\n",
       "<caption>A tibble: 1 × 1</caption>\n",
       "<thead>\n",
       "\t<tr><th scope=col>medianLifeExp</th></tr>\n",
       "\t<tr><th scope=col>&lt;dbl&gt;</th></tr>\n",
       "</thead>\n",
       "<tbody>\n",
       "\t<tr><td>48.3605</td></tr>\n",
       "</tbody>\n",
       "</table>\n"
      ],
      "text/latex": [
       "A tibble: 1 × 1\n",
       "\\begin{tabular}{l}\n",
       " medianLifeExp\\\\\n",
       " <dbl>\\\\\n",
       "\\hline\n",
       "\t 48.3605\\\\\n",
       "\\end{tabular}\n"
      ],
      "text/markdown": [
       "\n",
       "A tibble: 1 × 1\n",
       "\n",
       "| medianLifeExp &lt;dbl&gt; |\n",
       "|---|\n",
       "| 48.3605 |\n",
       "\n"
      ],
      "text/plain": [
       "  medianLifeExp\n",
       "1 48.3605      "
      ]
     },
     "metadata": {},
     "output_type": "display_data"
    }
   ],
   "source": [
    "gapminder %>%  \n",
    "    filter(year == 1957) %>%\n",
    "    summarize(medianLifeExp = median(lifeExp))"
   ]
  },
  {
   "cell_type": "markdown",
   "id": "b80b6e8f-8eb9-4d10-8962-bd7d301a996b",
   "metadata": {},
   "source": [
    "### Summarizing multiple variables in 1957"
   ]
  },
  {
   "cell_type": "code",
   "execution_count": 4,
   "id": "d5f463ab-2790-43e1-96c7-04a402d75807",
   "metadata": {},
   "outputs": [
    {
     "data": {
      "text/html": [
       "<table class=\"dataframe\">\n",
       "<caption>A tibble: 1 × 2</caption>\n",
       "<thead>\n",
       "\t<tr><th scope=col>medianLifeExp</th><th scope=col>maxGdpPercap</th></tr>\n",
       "\t<tr><th scope=col>&lt;dbl&gt;</th><th scope=col>&lt;dbl&gt;</th></tr>\n",
       "</thead>\n",
       "<tbody>\n",
       "\t<tr><td>48.3605</td><td>113523.1</td></tr>\n",
       "</tbody>\n",
       "</table>\n"
      ],
      "text/latex": [
       "A tibble: 1 × 2\n",
       "\\begin{tabular}{ll}\n",
       " medianLifeExp & maxGdpPercap\\\\\n",
       " <dbl> & <dbl>\\\\\n",
       "\\hline\n",
       "\t 48.3605 & 113523.1\\\\\n",
       "\\end{tabular}\n"
      ],
      "text/markdown": [
       "\n",
       "A tibble: 1 × 2\n",
       "\n",
       "| medianLifeExp &lt;dbl&gt; | maxGdpPercap &lt;dbl&gt; |\n",
       "|---|---|\n",
       "| 48.3605 | 113523.1 |\n",
       "\n"
      ],
      "text/plain": [
       "  medianLifeExp maxGdpPercap\n",
       "1 48.3605       113523.1    "
      ]
     },
     "metadata": {},
     "output_type": "display_data"
    }
   ],
   "source": [
    "\n",
    "gapminder %>%  \n",
    "    filter(year == 1957) %>%  \n",
    "    summarize(medianLifeExp = median(lifeExp), maxGdpPercap = max(gdpPercap))"
   ]
  },
  {
   "cell_type": "code",
   "execution_count": null,
   "id": "7ada4828-8301-4cec-81d1-710b769fc32b",
   "metadata": {},
   "outputs": [],
   "source": []
  }
 ],
 "metadata": {
  "kernelspec": {
   "display_name": "R",
   "language": "R",
   "name": "r"
  },
  "language_info": {
   "codemirror_mode": "r",
   "file_extension": ".r",
   "mimetype": "text/x-r-source",
   "name": "R",
   "pygments_lexer": "r",
   "version": "4.3.1"
  }
 },
 "nbformat": 4,
 "nbformat_minor": 5
}
