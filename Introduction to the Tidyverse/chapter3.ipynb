{
 "cells": [
  {
   "cell_type": "markdown",
   "id": "1f9ffdbd-a009-44a4-b6ae-ddc5792de2f3",
   "metadata": {},
   "source": [
    "# Introduction to the Tidyverse"
   ]
  },
  {
   "cell_type": "markdown",
   "id": "84246d15-f005-44de-acbb-08ab674ecbd7",
   "metadata": {},
   "source": [
    "## Grouping and summarizing"
   ]
  },
  {
   "cell_type": "markdown",
   "id": "87ea426c-f903-40d6-ad18-164f40361d6d",
   "metadata": {},
   "source": [
    "### Summarizing the median life expectancy"
   ]
  },
  {
   "cell_type": "code",
   "execution_count": 4,
   "id": "5d0c6d4e-8b71-47ee-a8ad-2646ce1ebee4",
   "metadata": {},
   "outputs": [
    {
     "name": "stderr",
     "output_type": "stream",
     "text": [
      "\n",
      "Attaching package: ‘dplyr’\n",
      "\n",
      "\n",
      "The following objects are masked from ‘package:stats’:\n",
      "\n",
      "    filter, lag\n",
      "\n",
      "\n",
      "The following objects are masked from ‘package:base’:\n",
      "\n",
      "    intersect, setdiff, setequal, union\n",
      "\n",
      "\n"
     ]
    },
    {
     "data": {
      "text/html": [
       "<table class=\"dataframe\">\n",
       "<caption>A tibble: 1 × 1</caption>\n",
       "<thead>\n",
       "\t<tr><th scope=col>medianLifeExp</th></tr>\n",
       "\t<tr><th scope=col>&lt;dbl&gt;</th></tr>\n",
       "</thead>\n",
       "<tbody>\n",
       "\t<tr><td>60.7125</td></tr>\n",
       "</tbody>\n",
       "</table>\n"
      ],
      "text/latex": [
       "A tibble: 1 × 1\n",
       "\\begin{tabular}{l}\n",
       " medianLifeExp\\\\\n",
       " <dbl>\\\\\n",
       "\\hline\n",
       "\t 60.7125\\\\\n",
       "\\end{tabular}\n"
      ],
      "text/markdown": [
       "\n",
       "A tibble: 1 × 1\n",
       "\n",
       "| medianLifeExp &lt;dbl&gt; |\n",
       "|---|\n",
       "| 60.7125 |\n",
       "\n"
      ],
      "text/plain": [
       "  medianLifeExp\n",
       "1 60.7125      "
      ]
     },
     "metadata": {},
     "output_type": "display_data"
    }
   ],
   "source": [
    "library(gapminder)\n",
    "library(dplyr)\n",
    "library(ggplot2)\n",
    "\n",
    "\n",
    "gapminder %>%  \n",
    "    summarize(medianLifeExp = median(lifeExp))"
   ]
  },
  {
   "cell_type": "markdown",
   "id": "1bf99e9c-c176-41f2-80df-3d6a5e2e19bf",
   "metadata": {},
   "source": [
    "### Summarizing the median life expectancy in 1957"
   ]
  },
  {
   "cell_type": "code",
   "execution_count": 5,
   "id": "ecba6f53-0008-4ca6-b5ad-2af558ed657f",
   "metadata": {},
   "outputs": [
    {
     "data": {
      "text/html": [
       "<table class=\"dataframe\">\n",
       "<caption>A tibble: 1 × 1</caption>\n",
       "<thead>\n",
       "\t<tr><th scope=col>medianLifeExp</th></tr>\n",
       "\t<tr><th scope=col>&lt;dbl&gt;</th></tr>\n",
       "</thead>\n",
       "<tbody>\n",
       "\t<tr><td>48.3605</td></tr>\n",
       "</tbody>\n",
       "</table>\n"
      ],
      "text/latex": [
       "A tibble: 1 × 1\n",
       "\\begin{tabular}{l}\n",
       " medianLifeExp\\\\\n",
       " <dbl>\\\\\n",
       "\\hline\n",
       "\t 48.3605\\\\\n",
       "\\end{tabular}\n"
      ],
      "text/markdown": [
       "\n",
       "A tibble: 1 × 1\n",
       "\n",
       "| medianLifeExp &lt;dbl&gt; |\n",
       "|---|\n",
       "| 48.3605 |\n",
       "\n"
      ],
      "text/plain": [
       "  medianLifeExp\n",
       "1 48.3605      "
      ]
     },
     "metadata": {},
     "output_type": "display_data"
    }
   ],
   "source": [
    "gapminder %>%  \n",
    "    filter(year == 1957) %>%\n",
    "    summarize(medianLifeExp = median(lifeExp))"
   ]
  },
  {
   "cell_type": "markdown",
   "id": "b80b6e8f-8eb9-4d10-8962-bd7d301a996b",
   "metadata": {},
   "source": [
    "### Summarizing multiple variables in 1957"
   ]
  },
  {
   "cell_type": "code",
   "execution_count": 6,
   "id": "d5f463ab-2790-43e1-96c7-04a402d75807",
   "metadata": {},
   "outputs": [
    {
     "data": {
      "text/html": [
       "<table class=\"dataframe\">\n",
       "<caption>A tibble: 1 × 2</caption>\n",
       "<thead>\n",
       "\t<tr><th scope=col>medianLifeExp</th><th scope=col>maxGdpPercap</th></tr>\n",
       "\t<tr><th scope=col>&lt;dbl&gt;</th><th scope=col>&lt;dbl&gt;</th></tr>\n",
       "</thead>\n",
       "<tbody>\n",
       "\t<tr><td>48.3605</td><td>113523.1</td></tr>\n",
       "</tbody>\n",
       "</table>\n"
      ],
      "text/latex": [
       "A tibble: 1 × 2\n",
       "\\begin{tabular}{ll}\n",
       " medianLifeExp & maxGdpPercap\\\\\n",
       " <dbl> & <dbl>\\\\\n",
       "\\hline\n",
       "\t 48.3605 & 113523.1\\\\\n",
       "\\end{tabular}\n"
      ],
      "text/markdown": [
       "\n",
       "A tibble: 1 × 2\n",
       "\n",
       "| medianLifeExp &lt;dbl&gt; | maxGdpPercap &lt;dbl&gt; |\n",
       "|---|---|\n",
       "| 48.3605 | 113523.1 |\n",
       "\n"
      ],
      "text/plain": [
       "  medianLifeExp maxGdpPercap\n",
       "1 48.3605       113523.1    "
      ]
     },
     "metadata": {},
     "output_type": "display_data"
    }
   ],
   "source": [
    "\n",
    "gapminder %>%  \n",
    "    filter(year == 1957) %>%  \n",
    "    summarize(medianLifeExp = median(lifeExp), maxGdpPercap = max(gdpPercap))"
   ]
  },
  {
   "cell_type": "markdown",
   "id": "04daadb4-fd24-4cdd-8213-9a69ac385f65",
   "metadata": {},
   "source": [
    "### Summarizing by year"
   ]
  },
  {
   "cell_type": "code",
   "execution_count": 7,
   "id": "8296ebb2-2e82-4ebb-82de-bb90257db997",
   "metadata": {},
   "outputs": [
    {
     "data": {
      "text/html": [
       "<table class=\"dataframe\">\n",
       "<caption>A tibble: 12 × 3</caption>\n",
       "<thead>\n",
       "\t<tr><th scope=col>year</th><th scope=col>medianLifeExp</th><th scope=col>maxGdpPercap</th></tr>\n",
       "\t<tr><th scope=col>&lt;int&gt;</th><th scope=col>&lt;dbl&gt;</th><th scope=col>&lt;dbl&gt;</th></tr>\n",
       "</thead>\n",
       "<tbody>\n",
       "\t<tr><td>1952</td><td>45.1355</td><td>108382.35</td></tr>\n",
       "\t<tr><td>1957</td><td>48.3605</td><td>113523.13</td></tr>\n",
       "\t<tr><td>1962</td><td>50.8810</td><td> 95458.11</td></tr>\n",
       "\t<tr><td>1967</td><td>53.8250</td><td> 80894.88</td></tr>\n",
       "\t<tr><td>1972</td><td>56.5300</td><td>109347.87</td></tr>\n",
       "\t<tr><td>1977</td><td>59.6720</td><td> 59265.48</td></tr>\n",
       "\t<tr><td>1982</td><td>62.4415</td><td> 33693.18</td></tr>\n",
       "\t<tr><td>1987</td><td>65.8340</td><td> 31540.97</td></tr>\n",
       "\t<tr><td>1992</td><td>67.7030</td><td> 34932.92</td></tr>\n",
       "\t<tr><td>1997</td><td>69.3940</td><td> 41283.16</td></tr>\n",
       "\t<tr><td>2002</td><td>70.8255</td><td> 44683.98</td></tr>\n",
       "\t<tr><td>2007</td><td>71.9355</td><td> 49357.19</td></tr>\n",
       "</tbody>\n",
       "</table>\n"
      ],
      "text/latex": [
       "A tibble: 12 × 3\n",
       "\\begin{tabular}{lll}\n",
       " year & medianLifeExp & maxGdpPercap\\\\\n",
       " <int> & <dbl> & <dbl>\\\\\n",
       "\\hline\n",
       "\t 1952 & 45.1355 & 108382.35\\\\\n",
       "\t 1957 & 48.3605 & 113523.13\\\\\n",
       "\t 1962 & 50.8810 &  95458.11\\\\\n",
       "\t 1967 & 53.8250 &  80894.88\\\\\n",
       "\t 1972 & 56.5300 & 109347.87\\\\\n",
       "\t 1977 & 59.6720 &  59265.48\\\\\n",
       "\t 1982 & 62.4415 &  33693.18\\\\\n",
       "\t 1987 & 65.8340 &  31540.97\\\\\n",
       "\t 1992 & 67.7030 &  34932.92\\\\\n",
       "\t 1997 & 69.3940 &  41283.16\\\\\n",
       "\t 2002 & 70.8255 &  44683.98\\\\\n",
       "\t 2007 & 71.9355 &  49357.19\\\\\n",
       "\\end{tabular}\n"
      ],
      "text/markdown": [
       "\n",
       "A tibble: 12 × 3\n",
       "\n",
       "| year &lt;int&gt; | medianLifeExp &lt;dbl&gt; | maxGdpPercap &lt;dbl&gt; |\n",
       "|---|---|---|\n",
       "| 1952 | 45.1355 | 108382.35 |\n",
       "| 1957 | 48.3605 | 113523.13 |\n",
       "| 1962 | 50.8810 |  95458.11 |\n",
       "| 1967 | 53.8250 |  80894.88 |\n",
       "| 1972 | 56.5300 | 109347.87 |\n",
       "| 1977 | 59.6720 |  59265.48 |\n",
       "| 1982 | 62.4415 |  33693.18 |\n",
       "| 1987 | 65.8340 |  31540.97 |\n",
       "| 1992 | 67.7030 |  34932.92 |\n",
       "| 1997 | 69.3940 |  41283.16 |\n",
       "| 2002 | 70.8255 |  44683.98 |\n",
       "| 2007 | 71.9355 |  49357.19 |\n",
       "\n"
      ],
      "text/plain": [
       "   year medianLifeExp maxGdpPercap\n",
       "1  1952 45.1355       108382.35   \n",
       "2  1957 48.3605       113523.13   \n",
       "3  1962 50.8810        95458.11   \n",
       "4  1967 53.8250        80894.88   \n",
       "5  1972 56.5300       109347.87   \n",
       "6  1977 59.6720        59265.48   \n",
       "7  1982 62.4415        33693.18   \n",
       "8  1987 65.8340        31540.97   \n",
       "9  1992 67.7030        34932.92   \n",
       "10 1997 69.3940        41283.16   \n",
       "11 2002 70.8255        44683.98   \n",
       "12 2007 71.9355        49357.19   "
      ]
     },
     "metadata": {},
     "output_type": "display_data"
    }
   ],
   "source": [
    "\n",
    "gapminder %>%  \n",
    "    group_by(year) %>% \n",
    "    summarize(medianLifeExp = median(lifeExp), maxGdpPercap = max(gdpPercap))"
   ]
  },
  {
   "cell_type": "markdown",
   "id": "b2a437d7-e7db-4bb0-9bab-88a02c3302bb",
   "metadata": {},
   "source": [
    "### Summarizing by continent"
   ]
  },
  {
   "cell_type": "code",
   "execution_count": 8,
   "id": "9e1af135-0235-495d-8ba2-f4c5bf5eb5d9",
   "metadata": {},
   "outputs": [
    {
     "data": {
      "text/html": [
       "<table class=\"dataframe\">\n",
       "<caption>A tibble: 5 × 3</caption>\n",
       "<thead>\n",
       "\t<tr><th scope=col>continent</th><th scope=col>medianLifeExp</th><th scope=col>maxGdpPercap</th></tr>\n",
       "\t<tr><th scope=col>&lt;fct&gt;</th><th scope=col>&lt;dbl&gt;</th><th scope=col>&lt;dbl&gt;</th></tr>\n",
       "</thead>\n",
       "<tbody>\n",
       "\t<tr><td>Africa  </td><td>40.5925</td><td>  5487.104</td></tr>\n",
       "\t<tr><td>Americas</td><td>56.0740</td><td> 14847.127</td></tr>\n",
       "\t<tr><td>Asia    </td><td>48.2840</td><td>113523.133</td></tr>\n",
       "\t<tr><td>Europe  </td><td>67.6500</td><td> 17909.490</td></tr>\n",
       "\t<tr><td>Oceania </td><td>70.2950</td><td> 12247.395</td></tr>\n",
       "</tbody>\n",
       "</table>\n"
      ],
      "text/latex": [
       "A tibble: 5 × 3\n",
       "\\begin{tabular}{lll}\n",
       " continent & medianLifeExp & maxGdpPercap\\\\\n",
       " <fct> & <dbl> & <dbl>\\\\\n",
       "\\hline\n",
       "\t Africa   & 40.5925 &   5487.104\\\\\n",
       "\t Americas & 56.0740 &  14847.127\\\\\n",
       "\t Asia     & 48.2840 & 113523.133\\\\\n",
       "\t Europe   & 67.6500 &  17909.490\\\\\n",
       "\t Oceania  & 70.2950 &  12247.395\\\\\n",
       "\\end{tabular}\n"
      ],
      "text/markdown": [
       "\n",
       "A tibble: 5 × 3\n",
       "\n",
       "| continent &lt;fct&gt; | medianLifeExp &lt;dbl&gt; | maxGdpPercap &lt;dbl&gt; |\n",
       "|---|---|---|\n",
       "| Africa   | 40.5925 |   5487.104 |\n",
       "| Americas | 56.0740 |  14847.127 |\n",
       "| Asia     | 48.2840 | 113523.133 |\n",
       "| Europe   | 67.6500 |  17909.490 |\n",
       "| Oceania  | 70.2950 |  12247.395 |\n",
       "\n"
      ],
      "text/plain": [
       "  continent medianLifeExp maxGdpPercap\n",
       "1 Africa    40.5925         5487.104  \n",
       "2 Americas  56.0740        14847.127  \n",
       "3 Asia      48.2840       113523.133  \n",
       "4 Europe    67.6500        17909.490  \n",
       "5 Oceania   70.2950        12247.395  "
      ]
     },
     "metadata": {},
     "output_type": "display_data"
    }
   ],
   "source": [
    "\n",
    "gapminder %>%  \n",
    "    filter(year==1957) %>%\n",
    "    group_by(continent) %>% \n",
    "    summarize(medianLifeExp = median(lifeExp), maxGdpPercap = max(gdpPercap))"
   ]
  },
  {
   "cell_type": "code",
   "execution_count": null,
   "id": "8717df0b-afea-4e39-a8db-72830e9a32b4",
   "metadata": {},
   "outputs": [],
   "source": []
  }
 ],
 "metadata": {
  "kernelspec": {
   "display_name": "R",
   "language": "R",
   "name": "r"
  },
  "language_info": {
   "codemirror_mode": "r",
   "file_extension": ".r",
   "mimetype": "text/x-r-source",
   "name": "R",
   "pygments_lexer": "r",
   "version": "4.3.1"
  }
 },
 "nbformat": 4,
 "nbformat_minor": 5
}
