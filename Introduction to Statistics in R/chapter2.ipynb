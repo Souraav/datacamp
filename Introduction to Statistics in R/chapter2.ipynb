{
 "cells": [
  {
   "cell_type": "markdown",
   "id": "b1a46882-3229-46d3-b33e-fc60b5720169",
   "metadata": {},
   "source": [
    "## Random Numbers and Probability"
   ]
  },
  {
   "cell_type": "markdown",
   "id": "1320624e-2b2d-4f3e-8607-f5cee7917842",
   "metadata": {},
   "source": [
    "### Calculating probabilities"
   ]
  },
  {
   "cell_type": "code",
   "execution_count": 17,
   "id": "cfc14c09-9b61-4282-a7d3-fdc5cbe15368",
   "metadata": {},
   "outputs": [],
   "source": [
    "library(readr)"
   ]
  },
  {
   "cell_type": "code",
   "execution_count": 14,
   "id": "48ef40a8-0ad4-462f-a890-55215278847a",
   "metadata": {},
   "outputs": [
    {
     "name": "stderr",
     "output_type": "stream",
     "text": [
      "── \u001b[1mAttaching core tidyverse packages\u001b[22m ──────────────────────────────────────────────────────────────────────────────────────────────────────────────────────────────────────────────────────── tidyverse 2.0.0 ──\n",
      "\u001b[32m✔\u001b[39m \u001b[34mforcats  \u001b[39m 1.0.0     \u001b[32m✔\u001b[39m \u001b[34mstringr  \u001b[39m 1.5.0\n",
      "\u001b[32m✔\u001b[39m \u001b[34mggplot2  \u001b[39m 3.4.3     \u001b[32m✔\u001b[39m \u001b[34mtibble   \u001b[39m 3.2.1\n",
      "\u001b[32m✔\u001b[39m \u001b[34mlubridate\u001b[39m 1.9.3     \u001b[32m✔\u001b[39m \u001b[34mtidyr    \u001b[39m 1.3.0\n",
      "\u001b[32m✔\u001b[39m \u001b[34mpurrr    \u001b[39m 1.0.2     \n",
      "── \u001b[1mConflicts\u001b[22m ────────────────────────────────────────────────────────────────────────────────────────────────────────────────────────────────────────────────────────────────────────── tidyverse_conflicts() ──\n",
      "\u001b[31m✖\u001b[39m \u001b[34mdplyr\u001b[39m::\u001b[32mfilter()\u001b[39m masks \u001b[34mstats\u001b[39m::filter()\n",
      "\u001b[31m✖\u001b[39m \u001b[34mdplyr\u001b[39m::\u001b[32mlag()\u001b[39m    masks \u001b[34mstats\u001b[39m::lag()\n",
      "\u001b[36mℹ\u001b[39m Use the conflicted package (\u001b[3m\u001b[34m<http://conflicted.r-lib.org/>\u001b[39m\u001b[23m) to force all conflicts to become errors\n"
     ]
    }
   ],
   "source": [
    "library(tidyverse)"
   ]
  },
  {
   "cell_type": "code",
   "execution_count": 15,
   "id": "975e2ba9-f135-4d3f-93b3-41e700b3b897",
   "metadata": {},
   "outputs": [
    {
     "name": "stderr",
     "output_type": "stream",
     "text": [
      "\u001b[1mRows: \u001b[22m\u001b[34m178\u001b[39m \u001b[1mColumns: \u001b[22m\u001b[34m5\u001b[39m\n",
      "\u001b[36m──\u001b[39m \u001b[1mColumn specification\u001b[22m \u001b[36m────────────────────────────────────────────────────────────────────────────────────────────────────────────────────────────────────────────────────────────────────────────────────────\u001b[39m\n",
      "\u001b[1mDelimiter:\u001b[22m \",\"\n",
      "\u001b[31mchr\u001b[39m (3): product, client, status\n",
      "\u001b[32mdbl\u001b[39m (2): amount, num_users\n",
      "\n",
      "\u001b[36mℹ\u001b[39m Use `spec()` to retrieve the full column specification for this data.\n",
      "\u001b[36mℹ\u001b[39m Specify the column types or set `show_col_types = FALSE` to quiet this message.\n"
     ]
    }
   ],
   "source": [
    "amir_deals <- read_csv(\"amirs.csv\")"
   ]
  },
  {
   "cell_type": "code",
   "execution_count": 16,
   "id": "bba34c67-da7b-4004-bda8-1eb732dd930d",
   "metadata": {},
   "outputs": [
    {
     "data": {
      "text/html": [
       "<table class=\"dataframe\">\n",
       "<caption>A spec_tbl_df: 11 × 2</caption>\n",
       "<thead>\n",
       "\t<tr><th scope=col>product</th><th scope=col>n</th></tr>\n",
       "\t<tr><th scope=col>&lt;chr&gt;</th><th scope=col>&lt;int&gt;</th></tr>\n",
       "</thead>\n",
       "<tbody>\n",
       "\t<tr><td>Product A</td><td>23</td></tr>\n",
       "\t<tr><td>Product B</td><td>62</td></tr>\n",
       "\t<tr><td>Product C</td><td>15</td></tr>\n",
       "\t<tr><td>Product D</td><td>40</td></tr>\n",
       "\t<tr><td>Product E</td><td> 5</td></tr>\n",
       "\t<tr><td>Product F</td><td>11</td></tr>\n",
       "\t<tr><td>Product G</td><td> 2</td></tr>\n",
       "\t<tr><td>Product H</td><td> 8</td></tr>\n",
       "\t<tr><td>Product I</td><td> 7</td></tr>\n",
       "\t<tr><td>Product J</td><td> 2</td></tr>\n",
       "\t<tr><td>Product N</td><td> 3</td></tr>\n",
       "</tbody>\n",
       "</table>\n"
      ],
      "text/latex": [
       "A spec\\_tbl\\_df: 11 × 2\n",
       "\\begin{tabular}{ll}\n",
       " product & n\\\\\n",
       " <chr> & <int>\\\\\n",
       "\\hline\n",
       "\t Product A & 23\\\\\n",
       "\t Product B & 62\\\\\n",
       "\t Product C & 15\\\\\n",
       "\t Product D & 40\\\\\n",
       "\t Product E &  5\\\\\n",
       "\t Product F & 11\\\\\n",
       "\t Product G &  2\\\\\n",
       "\t Product H &  8\\\\\n",
       "\t Product I &  7\\\\\n",
       "\t Product J &  2\\\\\n",
       "\t Product N &  3\\\\\n",
       "\\end{tabular}\n"
      ],
      "text/markdown": [
       "\n",
       "A spec_tbl_df: 11 × 2\n",
       "\n",
       "| product &lt;chr&gt; | n &lt;int&gt; |\n",
       "|---|---|\n",
       "| Product A | 23 |\n",
       "| Product B | 62 |\n",
       "| Product C | 15 |\n",
       "| Product D | 40 |\n",
       "| Product E |  5 |\n",
       "| Product F | 11 |\n",
       "| Product G |  2 |\n",
       "| Product H |  8 |\n",
       "| Product I |  7 |\n",
       "| Product J |  2 |\n",
       "| Product N |  3 |\n",
       "\n"
      ],
      "text/plain": [
       "   product   n \n",
       "1  Product A 23\n",
       "2  Product B 62\n",
       "3  Product C 15\n",
       "4  Product D 40\n",
       "5  Product E  5\n",
       "6  Product F 11\n",
       "7  Product G  2\n",
       "8  Product H  8\n",
       "9  Product I  7\n",
       "10 Product J  2\n",
       "11 Product N  3"
      ]
     },
     "metadata": {},
     "output_type": "display_data"
    }
   ],
   "source": [
    "\n",
    "amir_deals %>%\n",
    "  count(product)"
   ]
  },
  {
   "cell_type": "code",
   "execution_count": null,
   "id": "e0b1ecd1-cede-4f8b-a512-99fd4afd26e9",
   "metadata": {},
   "outputs": [],
   "source": []
  }
 ],
 "metadata": {
  "kernelspec": {
   "display_name": "R",
   "language": "R",
   "name": "r"
  },
  "language_info": {
   "codemirror_mode": "r",
   "file_extension": ".r",
   "mimetype": "text/x-r-source",
   "name": "R",
   "pygments_lexer": "r",
   "version": "4.3.1"
  }
 },
 "nbformat": 4,
 "nbformat_minor": 5
}
