{
 "cells": [
  {
   "cell_type": "markdown",
   "id": "b1a46882-3229-46d3-b33e-fc60b5720169",
   "metadata": {},
   "source": [
    "## Random Numbers and Probability"
   ]
  },
  {
   "cell_type": "markdown",
   "id": "1320624e-2b2d-4f3e-8607-f5cee7917842",
   "metadata": {},
   "source": [
    "### Calculating probabilities"
   ]
  },
  {
   "cell_type": "code",
   "execution_count": 1,
   "id": "cfc14c09-9b61-4282-a7d3-fdc5cbe15368",
   "metadata": {},
   "outputs": [],
   "source": [
    "library(readr)"
   ]
  },
  {
   "cell_type": "code",
   "execution_count": 2,
   "id": "48ef40a8-0ad4-462f-a890-55215278847a",
   "metadata": {},
   "outputs": [
    {
     "name": "stderr",
     "output_type": "stream",
     "text": [
      "── \u001b[1mAttaching core tidyverse packages\u001b[22m ──────────────────────────────────────────────────────────────────────────────────────────────────────────────────────────────────────────────────────── tidyverse 2.0.0 ──\n",
      "\u001b[32m✔\u001b[39m \u001b[34mdplyr    \u001b[39m 1.1.3     \u001b[32m✔\u001b[39m \u001b[34mpurrr    \u001b[39m 1.0.2\n",
      "\u001b[32m✔\u001b[39m \u001b[34mforcats  \u001b[39m 1.0.0     \u001b[32m✔\u001b[39m \u001b[34mstringr  \u001b[39m 1.5.0\n",
      "\u001b[32m✔\u001b[39m \u001b[34mggplot2  \u001b[39m 3.4.3     \u001b[32m✔\u001b[39m \u001b[34mtibble   \u001b[39m 3.2.1\n",
      "\u001b[32m✔\u001b[39m \u001b[34mlubridate\u001b[39m 1.9.3     \u001b[32m✔\u001b[39m \u001b[34mtidyr    \u001b[39m 1.3.0\n",
      "── \u001b[1mConflicts\u001b[22m ────────────────────────────────────────────────────────────────────────────────────────────────────────────────────────────────────────────────────────────────────────── tidyverse_conflicts() ──\n",
      "\u001b[31m✖\u001b[39m \u001b[34mdplyr\u001b[39m::\u001b[32mfilter()\u001b[39m masks \u001b[34mstats\u001b[39m::filter()\n",
      "\u001b[31m✖\u001b[39m \u001b[34mdplyr\u001b[39m::\u001b[32mlag()\u001b[39m    masks \u001b[34mstats\u001b[39m::lag()\n",
      "\u001b[36mℹ\u001b[39m Use the conflicted package (\u001b[3m\u001b[34m<http://conflicted.r-lib.org/>\u001b[39m\u001b[23m) to force all conflicts to become errors\n"
     ]
    }
   ],
   "source": [
    "library(tidyverse)"
   ]
  },
  {
   "cell_type": "code",
   "execution_count": 3,
   "id": "975e2ba9-f135-4d3f-93b3-41e700b3b897",
   "metadata": {},
   "outputs": [
    {
     "name": "stderr",
     "output_type": "stream",
     "text": [
      "\u001b[1mRows: \u001b[22m\u001b[34m178\u001b[39m \u001b[1mColumns: \u001b[22m\u001b[34m5\u001b[39m\n",
      "\u001b[36m──\u001b[39m \u001b[1mColumn specification\u001b[22m \u001b[36m────────────────────────────────────────────────────────────────────────────────────────────────────────────────────────────────────────────────────────────────────────────────────────\u001b[39m\n",
      "\u001b[1mDelimiter:\u001b[22m \",\"\n",
      "\u001b[31mchr\u001b[39m (3): product, client, status\n",
      "\u001b[32mdbl\u001b[39m (2): amount, num_users\n",
      "\n",
      "\u001b[36mℹ\u001b[39m Use `spec()` to retrieve the full column specification for this data.\n",
      "\u001b[36mℹ\u001b[39m Specify the column types or set `show_col_types = FALSE` to quiet this message.\n"
     ]
    }
   ],
   "source": [
    "amir_deals <- read_csv(\"amirs.csv\")"
   ]
  },
  {
   "cell_type": "code",
   "execution_count": 4,
   "id": "bba34c67-da7b-4004-bda8-1eb732dd930d",
   "metadata": {},
   "outputs": [
    {
     "data": {
      "text/html": [
       "<table class=\"dataframe\">\n",
       "<caption>A spec_tbl_df: 11 × 2</caption>\n",
       "<thead>\n",
       "\t<tr><th scope=col>product</th><th scope=col>n</th></tr>\n",
       "\t<tr><th scope=col>&lt;chr&gt;</th><th scope=col>&lt;int&gt;</th></tr>\n",
       "</thead>\n",
       "<tbody>\n",
       "\t<tr><td>Product A</td><td>23</td></tr>\n",
       "\t<tr><td>Product B</td><td>62</td></tr>\n",
       "\t<tr><td>Product C</td><td>15</td></tr>\n",
       "\t<tr><td>Product D</td><td>40</td></tr>\n",
       "\t<tr><td>Product E</td><td> 5</td></tr>\n",
       "\t<tr><td>Product F</td><td>11</td></tr>\n",
       "\t<tr><td>Product G</td><td> 2</td></tr>\n",
       "\t<tr><td>Product H</td><td> 8</td></tr>\n",
       "\t<tr><td>Product I</td><td> 7</td></tr>\n",
       "\t<tr><td>Product J</td><td> 2</td></tr>\n",
       "\t<tr><td>Product N</td><td> 3</td></tr>\n",
       "</tbody>\n",
       "</table>\n"
      ],
      "text/latex": [
       "A spec\\_tbl\\_df: 11 × 2\n",
       "\\begin{tabular}{ll}\n",
       " product & n\\\\\n",
       " <chr> & <int>\\\\\n",
       "\\hline\n",
       "\t Product A & 23\\\\\n",
       "\t Product B & 62\\\\\n",
       "\t Product C & 15\\\\\n",
       "\t Product D & 40\\\\\n",
       "\t Product E &  5\\\\\n",
       "\t Product F & 11\\\\\n",
       "\t Product G &  2\\\\\n",
       "\t Product H &  8\\\\\n",
       "\t Product I &  7\\\\\n",
       "\t Product J &  2\\\\\n",
       "\t Product N &  3\\\\\n",
       "\\end{tabular}\n"
      ],
      "text/markdown": [
       "\n",
       "A spec_tbl_df: 11 × 2\n",
       "\n",
       "| product &lt;chr&gt; | n &lt;int&gt; |\n",
       "|---|---|\n",
       "| Product A | 23 |\n",
       "| Product B | 62 |\n",
       "| Product C | 15 |\n",
       "| Product D | 40 |\n",
       "| Product E |  5 |\n",
       "| Product F | 11 |\n",
       "| Product G |  2 |\n",
       "| Product H |  8 |\n",
       "| Product I |  7 |\n",
       "| Product J |  2 |\n",
       "| Product N |  3 |\n",
       "\n"
      ],
      "text/plain": [
       "   product   n \n",
       "1  Product A 23\n",
       "2  Product B 62\n",
       "3  Product C 15\n",
       "4  Product D 40\n",
       "5  Product E  5\n",
       "6  Product F 11\n",
       "7  Product G  2\n",
       "8  Product H  8\n",
       "9  Product I  7\n",
       "10 Product J  2\n",
       "11 Product N  3"
      ]
     },
     "metadata": {},
     "output_type": "display_data"
    }
   ],
   "source": [
    "\n",
    "amir_deals %>%\n",
    "  count(product)"
   ]
  },
  {
   "cell_type": "markdown",
   "id": "e3e2c9b1-09de-43fc-8c5b-b4b912394a47",
   "metadata": {},
   "source": [
    "Create a new column called prob by dividing n by the total number of deals Amir worked on."
   ]
  },
  {
   "cell_type": "code",
   "execution_count": 5,
   "id": "b236635c-8f4e-4210-b485-a3fab23a89a1",
   "metadata": {},
   "outputs": [
    {
     "data": {
      "text/html": [
       "<table class=\"dataframe\">\n",
       "<caption>A tibble: 11 × 3</caption>\n",
       "<thead>\n",
       "\t<tr><th scope=col>product</th><th scope=col>n</th><th scope=col>prob</th></tr>\n",
       "\t<tr><th scope=col>&lt;chr&gt;</th><th scope=col>&lt;int&gt;</th><th scope=col>&lt;dbl&gt;</th></tr>\n",
       "</thead>\n",
       "<tbody>\n",
       "\t<tr><td>Product A</td><td>23</td><td>0.12921348</td></tr>\n",
       "\t<tr><td>Product B</td><td>62</td><td>0.34831461</td></tr>\n",
       "\t<tr><td>Product C</td><td>15</td><td>0.08426966</td></tr>\n",
       "\t<tr><td>Product D</td><td>40</td><td>0.22471910</td></tr>\n",
       "\t<tr><td>Product E</td><td> 5</td><td>0.02808989</td></tr>\n",
       "\t<tr><td>Product F</td><td>11</td><td>0.06179775</td></tr>\n",
       "\t<tr><td>Product G</td><td> 2</td><td>0.01123596</td></tr>\n",
       "\t<tr><td>Product H</td><td> 8</td><td>0.04494382</td></tr>\n",
       "\t<tr><td>Product I</td><td> 7</td><td>0.03932584</td></tr>\n",
       "\t<tr><td>Product J</td><td> 2</td><td>0.01123596</td></tr>\n",
       "\t<tr><td>Product N</td><td> 3</td><td>0.01685393</td></tr>\n",
       "</tbody>\n",
       "</table>\n"
      ],
      "text/latex": [
       "A tibble: 11 × 3\n",
       "\\begin{tabular}{lll}\n",
       " product & n & prob\\\\\n",
       " <chr> & <int> & <dbl>\\\\\n",
       "\\hline\n",
       "\t Product A & 23 & 0.12921348\\\\\n",
       "\t Product B & 62 & 0.34831461\\\\\n",
       "\t Product C & 15 & 0.08426966\\\\\n",
       "\t Product D & 40 & 0.22471910\\\\\n",
       "\t Product E &  5 & 0.02808989\\\\\n",
       "\t Product F & 11 & 0.06179775\\\\\n",
       "\t Product G &  2 & 0.01123596\\\\\n",
       "\t Product H &  8 & 0.04494382\\\\\n",
       "\t Product I &  7 & 0.03932584\\\\\n",
       "\t Product J &  2 & 0.01123596\\\\\n",
       "\t Product N &  3 & 0.01685393\\\\\n",
       "\\end{tabular}\n"
      ],
      "text/markdown": [
       "\n",
       "A tibble: 11 × 3\n",
       "\n",
       "| product &lt;chr&gt; | n &lt;int&gt; | prob &lt;dbl&gt; |\n",
       "|---|---|---|\n",
       "| Product A | 23 | 0.12921348 |\n",
       "| Product B | 62 | 0.34831461 |\n",
       "| Product C | 15 | 0.08426966 |\n",
       "| Product D | 40 | 0.22471910 |\n",
       "| Product E |  5 | 0.02808989 |\n",
       "| Product F | 11 | 0.06179775 |\n",
       "| Product G |  2 | 0.01123596 |\n",
       "| Product H |  8 | 0.04494382 |\n",
       "| Product I |  7 | 0.03932584 |\n",
       "| Product J |  2 | 0.01123596 |\n",
       "| Product N |  3 | 0.01685393 |\n",
       "\n"
      ],
      "text/plain": [
       "   product   n  prob      \n",
       "1  Product A 23 0.12921348\n",
       "2  Product B 62 0.34831461\n",
       "3  Product C 15 0.08426966\n",
       "4  Product D 40 0.22471910\n",
       "5  Product E  5 0.02808989\n",
       "6  Product F 11 0.06179775\n",
       "7  Product G  2 0.01123596\n",
       "8  Product H  8 0.04494382\n",
       "9  Product I  7 0.03932584\n",
       "10 Product J  2 0.01123596\n",
       "11 Product N  3 0.01685393"
      ]
     },
     "metadata": {},
     "output_type": "display_data"
    }
   ],
   "source": [
    "\n",
    "amir_deals %>%\n",
    "  count(product) %>%\n",
    "  mutate(prob = n/sum(n))"
   ]
  },
  {
   "cell_type": "markdown",
   "id": "738c9c29-5135-4fa7-a390-fa63c88571e9",
   "metadata": {},
   "source": [
    "If you randomly select one of Amir's deals, what's the probability that the deal will involve Product C?"
   ]
  },
  {
   "cell_type": "markdown",
   "id": "ac7f016d-a1b5-4755-96aa-a5abb7a99f48",
   "metadata": {},
   "source": [
    "8.43%"
   ]
  },
  {
   "cell_type": "markdown",
   "id": "4759ddc6-f1e9-426f-9de8-024a5e653379",
   "metadata": {},
   "source": [
    "###  Sampling deals"
   ]
  },
  {
   "cell_type": "code",
   "execution_count": 6,
   "id": "0789da5a-9285-45c7-b3dc-728bbe5ff654",
   "metadata": {},
   "outputs": [
    {
     "data": {
      "text/html": [
       "<table class=\"dataframe\">\n",
       "<caption>A spec_tbl_df: 5 × 5</caption>\n",
       "<thead>\n",
       "\t<tr><th scope=col>product</th><th scope=col>client</th><th scope=col>status</th><th scope=col>amount</th><th scope=col>num_users</th></tr>\n",
       "\t<tr><th scope=col>&lt;chr&gt;</th><th scope=col>&lt;chr&gt;</th><th scope=col>&lt;chr&gt;</th><th scope=col>&lt;dbl&gt;</th><th scope=col>&lt;dbl&gt;</th></tr>\n",
       "</thead>\n",
       "<tbody>\n",
       "\t<tr><td>Product D</td><td>Current</td><td>Lost</td><td>3086.88</td><td>55</td></tr>\n",
       "\t<tr><td>Product C</td><td>Current</td><td>Lost</td><td>3727.66</td><td>19</td></tr>\n",
       "\t<tr><td>Product D</td><td>Current</td><td>Lost</td><td>4274.80</td><td> 9</td></tr>\n",
       "\t<tr><td>Product B</td><td>Current</td><td>Won </td><td>4965.08</td><td> 9</td></tr>\n",
       "\t<tr><td>Product A</td><td>Current</td><td>Won </td><td>5827.35</td><td>50</td></tr>\n",
       "</tbody>\n",
       "</table>\n"
      ],
      "text/latex": [
       "A spec\\_tbl\\_df: 5 × 5\n",
       "\\begin{tabular}{lllll}\n",
       " product & client & status & amount & num\\_users\\\\\n",
       " <chr> & <chr> & <chr> & <dbl> & <dbl>\\\\\n",
       "\\hline\n",
       "\t Product D & Current & Lost & 3086.88 & 55\\\\\n",
       "\t Product C & Current & Lost & 3727.66 & 19\\\\\n",
       "\t Product D & Current & Lost & 4274.80 &  9\\\\\n",
       "\t Product B & Current & Won  & 4965.08 &  9\\\\\n",
       "\t Product A & Current & Won  & 5827.35 & 50\\\\\n",
       "\\end{tabular}\n"
      ],
      "text/markdown": [
       "\n",
       "A spec_tbl_df: 5 × 5\n",
       "\n",
       "| product &lt;chr&gt; | client &lt;chr&gt; | status &lt;chr&gt; | amount &lt;dbl&gt; | num_users &lt;dbl&gt; |\n",
       "|---|---|---|---|---|\n",
       "| Product D | Current | Lost | 3086.88 | 55 |\n",
       "| Product C | Current | Lost | 3727.66 | 19 |\n",
       "| Product D | Current | Lost | 4274.80 |  9 |\n",
       "| Product B | Current | Won  | 4965.08 |  9 |\n",
       "| Product A | Current | Won  | 5827.35 | 50 |\n",
       "\n"
      ],
      "text/plain": [
       "  product   client  status amount  num_users\n",
       "1 Product D Current Lost   3086.88 55       \n",
       "2 Product C Current Lost   3727.66 19       \n",
       "3 Product D Current Lost   4274.80  9       \n",
       "4 Product B Current Won    4965.08  9       \n",
       "5 Product A Current Won    5827.35 50       "
      ]
     },
     "metadata": {},
     "output_type": "display_data"
    }
   ],
   "source": [
    "\n",
    "set.seed(31)\n",
    "\n",
    "\n",
    "amir_deals %>%\n",
    "  sample_n(5)"
   ]
  },
  {
   "cell_type": "code",
   "execution_count": 7,
   "id": "9126d7bc-efc7-4d31-bffe-08bfe8a85fc8",
   "metadata": {},
   "outputs": [
    {
     "data": {
      "text/html": [
       "<table class=\"dataframe\">\n",
       "<caption>A spec_tbl_df: 5 × 5</caption>\n",
       "<thead>\n",
       "\t<tr><th scope=col>product</th><th scope=col>client</th><th scope=col>status</th><th scope=col>amount</th><th scope=col>num_users</th></tr>\n",
       "\t<tr><th scope=col>&lt;chr&gt;</th><th scope=col>&lt;chr&gt;</th><th scope=col>&lt;chr&gt;</th><th scope=col>&lt;dbl&gt;</th><th scope=col>&lt;dbl&gt;</th></tr>\n",
       "</thead>\n",
       "<tbody>\n",
       "\t<tr><td>Product D</td><td>Current</td><td>Lost</td><td>3086.88</td><td>55</td></tr>\n",
       "\t<tr><td>Product C</td><td>Current</td><td>Lost</td><td>3727.66</td><td>19</td></tr>\n",
       "\t<tr><td>Product D</td><td>Current</td><td>Lost</td><td>4274.80</td><td> 9</td></tr>\n",
       "\t<tr><td>Product B</td><td>Current</td><td>Won </td><td>4965.08</td><td> 9</td></tr>\n",
       "\t<tr><td>Product A</td><td>Current</td><td>Won </td><td>5827.35</td><td>50</td></tr>\n",
       "</tbody>\n",
       "</table>\n"
      ],
      "text/latex": [
       "A spec\\_tbl\\_df: 5 × 5\n",
       "\\begin{tabular}{lllll}\n",
       " product & client & status & amount & num\\_users\\\\\n",
       " <chr> & <chr> & <chr> & <dbl> & <dbl>\\\\\n",
       "\\hline\n",
       "\t Product D & Current & Lost & 3086.88 & 55\\\\\n",
       "\t Product C & Current & Lost & 3727.66 & 19\\\\\n",
       "\t Product D & Current & Lost & 4274.80 &  9\\\\\n",
       "\t Product B & Current & Won  & 4965.08 &  9\\\\\n",
       "\t Product A & Current & Won  & 5827.35 & 50\\\\\n",
       "\\end{tabular}\n"
      ],
      "text/markdown": [
       "\n",
       "A spec_tbl_df: 5 × 5\n",
       "\n",
       "| product &lt;chr&gt; | client &lt;chr&gt; | status &lt;chr&gt; | amount &lt;dbl&gt; | num_users &lt;dbl&gt; |\n",
       "|---|---|---|---|---|\n",
       "| Product D | Current | Lost | 3086.88 | 55 |\n",
       "| Product C | Current | Lost | 3727.66 | 19 |\n",
       "| Product D | Current | Lost | 4274.80 |  9 |\n",
       "| Product B | Current | Won  | 4965.08 |  9 |\n",
       "| Product A | Current | Won  | 5827.35 | 50 |\n",
       "\n"
      ],
      "text/plain": [
       "  product   client  status amount  num_users\n",
       "1 Product D Current Lost   3086.88 55       \n",
       "2 Product C Current Lost   3727.66 19       \n",
       "3 Product D Current Lost   4274.80  9       \n",
       "4 Product B Current Won    4965.08  9       \n",
       "5 Product A Current Won    5827.35 50       "
      ]
     },
     "metadata": {},
     "output_type": "display_data"
    }
   ],
   "source": [
    "\n",
    "set.seed(31)\n",
    "\n",
    "\n",
    "amir_deals %>%\n",
    "  sample_n(5, replace=TRUE)"
   ]
  },
  {
   "cell_type": "markdown",
   "id": "a469548e-4af3-4c05-98ed-4cc5d66e3947",
   "metadata": {},
   "source": [
    "Spectactular sampling! It's important to consider how you'll take a sample since there's no one-size-fits-all way to sample, and this can have an effect on your results."
   ]
  },
  {
   "cell_type": "markdown",
   "id": "1e8e3294-af1a-4a2d-afa7-ec77d4d56833",
   "metadata": {},
   "source": [
    "### Creating a probability distribution"
   ]
  },
  {
   "cell_type": "code",
   "execution_count": 11,
   "id": "94b7b791-f840-426f-b872-e5e0789f4c02",
   "metadata": {},
   "outputs": [],
   "source": [
    "restaurant_groups <- data.frame(\n",
    "  group_id = c('A', 'B', 'C', 'D', 'E', 'F', 'G', 'H', 'I', 'J'),\n",
    "  group_size = c(2, 4, 6, 2, 2, 2, 3, 2, 4, 2)\n",
    ")"
   ]
  },
  {
   "cell_type": "code",
   "execution_count": 12,
   "id": "d646cd8f-7eab-4019-a9ae-90fea76dd514",
   "metadata": {},
   "outputs": [
    {
     "data": {
      "text/html": [
       "<table class=\"dataframe\">\n",
       "<caption>A data.frame: 10 × 2</caption>\n",
       "<thead>\n",
       "\t<tr><th scope=col>group_id</th><th scope=col>group_size</th></tr>\n",
       "\t<tr><th scope=col>&lt;chr&gt;</th><th scope=col>&lt;dbl&gt;</th></tr>\n",
       "</thead>\n",
       "<tbody>\n",
       "\t<tr><td>A</td><td>2</td></tr>\n",
       "\t<tr><td>B</td><td>4</td></tr>\n",
       "\t<tr><td>C</td><td>6</td></tr>\n",
       "\t<tr><td>D</td><td>2</td></tr>\n",
       "\t<tr><td>E</td><td>2</td></tr>\n",
       "\t<tr><td>F</td><td>2</td></tr>\n",
       "\t<tr><td>G</td><td>3</td></tr>\n",
       "\t<tr><td>H</td><td>2</td></tr>\n",
       "\t<tr><td>I</td><td>4</td></tr>\n",
       "\t<tr><td>J</td><td>2</td></tr>\n",
       "</tbody>\n",
       "</table>\n"
      ],
      "text/latex": [
       "A data.frame: 10 × 2\n",
       "\\begin{tabular}{ll}\n",
       " group\\_id & group\\_size\\\\\n",
       " <chr> & <dbl>\\\\\n",
       "\\hline\n",
       "\t A & 2\\\\\n",
       "\t B & 4\\\\\n",
       "\t C & 6\\\\\n",
       "\t D & 2\\\\\n",
       "\t E & 2\\\\\n",
       "\t F & 2\\\\\n",
       "\t G & 3\\\\\n",
       "\t H & 2\\\\\n",
       "\t I & 4\\\\\n",
       "\t J & 2\\\\\n",
       "\\end{tabular}\n"
      ],
      "text/markdown": [
       "\n",
       "A data.frame: 10 × 2\n",
       "\n",
       "| group_id &lt;chr&gt; | group_size &lt;dbl&gt; |\n",
       "|---|---|\n",
       "| A | 2 |\n",
       "| B | 4 |\n",
       "| C | 6 |\n",
       "| D | 2 |\n",
       "| E | 2 |\n",
       "| F | 2 |\n",
       "| G | 3 |\n",
       "| H | 2 |\n",
       "| I | 4 |\n",
       "| J | 2 |\n",
       "\n"
      ],
      "text/plain": [
       "   group_id group_size\n",
       "1  A        2         \n",
       "2  B        4         \n",
       "3  C        6         \n",
       "4  D        2         \n",
       "5  E        2         \n",
       "6  F        2         \n",
       "7  G        3         \n",
       "8  H        2         \n",
       "9  I        4         \n",
       "10 J        2         "
      ]
     },
     "metadata": {},
     "output_type": "display_data"
    }
   ],
   "source": [
    "restaurant_groups"
   ]
  },
  {
   "cell_type": "code",
   "execution_count": 14,
   "id": "08478ea3-2a58-4ec2-a086-09841d2821d3",
   "metadata": {},
   "outputs": [
    {
     "data": {
      "text/html": [
       "<pre class=language-r><code>function (x) \n",
       "UseMethod(\"group_size\")</code></pre>"
      ],
      "text/latex": [
       "\\begin{minted}{r}\n",
       "function (x) \n",
       "UseMethod(\"group\\_size\")\n",
       "\\end{minted}"
      ],
      "text/markdown": [
       "```r\n",
       "function (x) \n",
       "UseMethod(\"group_size\")\n",
       "```"
      ],
      "text/plain": [
       "function (x) \n",
       "UseMethod(\"group_size\")\n",
       "<bytecode: 0x111bd5238>\n",
       "<environment: namespace:dplyr>"
      ]
     },
     "metadata": {},
     "output_type": "display_data"
    }
   ],
   "source": [
    "group_size"
   ]
  },
  {
   "cell_type": "code",
   "execution_count": 13,
   "id": "2ad40fde-dbdd-40ac-9742-d040df839af9",
   "metadata": {},
   "outputs": [
    {
     "data": {
      "image/png": "[encoded data removed]",
      "text/plain": [
       "plot without title"
      ]
     },
     "metadata": {
      "image/png": {
       "height": 420,
       "width": 420
      }
     },
     "output_type": "display_data"
    }
   ],
   "source": [
    "\n",
    "ggplot(restaurant_groups, aes(group_size)) +\n",
    "  geom_histogram(bins = 5)"
   ]
  },
  {
   "cell_type": "markdown",
   "id": "87147e7c-d2de-4112-ae60-3b0279326cd8",
   "metadata": {},
   "source": [
    "Count the number of each group_size in restaurant_groups, then add a column called probability that contains the probability of randomly selecting a group of each size. Store this in a new data frame called size_distribution."
   ]
  },
  {
   "cell_type": "code",
   "execution_count": 15,
   "id": "7ca07d02-f7e5-4f90-aed8-ed3ae05466dc",
   "metadata": {},
   "outputs": [
    {
     "data": {
      "text/html": [
       "<table class=\"dataframe\">\n",
       "<caption>A data.frame: 4 × 3</caption>\n",
       "<thead>\n",
       "\t<tr><th scope=col>group_size</th><th scope=col>n</th><th scope=col>probability</th></tr>\n",
       "\t<tr><th scope=col>&lt;dbl&gt;</th><th scope=col>&lt;int&gt;</th><th scope=col>&lt;dbl&gt;</th></tr>\n",
       "</thead>\n",
       "<tbody>\n",
       "\t<tr><td>2</td><td>6</td><td>0.6</td></tr>\n",
       "\t<tr><td>3</td><td>1</td><td>0.1</td></tr>\n",
       "\t<tr><td>4</td><td>2</td><td>0.2</td></tr>\n",
       "\t<tr><td>6</td><td>1</td><td>0.1</td></tr>\n",
       "</tbody>\n",
       "</table>\n"
      ],
      "text/latex": [
       "A data.frame: 4 × 3\n",
       "\\begin{tabular}{lll}\n",
       " group\\_size & n & probability\\\\\n",
       " <dbl> & <int> & <dbl>\\\\\n",
       "\\hline\n",
       "\t 2 & 6 & 0.6\\\\\n",
       "\t 3 & 1 & 0.1\\\\\n",
       "\t 4 & 2 & 0.2\\\\\n",
       "\t 6 & 1 & 0.1\\\\\n",
       "\\end{tabular}\n"
      ],
      "text/markdown": [
       "\n",
       "A data.frame: 4 × 3\n",
       "\n",
       "| group_size &lt;dbl&gt; | n &lt;int&gt; | probability &lt;dbl&gt; |\n",
       "|---|---|---|\n",
       "| 2 | 6 | 0.6 |\n",
       "| 3 | 1 | 0.1 |\n",
       "| 4 | 2 | 0.2 |\n",
       "| 6 | 1 | 0.1 |\n",
       "\n"
      ],
      "text/plain": [
       "  group_size n probability\n",
       "1 2          6 0.6        \n",
       "2 3          1 0.1        \n",
       "3 4          2 0.2        \n",
       "4 6          1 0.1        "
      ]
     },
     "metadata": {},
     "output_type": "display_data"
    }
   ],
   "source": [
    "\n",
    "size_distribution <- restaurant_groups %>%\n",
    "  \n",
    "  count(group_size) %>%\n",
    "  \n",
    "  mutate(probability = n / sum(n))\n",
    "\n",
    "size_distribution"
   ]
  },
  {
   "cell_type": "code",
   "execution_count": 16,
   "id": "10a7d1ca-5fba-416e-bf6e-5d3e80332d08",
   "metadata": {},
   "outputs": [
    {
     "data": {
      "text/html": [
       "2.9"
      ],
      "text/latex": [
       "2.9"
      ],
      "text/markdown": [
       "2.9"
      ],
      "text/plain": [
       "[1] 2.9"
      ]
     },
     "metadata": {},
     "output_type": "display_data"
    }
   ],
   "source": [
    "\n",
    "expected_val <- sum(size_distribution$group_size *\n",
    "                    size_distribution$probability)\n",
    "expected_val"
   ]
  },
  {
   "cell_type": "code",
   "execution_count": 17,
   "id": "6300f2fc-ccc1-4b93-a709-491838e8d61e",
   "metadata": {},
   "outputs": [
    {
     "data": {
      "text/html": [
       "<table class=\"dataframe\">\n",
       "<caption>A data.frame: 1 × 1</caption>\n",
       "<thead>\n",
       "\t<tr><th scope=col>prob_4_or_more</th></tr>\n",
       "\t<tr><th scope=col>&lt;dbl&gt;</th></tr>\n",
       "</thead>\n",
       "<tbody>\n",
       "\t<tr><td>0.3</td></tr>\n",
       "</tbody>\n",
       "</table>\n"
      ],
      "text/latex": [
       "A data.frame: 1 × 1\n",
       "\\begin{tabular}{l}\n",
       " prob\\_4\\_or\\_more\\\\\n",
       " <dbl>\\\\\n",
       "\\hline\n",
       "\t 0.3\\\\\n",
       "\\end{tabular}\n"
      ],
      "text/markdown": [
       "\n",
       "A data.frame: 1 × 1\n",
       "\n",
       "| prob_4_or_more &lt;dbl&gt; |\n",
       "|---|\n",
       "| 0.3 |\n",
       "\n"
      ],
      "text/plain": [
       "  prob_4_or_more\n",
       "1 0.3           "
      ]
     },
     "metadata": {},
     "output_type": "display_data"
    }
   ],
   "source": [
    "\n",
    "size_distribution %>%\n",
    "    \n",
    "    filter(group_size >= 4) %>%\n",
    "    \n",
    "    summarize(prob_4_or_more = sum(probability))"
   ]
  },
  {
   "cell_type": "code",
   "execution_count": null,
   "id": "e2531aed-aee9-46ab-9722-f6c6946056c1",
   "metadata": {},
   "outputs": [],
   "source": []
  }
 ],
 "metadata": {
  "kernelspec": {
   "display_name": "R",
   "language": "R",
   "name": "r"
  },
  "language_info": {
   "codemirror_mode": "r",
   "file_extension": ".r",
   "mimetype": "text/x-r-source",
   "name": "R",
   "pygments_lexer": "r",
   "version": "4.3.1"
  }
 },
 "nbformat": 4,
 "nbformat_minor": 5
}
