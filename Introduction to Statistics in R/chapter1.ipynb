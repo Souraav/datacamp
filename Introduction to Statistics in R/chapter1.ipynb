{
 "cells": [
  {
   "cell_type": "markdown",
   "id": "cede2df1-107b-45d6-b2cb-c0cfa4930dc5",
   "metadata": {},
   "source": [
    "# Introduction to Statistics in R"
   ]
  },
  {
   "cell_type": "markdown",
   "id": "625be270-5a7f-436f-bc22-ce32646907b9",
   "metadata": {},
   "source": [
    "## Summary Statistics"
   ]
  },
  {
   "cell_type": "markdown",
   "id": "86a22356-8879-431d-a3f6-f31a1bc54df5",
   "metadata": {},
   "source": [
    "### Mean and median"
   ]
  },
  {
   "cell_type": "code",
   "execution_count": 1,
   "id": "96a6d844-c56b-4b19-be1d-029eab97bf1d",
   "metadata": {},
   "outputs": [],
   "source": [
    "\n",
    "\n"
   ]
  },
  {
   "cell_type": "code",
   "execution_count": 2,
   "id": "53654e0d-1458-4ec8-bda7-6d3699e49ea5",
   "metadata": {},
   "outputs": [
    {
     "name": "stdout",
     "output_type": "stream",
     "text": [
      "\n",
      "The downloaded binary packages are in\n",
      "\t/var/folders/_n/j4yxcfdd4hndhcyg8xh51sc00000gn/T//Rtmp3UyCVq/downloaded_packages\n",
      "\n",
      "The downloaded binary packages are in\n",
      "\t/var/folders/_n/j4yxcfdd4hndhcyg8xh51sc00000gn/T//Rtmp3UyCVq/downloaded_packages\n"
     ]
    }
   ],
   "source": [
    "install.packages(\"readr\")\n",
    "install.packages(\"tidyverse\")"
   ]
  },
  {
   "cell_type": "code",
   "execution_count": 3,
   "id": "6b72870e-a925-45e7-9ec3-8f2adf71f00a",
   "metadata": {},
   "outputs": [],
   "source": [
    "library(readr)"
   ]
  },
  {
   "cell_type": "code",
   "execution_count": 4,
   "id": "6a7118bb-56bf-47f6-8491-29a748857647",
   "metadata": {},
   "outputs": [
    {
     "name": "stderr",
     "output_type": "stream",
     "text": [
      "── \u001b[1mAttaching core tidyverse packages\u001b[22m ──────────────────────────────────────────────────────────────────────────────────────────────────────────────────────────────────────────────────────── tidyverse 2.0.0 ──\n",
      "\u001b[32m✔\u001b[39m \u001b[34mdplyr    \u001b[39m 1.1.3     \u001b[32m✔\u001b[39m \u001b[34mpurrr    \u001b[39m 1.0.2\n",
      "\u001b[32m✔\u001b[39m \u001b[34mforcats  \u001b[39m 1.0.0     \u001b[32m✔\u001b[39m \u001b[34mstringr  \u001b[39m 1.5.0\n",
      "\u001b[32m✔\u001b[39m \u001b[34mggplot2  \u001b[39m 3.4.3     \u001b[32m✔\u001b[39m \u001b[34mtibble   \u001b[39m 3.2.1\n",
      "\u001b[32m✔\u001b[39m \u001b[34mlubridate\u001b[39m 1.9.3     \u001b[32m✔\u001b[39m \u001b[34mtidyr    \u001b[39m 1.3.0\n",
      "── \u001b[1mConflicts\u001b[22m ────────────────────────────────────────────────────────────────────────────────────────────────────────────────────────────────────────────────────────────────────────── tidyverse_conflicts() ──\n",
      "\u001b[31m✖\u001b[39m \u001b[34mdplyr\u001b[39m::\u001b[32mfilter()\u001b[39m masks \u001b[34mstats\u001b[39m::filter()\n",
      "\u001b[31m✖\u001b[39m \u001b[34mdplyr\u001b[39m::\u001b[32mlag()\u001b[39m    masks \u001b[34mstats\u001b[39m::lag()\n",
      "\u001b[36mℹ\u001b[39m Use the conflicted package (\u001b[3m\u001b[34m<http://conflicted.r-lib.org/>\u001b[39m\u001b[23m) to force all conflicts to become errors\n"
     ]
    }
   ],
   "source": [
    "library(tidyverse)"
   ]
  },
  {
   "cell_type": "code",
   "execution_count": 5,
   "id": "be74c517-324d-47b7-b40b-643e8efbf8b2",
   "metadata": {},
   "outputs": [
    {
     "name": "stderr",
     "output_type": "stream",
     "text": [
      "\u001b[1mRows: \u001b[22m\u001b[34m1430\u001b[39m \u001b[1mColumns: \u001b[22m\u001b[34m4\u001b[39m\n",
      "\u001b[36m──\u001b[39m \u001b[1mColumn specification\u001b[22m \u001b[36m────────────────────────────────────────────────────────────────────────────────────────────────────────────────────────────────────────────────────────────────────────────────────────\u001b[39m\n",
      "\u001b[1mDelimiter:\u001b[22m \",\"\n",
      "\u001b[31mchr\u001b[39m (2): country, food_category\n",
      "\u001b[32mdbl\u001b[39m (2): consumption, co2_emission\n",
      "\n",
      "\u001b[36mℹ\u001b[39m Use `spec()` to retrieve the full column specification for this data.\n",
      "\u001b[36mℹ\u001b[39m Specify the column types or set `show_col_types = FALSE` to quiet this message.\n"
     ]
    }
   ],
   "source": [
    "food_consumption <- read_csv(\"food.csv\")"
   ]
  },
  {
   "cell_type": "code",
   "execution_count": 6,
   "id": "58e35e6b-7621-47a0-ba80-ef6c831b18d7",
   "metadata": {},
   "outputs": [
    {
     "data": {
      "text/html": [
       "<table class=\"dataframe\">\n",
       "<caption>A spec_tbl_df: 1430 × 4</caption>\n",
       "<thead>\n",
       "\t<tr><th scope=col>country</th><th scope=col>food_category</th><th scope=col>consumption</th><th scope=col>co2_emission</th></tr>\n",
       "\t<tr><th scope=col>&lt;chr&gt;</th><th scope=col>&lt;chr&gt;</th><th scope=col>&lt;dbl&gt;</th><th scope=col>&lt;dbl&gt;</th></tr>\n",
       "</thead>\n",
       "<tbody>\n",
       "\t<tr><td>Argentina</td><td>pork     </td><td> 10.51</td><td>  37.20</td></tr>\n",
       "\t<tr><td>Argentina</td><td>poultry  </td><td> 38.66</td><td>  41.53</td></tr>\n",
       "\t<tr><td>Argentina</td><td>beef     </td><td> 55.48</td><td>1712.00</td></tr>\n",
       "\t<tr><td>Argentina</td><td>lamb_goat</td><td>  1.56</td><td>  54.63</td></tr>\n",
       "\t<tr><td>Argentina</td><td>fish     </td><td>  4.36</td><td>   6.96</td></tr>\n",
       "\t<tr><td>Argentina</td><td>eggs     </td><td> 11.39</td><td>  10.46</td></tr>\n",
       "\t<tr><td>Argentina</td><td>dairy    </td><td>195.08</td><td> 277.87</td></tr>\n",
       "\t<tr><td>Argentina</td><td>wheat    </td><td>103.11</td><td>  19.66</td></tr>\n",
       "\t<tr><td>Argentina</td><td>rice     </td><td>  8.77</td><td>  11.22</td></tr>\n",
       "\t<tr><td>Argentina</td><td>soybeans </td><td>  0.00</td><td>   0.00</td></tr>\n",
       "\t<tr><td>Argentina</td><td>nuts     </td><td>  0.49</td><td>   0.87</td></tr>\n",
       "\t<tr><td>Australia</td><td>pork     </td><td> 24.14</td><td>  85.44</td></tr>\n",
       "\t<tr><td>Australia</td><td>poultry  </td><td> 46.12</td><td>  49.54</td></tr>\n",
       "\t<tr><td>Australia</td><td>beef     </td><td> 33.86</td><td>1044.85</td></tr>\n",
       "\t<tr><td>Australia</td><td>lamb_goat</td><td>  9.87</td><td> 345.65</td></tr>\n",
       "\t<tr><td>Australia</td><td>fish     </td><td> 17.69</td><td>  28.25</td></tr>\n",
       "\t<tr><td>Australia</td><td>eggs     </td><td>  8.51</td><td>   7.82</td></tr>\n",
       "\t<tr><td>Australia</td><td>dairy    </td><td>234.49</td><td> 334.01</td></tr>\n",
       "\t<tr><td>Australia</td><td>wheat    </td><td> 70.46</td><td>  13.44</td></tr>\n",
       "\t<tr><td>Australia</td><td>rice     </td><td> 11.03</td><td>  14.12</td></tr>\n",
       "\t<tr><td>Australia</td><td>soybeans </td><td>  0.19</td><td>   0.09</td></tr>\n",
       "\t<tr><td>Australia</td><td>nuts     </td><td>  8.73</td><td>  15.45</td></tr>\n",
       "\t<tr><td>Albania  </td><td>pork     </td><td> 10.88</td><td>  38.51</td></tr>\n",
       "\t<tr><td>Albania  </td><td>poultry  </td><td> 13.23</td><td>  14.21</td></tr>\n",
       "\t<tr><td>Albania  </td><td>beef     </td><td> 22.50</td><td> 694.30</td></tr>\n",
       "\t<tr><td>Albania  </td><td>lamb_goat</td><td> 15.32</td><td> 536.50</td></tr>\n",
       "\t<tr><td>Albania  </td><td>fish     </td><td>  3.85</td><td>   6.15</td></tr>\n",
       "\t<tr><td>Albania  </td><td>eggs     </td><td> 12.45</td><td>  11.44</td></tr>\n",
       "\t<tr><td>Albania  </td><td>dairy    </td><td>303.72</td><td> 432.62</td></tr>\n",
       "\t<tr><td>Albania  </td><td>wheat    </td><td>138.64</td><td>  26.44</td></tr>\n",
       "\t<tr><td>⋮</td><td>⋮</td><td>⋮</td><td>⋮</td></tr>\n",
       "\t<tr><td>Indonesia </td><td>lamb_goat</td><td>  0.46</td><td> 16.11</td></tr>\n",
       "\t<tr><td>Indonesia </td><td>fish     </td><td> 25.65</td><td> 40.95</td></tr>\n",
       "\t<tr><td>Indonesia </td><td>eggs     </td><td>  4.88</td><td>  4.48</td></tr>\n",
       "\t<tr><td>Indonesia </td><td>dairy    </td><td> 14.82</td><td> 21.11</td></tr>\n",
       "\t<tr><td>Indonesia </td><td>wheat    </td><td> 25.45</td><td>  4.85</td></tr>\n",
       "\t<tr><td>Indonesia </td><td>rice     </td><td>134.62</td><td>172.27</td></tr>\n",
       "\t<tr><td>Indonesia </td><td>soybeans </td><td>  1.12</td><td>  0.50</td></tr>\n",
       "\t<tr><td>Indonesia </td><td>nuts     </td><td>  4.92</td><td>  8.71</td></tr>\n",
       "\t<tr><td>Liberia   </td><td>pork     </td><td>  4.01</td><td> 14.19</td></tr>\n",
       "\t<tr><td>Liberia   </td><td>poultry  </td><td>  8.91</td><td>  9.57</td></tr>\n",
       "\t<tr><td>Liberia   </td><td>beef     </td><td>  0.78</td><td> 24.07</td></tr>\n",
       "\t<tr><td>Liberia   </td><td>lamb_goat</td><td>  0.48</td><td> 16.81</td></tr>\n",
       "\t<tr><td>Liberia   </td><td>fish     </td><td>  4.13</td><td>  6.59</td></tr>\n",
       "\t<tr><td>Liberia   </td><td>eggs     </td><td>  2.05</td><td>  1.88</td></tr>\n",
       "\t<tr><td>Liberia   </td><td>dairy    </td><td>  3.04</td><td>  4.33</td></tr>\n",
       "\t<tr><td>Liberia   </td><td>wheat    </td><td> 10.95</td><td>  2.09</td></tr>\n",
       "\t<tr><td>Liberia   </td><td>rice     </td><td> 94.75</td><td>121.25</td></tr>\n",
       "\t<tr><td>Liberia   </td><td>soybeans </td><td>  0.63</td><td>  0.28</td></tr>\n",
       "\t<tr><td>Liberia   </td><td>nuts     </td><td>  1.31</td><td>  2.32</td></tr>\n",
       "\t<tr><td>Bangladesh</td><td>pork     </td><td>  0.00</td><td>  0.00</td></tr>\n",
       "\t<tr><td>Bangladesh</td><td>poultry  </td><td>  1.40</td><td>  1.50</td></tr>\n",
       "\t<tr><td>Bangladesh</td><td>beef     </td><td>  1.28</td><td> 39.50</td></tr>\n",
       "\t<tr><td>Bangladesh</td><td>lamb_goat</td><td>  1.33</td><td> 46.58</td></tr>\n",
       "\t<tr><td>Bangladesh</td><td>fish     </td><td> 18.07</td><td> 28.85</td></tr>\n",
       "\t<tr><td>Bangladesh</td><td>eggs     </td><td>  2.08</td><td>  1.91</td></tr>\n",
       "\t<tr><td>Bangladesh</td><td>dairy    </td><td> 21.91</td><td> 31.21</td></tr>\n",
       "\t<tr><td>Bangladesh</td><td>wheat    </td><td> 17.47</td><td>  3.33</td></tr>\n",
       "\t<tr><td>Bangladesh</td><td>rice     </td><td>171.73</td><td>219.76</td></tr>\n",
       "\t<tr><td>Bangladesh</td><td>soybeans </td><td>  0.61</td><td>  0.27</td></tr>\n",
       "\t<tr><td>Bangladesh</td><td>nuts     </td><td>  0.72</td><td>  1.27</td></tr>\n",
       "</tbody>\n",
       "</table>\n"
      ],
      "text/latex": [
       "A spec\\_tbl\\_df: 1430 × 4\n",
       "\\begin{tabular}{llll}\n",
       " country & food\\_category & consumption & co2\\_emission\\\\\n",
       " <chr> & <chr> & <dbl> & <dbl>\\\\\n",
       "\\hline\n",
       "\t Argentina & pork      &  10.51 &   37.20\\\\\n",
       "\t Argentina & poultry   &  38.66 &   41.53\\\\\n",
       "\t Argentina & beef      &  55.48 & 1712.00\\\\\n",
       "\t Argentina & lamb\\_goat &   1.56 &   54.63\\\\\n",
       "\t Argentina & fish      &   4.36 &    6.96\\\\\n",
       "\t Argentina & eggs      &  11.39 &   10.46\\\\\n",
       "\t Argentina & dairy     & 195.08 &  277.87\\\\\n",
       "\t Argentina & wheat     & 103.11 &   19.66\\\\\n",
       "\t Argentina & rice      &   8.77 &   11.22\\\\\n",
       "\t Argentina & soybeans  &   0.00 &    0.00\\\\\n",
       "\t Argentina & nuts      &   0.49 &    0.87\\\\\n",
       "\t Australia & pork      &  24.14 &   85.44\\\\\n",
       "\t Australia & poultry   &  46.12 &   49.54\\\\\n",
       "\t Australia & beef      &  33.86 & 1044.85\\\\\n",
       "\t Australia & lamb\\_goat &   9.87 &  345.65\\\\\n",
       "\t Australia & fish      &  17.69 &   28.25\\\\\n",
       "\t Australia & eggs      &   8.51 &    7.82\\\\\n",
       "\t Australia & dairy     & 234.49 &  334.01\\\\\n",
       "\t Australia & wheat     &  70.46 &   13.44\\\\\n",
       "\t Australia & rice      &  11.03 &   14.12\\\\\n",
       "\t Australia & soybeans  &   0.19 &    0.09\\\\\n",
       "\t Australia & nuts      &   8.73 &   15.45\\\\\n",
       "\t Albania   & pork      &  10.88 &   38.51\\\\\n",
       "\t Albania   & poultry   &  13.23 &   14.21\\\\\n",
       "\t Albania   & beef      &  22.50 &  694.30\\\\\n",
       "\t Albania   & lamb\\_goat &  15.32 &  536.50\\\\\n",
       "\t Albania   & fish      &   3.85 &    6.15\\\\\n",
       "\t Albania   & eggs      &  12.45 &   11.44\\\\\n",
       "\t Albania   & dairy     & 303.72 &  432.62\\\\\n",
       "\t Albania   & wheat     & 138.64 &   26.44\\\\\n",
       "\t ⋮ & ⋮ & ⋮ & ⋮\\\\\n",
       "\t Indonesia  & lamb\\_goat &   0.46 &  16.11\\\\\n",
       "\t Indonesia  & fish      &  25.65 &  40.95\\\\\n",
       "\t Indonesia  & eggs      &   4.88 &   4.48\\\\\n",
       "\t Indonesia  & dairy     &  14.82 &  21.11\\\\\n",
       "\t Indonesia  & wheat     &  25.45 &   4.85\\\\\n",
       "\t Indonesia  & rice      & 134.62 & 172.27\\\\\n",
       "\t Indonesia  & soybeans  &   1.12 &   0.50\\\\\n",
       "\t Indonesia  & nuts      &   4.92 &   8.71\\\\\n",
       "\t Liberia    & pork      &   4.01 &  14.19\\\\\n",
       "\t Liberia    & poultry   &   8.91 &   9.57\\\\\n",
       "\t Liberia    & beef      &   0.78 &  24.07\\\\\n",
       "\t Liberia    & lamb\\_goat &   0.48 &  16.81\\\\\n",
       "\t Liberia    & fish      &   4.13 &   6.59\\\\\n",
       "\t Liberia    & eggs      &   2.05 &   1.88\\\\\n",
       "\t Liberia    & dairy     &   3.04 &   4.33\\\\\n",
       "\t Liberia    & wheat     &  10.95 &   2.09\\\\\n",
       "\t Liberia    & rice      &  94.75 & 121.25\\\\\n",
       "\t Liberia    & soybeans  &   0.63 &   0.28\\\\\n",
       "\t Liberia    & nuts      &   1.31 &   2.32\\\\\n",
       "\t Bangladesh & pork      &   0.00 &   0.00\\\\\n",
       "\t Bangladesh & poultry   &   1.40 &   1.50\\\\\n",
       "\t Bangladesh & beef      &   1.28 &  39.50\\\\\n",
       "\t Bangladesh & lamb\\_goat &   1.33 &  46.58\\\\\n",
       "\t Bangladesh & fish      &  18.07 &  28.85\\\\\n",
       "\t Bangladesh & eggs      &   2.08 &   1.91\\\\\n",
       "\t Bangladesh & dairy     &  21.91 &  31.21\\\\\n",
       "\t Bangladesh & wheat     &  17.47 &   3.33\\\\\n",
       "\t Bangladesh & rice      & 171.73 & 219.76\\\\\n",
       "\t Bangladesh & soybeans  &   0.61 &   0.27\\\\\n",
       "\t Bangladesh & nuts      &   0.72 &   1.27\\\\\n",
       "\\end{tabular}\n"
      ],
      "text/markdown": [
       "\n",
       "A spec_tbl_df: 1430 × 4\n",
       "\n",
       "| country &lt;chr&gt; | food_category &lt;chr&gt; | consumption &lt;dbl&gt; | co2_emission &lt;dbl&gt; |\n",
       "|---|---|---|---|\n",
       "| Argentina | pork      |  10.51 |   37.20 |\n",
       "| Argentina | poultry   |  38.66 |   41.53 |\n",
       "| Argentina | beef      |  55.48 | 1712.00 |\n",
       "| Argentina | lamb_goat |   1.56 |   54.63 |\n",
       "| Argentina | fish      |   4.36 |    6.96 |\n",
       "| Argentina | eggs      |  11.39 |   10.46 |\n",
       "| Argentina | dairy     | 195.08 |  277.87 |\n",
       "| Argentina | wheat     | 103.11 |   19.66 |\n",
       "| Argentina | rice      |   8.77 |   11.22 |\n",
       "| Argentina | soybeans  |   0.00 |    0.00 |\n",
       "| Argentina | nuts      |   0.49 |    0.87 |\n",
       "| Australia | pork      |  24.14 |   85.44 |\n",
       "| Australia | poultry   |  46.12 |   49.54 |\n",
       "| Australia | beef      |  33.86 | 1044.85 |\n",
       "| Australia | lamb_goat |   9.87 |  345.65 |\n",
       "| Australia | fish      |  17.69 |   28.25 |\n",
       "| Australia | eggs      |   8.51 |    7.82 |\n",
       "| Australia | dairy     | 234.49 |  334.01 |\n",
       "| Australia | wheat     |  70.46 |   13.44 |\n",
       "| Australia | rice      |  11.03 |   14.12 |\n",
       "| Australia | soybeans  |   0.19 |    0.09 |\n",
       "| Australia | nuts      |   8.73 |   15.45 |\n",
       "| Albania   | pork      |  10.88 |   38.51 |\n",
       "| Albania   | poultry   |  13.23 |   14.21 |\n",
       "| Albania   | beef      |  22.50 |  694.30 |\n",
       "| Albania   | lamb_goat |  15.32 |  536.50 |\n",
       "| Albania   | fish      |   3.85 |    6.15 |\n",
       "| Albania   | eggs      |  12.45 |   11.44 |\n",
       "| Albania   | dairy     | 303.72 |  432.62 |\n",
       "| Albania   | wheat     | 138.64 |   26.44 |\n",
       "| ⋮ | ⋮ | ⋮ | ⋮ |\n",
       "| Indonesia  | lamb_goat |   0.46 |  16.11 |\n",
       "| Indonesia  | fish      |  25.65 |  40.95 |\n",
       "| Indonesia  | eggs      |   4.88 |   4.48 |\n",
       "| Indonesia  | dairy     |  14.82 |  21.11 |\n",
       "| Indonesia  | wheat     |  25.45 |   4.85 |\n",
       "| Indonesia  | rice      | 134.62 | 172.27 |\n",
       "| Indonesia  | soybeans  |   1.12 |   0.50 |\n",
       "| Indonesia  | nuts      |   4.92 |   8.71 |\n",
       "| Liberia    | pork      |   4.01 |  14.19 |\n",
       "| Liberia    | poultry   |   8.91 |   9.57 |\n",
       "| Liberia    | beef      |   0.78 |  24.07 |\n",
       "| Liberia    | lamb_goat |   0.48 |  16.81 |\n",
       "| Liberia    | fish      |   4.13 |   6.59 |\n",
       "| Liberia    | eggs      |   2.05 |   1.88 |\n",
       "| Liberia    | dairy     |   3.04 |   4.33 |\n",
       "| Liberia    | wheat     |  10.95 |   2.09 |\n",
       "| Liberia    | rice      |  94.75 | 121.25 |\n",
       "| Liberia    | soybeans  |   0.63 |   0.28 |\n",
       "| Liberia    | nuts      |   1.31 |   2.32 |\n",
       "| Bangladesh | pork      |   0.00 |   0.00 |\n",
       "| Bangladesh | poultry   |   1.40 |   1.50 |\n",
       "| Bangladesh | beef      |   1.28 |  39.50 |\n",
       "| Bangladesh | lamb_goat |   1.33 |  46.58 |\n",
       "| Bangladesh | fish      |  18.07 |  28.85 |\n",
       "| Bangladesh | eggs      |   2.08 |   1.91 |\n",
       "| Bangladesh | dairy     |  21.91 |  31.21 |\n",
       "| Bangladesh | wheat     |  17.47 |   3.33 |\n",
       "| Bangladesh | rice      | 171.73 | 219.76 |\n",
       "| Bangladesh | soybeans  |   0.61 |   0.27 |\n",
       "| Bangladesh | nuts      |   0.72 |   1.27 |\n",
       "\n"
      ],
      "text/plain": [
       "     country    food_category consumption co2_emission\n",
       "1    Argentina  pork           10.51        37.20     \n",
       "2    Argentina  poultry        38.66        41.53     \n",
       "3    Argentina  beef           55.48      1712.00     \n",
       "4    Argentina  lamb_goat       1.56        54.63     \n",
       "5    Argentina  fish            4.36         6.96     \n",
       "6    Argentina  eggs           11.39        10.46     \n",
       "7    Argentina  dairy         195.08       277.87     \n",
       "8    Argentina  wheat         103.11        19.66     \n",
       "9    Argentina  rice            8.77        11.22     \n",
       "10   Argentina  soybeans        0.00         0.00     \n",
       "11   Argentina  nuts            0.49         0.87     \n",
       "12   Australia  pork           24.14        85.44     \n",
       "13   Australia  poultry        46.12        49.54     \n",
       "14   Australia  beef           33.86      1044.85     \n",
       "15   Australia  lamb_goat       9.87       345.65     \n",
       "16   Australia  fish           17.69        28.25     \n",
       "17   Australia  eggs            8.51         7.82     \n",
       "18   Australia  dairy         234.49       334.01     \n",
       "19   Australia  wheat          70.46        13.44     \n",
       "20   Australia  rice           11.03        14.12     \n",
       "21   Australia  soybeans        0.19         0.09     \n",
       "22   Australia  nuts            8.73        15.45     \n",
       "23   Albania    pork           10.88        38.51     \n",
       "24   Albania    poultry        13.23        14.21     \n",
       "25   Albania    beef           22.50       694.30     \n",
       "26   Albania    lamb_goat      15.32       536.50     \n",
       "27   Albania    fish            3.85         6.15     \n",
       "28   Albania    eggs           12.45        11.44     \n",
       "29   Albania    dairy         303.72       432.62     \n",
       "30   Albania    wheat         138.64        26.44     \n",
       "⋮    ⋮          ⋮             ⋮           ⋮           \n",
       "1401 Indonesia  lamb_goat       0.46       16.11      \n",
       "1402 Indonesia  fish           25.65       40.95      \n",
       "1403 Indonesia  eggs            4.88        4.48      \n",
       "1404 Indonesia  dairy          14.82       21.11      \n",
       "1405 Indonesia  wheat          25.45        4.85      \n",
       "1406 Indonesia  rice          134.62      172.27      \n",
       "1407 Indonesia  soybeans        1.12        0.50      \n",
       "1408 Indonesia  nuts            4.92        8.71      \n",
       "1409 Liberia    pork            4.01       14.19      \n",
       "1410 Liberia    poultry         8.91        9.57      \n",
       "1411 Liberia    beef            0.78       24.07      \n",
       "1412 Liberia    lamb_goat       0.48       16.81      \n",
       "1413 Liberia    fish            4.13        6.59      \n",
       "1414 Liberia    eggs            2.05        1.88      \n",
       "1415 Liberia    dairy           3.04        4.33      \n",
       "1416 Liberia    wheat          10.95        2.09      \n",
       "1417 Liberia    rice           94.75      121.25      \n",
       "1418 Liberia    soybeans        0.63        0.28      \n",
       "1419 Liberia    nuts            1.31        2.32      \n",
       "1420 Bangladesh pork            0.00        0.00      \n",
       "1421 Bangladesh poultry         1.40        1.50      \n",
       "1422 Bangladesh beef            1.28       39.50      \n",
       "1423 Bangladesh lamb_goat       1.33       46.58      \n",
       "1424 Bangladesh fish           18.07       28.85      \n",
       "1425 Bangladesh eggs            2.08        1.91      \n",
       "1426 Bangladesh dairy          21.91       31.21      \n",
       "1427 Bangladesh wheat          17.47        3.33      \n",
       "1428 Bangladesh rice          171.73      219.76      \n",
       "1429 Bangladesh soybeans        0.61        0.27      \n",
       "1430 Bangladesh nuts            0.72        1.27      "
      ]
     },
     "metadata": {},
     "output_type": "display_data"
    }
   ],
   "source": [
    "food_consumption"
   ]
  },
  {
   "cell_type": "markdown",
   "id": "4d9b0a2f-2b37-4ec3-b730-dbee745f9b40",
   "metadata": {},
   "source": [
    "### Mean and median"
   ]
  },
  {
   "cell_type": "code",
   "execution_count": 7,
   "id": "9a181feb-30cc-4d5d-b71c-6bbcf6180b7c",
   "metadata": {},
   "outputs": [
    {
     "data": {
      "text/html": [
       "42.1327272727273"
      ],
      "text/latex": [
       "42.1327272727273"
      ],
      "text/markdown": [
       "42.1327272727273"
      ],
      "text/plain": [
       "[1] 42.13273"
      ]
     },
     "metadata": {},
     "output_type": "display_data"
    },
    {
     "data": {
      "text/html": [
       "12.59"
      ],
      "text/latex": [
       "12.59"
      ],
      "text/markdown": [
       "12.59"
      ],
      "text/plain": [
       "[1] 12.59"
      ]
     },
     "metadata": {},
     "output_type": "display_data"
    },
    {
     "data": {
      "text/html": [
       "44.65"
      ],
      "text/latex": [
       "44.65"
      ],
      "text/markdown": [
       "44.65"
      ],
      "text/plain": [
       "[1] 44.65"
      ]
     },
     "metadata": {},
     "output_type": "display_data"
    },
    {
     "data": {
      "text/html": [
       "14.58"
      ],
      "text/latex": [
       "14.58"
      ],
      "text/markdown": [
       "14.58"
      ],
      "text/plain": [
       "[1] 14.58"
      ]
     },
     "metadata": {},
     "output_type": "display_data"
    }
   ],
   "source": [
    "\n",
    "belgium_consumption <- food_consumption %>% \n",
    "    filter(country==\"Belgium\")\n",
    "\n",
    "\n",
    "usa_consumption <- food_consumption %>% \n",
    "    filter(country==\"USA\")\n",
    "\n",
    "\n",
    "mean(belgium_consumption$consumption)\n",
    "median(belgium_consumption$consumption)\n",
    "\n",
    "\n",
    "mean(usa_consumption$consumption)\n",
    "median(usa_consumption$consumption)"
   ]
  },
  {
   "cell_type": "code",
   "execution_count": 8,
   "id": "bd6c1c30-9167-480a-8a8b-319886175008",
   "metadata": {},
   "outputs": [
    {
     "data": {
      "text/html": [
       "<table class=\"dataframe\">\n",
       "<caption>A tibble: 2 × 3</caption>\n",
       "<thead>\n",
       "\t<tr><th scope=col>country</th><th scope=col>mean_consumption</th><th scope=col>median_consumption</th></tr>\n",
       "\t<tr><th scope=col>&lt;chr&gt;</th><th scope=col>&lt;dbl&gt;</th><th scope=col>&lt;dbl&gt;</th></tr>\n",
       "</thead>\n",
       "<tbody>\n",
       "\t<tr><td>Belgium</td><td>42.13273</td><td>12.59</td></tr>\n",
       "\t<tr><td>USA    </td><td>44.65000</td><td>14.58</td></tr>\n",
       "</tbody>\n",
       "</table>\n"
      ],
      "text/latex": [
       "A tibble: 2 × 3\n",
       "\\begin{tabular}{lll}\n",
       " country & mean\\_consumption & median\\_consumption\\\\\n",
       " <chr> & <dbl> & <dbl>\\\\\n",
       "\\hline\n",
       "\t Belgium & 42.13273 & 12.59\\\\\n",
       "\t USA     & 44.65000 & 14.58\\\\\n",
       "\\end{tabular}\n"
      ],
      "text/markdown": [
       "\n",
       "A tibble: 2 × 3\n",
       "\n",
       "| country &lt;chr&gt; | mean_consumption &lt;dbl&gt; | median_consumption &lt;dbl&gt; |\n",
       "|---|---|---|\n",
       "| Belgium | 42.13273 | 12.59 |\n",
       "| USA     | 44.65000 | 14.58 |\n",
       "\n"
      ],
      "text/plain": [
       "  country mean_consumption median_consumption\n",
       "1 Belgium 42.13273         12.59             \n",
       "2 USA     44.65000         14.58             "
      ]
     },
     "metadata": {},
     "output_type": "display_data"
    }
   ],
   "source": [
    "food_consumption %>%\n",
    "  \n",
    "  filter(country %in% c(\"Belgium\", \"USA\")) %>%\n",
    "  \n",
    "  group_by(country) %>%\n",
    "  \n",
    "  summarize(mean_consumption = mean(consumption),\n",
    "      median_consumption = median(consumption))"
   ]
  },
  {
   "cell_type": "markdown",
   "id": "e91d7d48-4594-47d5-b487-420f242f5e28",
   "metadata": {},
   "source": [
    "### Mean vs. median"
   ]
  },
  {
   "cell_type": "code",
   "execution_count": 9,
   "id": "296612ea-707d-4636-b87c-86aed635fa4a",
   "metadata": {},
   "outputs": [
    {
     "name": "stderr",
     "output_type": "stream",
     "text": [
      "\u001b[1m\u001b[22m`stat_bin()` using `bins = 30`. Pick better value with `binwidth`.\n"
     ]
    },
    {
     "data": {
      "image/png": "[encoded data removed]",
      "text/plain": [
       "plot without title"
      ]
     },
     "metadata": {
      "image/png": {
       "height": 420,
       "width": 420
      }
     },
     "output_type": "display_data"
    }
   ],
   "source": [
    "food_consumption %>%\n",
    "  \n",
    "  filter(food_category == \"rice\") %>%\n",
    "  \n",
    "  ggplot(aes(co2_emission)) +\n",
    "    geom_histogram()"
   ]
  },
  {
   "cell_type": "code",
   "execution_count": 10,
   "id": "5874665a-afe1-4ded-bfb7-40e78555b9b5",
   "metadata": {},
   "outputs": [
    {
     "data": {
      "text/html": [
       "<table class=\"dataframe\">\n",
       "<caption>A tibble: 1 × 2</caption>\n",
       "<thead>\n",
       "\t<tr><th scope=col>mean_co2</th><th scope=col>median_co2</th></tr>\n",
       "\t<tr><th scope=col>&lt;dbl&gt;</th><th scope=col>&lt;dbl&gt;</th></tr>\n",
       "</thead>\n",
       "<tbody>\n",
       "\t<tr><td>37.59162</td><td>15.2</td></tr>\n",
       "</tbody>\n",
       "</table>\n"
      ],
      "text/latex": [
       "A tibble: 1 × 2\n",
       "\\begin{tabular}{ll}\n",
       " mean\\_co2 & median\\_co2\\\\\n",
       " <dbl> & <dbl>\\\\\n",
       "\\hline\n",
       "\t 37.59162 & 15.2\\\\\n",
       "\\end{tabular}\n"
      ],
      "text/markdown": [
       "\n",
       "A tibble: 1 × 2\n",
       "\n",
       "| mean_co2 &lt;dbl&gt; | median_co2 &lt;dbl&gt; |\n",
       "|---|---|\n",
       "| 37.59162 | 15.2 |\n",
       "\n"
      ],
      "text/plain": [
       "  mean_co2 median_co2\n",
       "1 37.59162 15.2      "
      ]
     },
     "metadata": {},
     "output_type": "display_data"
    }
   ],
   "source": [
    "food_consumption %>%\n",
    "  \n",
    "  filter(food_category == \"rice\") %>%\n",
    "  \n",
    "  summarize(mean_co2 = mean(co2_emission),\n",
    "            median_co2 = median(co2_emission))"
   ]
  },
  {
   "cell_type": "code",
   "execution_count": null,
   "id": "84006727-16d9-49ff-9c6e-51ab1f8beb2f",
   "metadata": {},
   "outputs": [],
   "source": []
  },
  {
   "cell_type": "markdown",
   "id": "0a248ac5-ad79-4078-a885-49b9fd508402",
   "metadata": {},
   "source": [
    "### Quartiles, quantiles, and quintiles"
   ]
  },
  {
   "cell_type": "code",
   "execution_count": 11,
   "id": "0fd76def-967b-4ab5-858e-1cf34a0b9151",
   "metadata": {},
   "outputs": [
    {
     "data": {
      "text/html": [
       "<style>\n",
       ".dl-inline {width: auto; margin:0; padding: 0}\n",
       ".dl-inline>dt, .dl-inline>dd {float: none; width: auto; display: inline-block}\n",
       ".dl-inline>dt::after {content: \":\\0020\"; padding-right: .5ex}\n",
       ".dl-inline>dt:not(:first-of-type) {padding-left: .5ex}\n",
       "</style><dl class=dl-inline><dt>0%</dt><dd>0</dd><dt>25%</dt><dd>5.21</dd><dt>50%</dt><dd>16.53</dd><dt>75%</dt><dd>62.5975</dd><dt>100%</dt><dd>1712</dd></dl>\n"
      ],
      "text/latex": [
       "\\begin{description*}\n",
       "\\item[0\\textbackslash{}\\%] 0\n",
       "\\item[25\\textbackslash{}\\%] 5.21\n",
       "\\item[50\\textbackslash{}\\%] 16.53\n",
       "\\item[75\\textbackslash{}\\%] 62.5975\n",
       "\\item[100\\textbackslash{}\\%] 1712\n",
       "\\end{description*}\n"
      ],
      "text/markdown": [
       "0%\n",
       ":   025%\n",
       ":   5.2150%\n",
       ":   16.5375%\n",
       ":   62.5975100%\n",
       ":   1712\n",
       "\n"
      ],
      "text/plain": [
       "       0%       25%       50%       75%      100% \n",
       "   0.0000    5.2100   16.5300   62.5975 1712.0000 "
      ]
     },
     "metadata": {},
     "output_type": "display_data"
    }
   ],
   "source": [
    "\n",
    "quantile(food_consumption$co2_emission)"
   ]
  },
  {
   "cell_type": "code",
   "execution_count": 12,
   "id": "47a3adb4-e273-472b-9153-60cf06409007",
   "metadata": {},
   "outputs": [
    {
     "data": {
      "text/html": [
       "<style>\n",
       ".dl-inline {width: auto; margin:0; padding: 0}\n",
       ".dl-inline>dt, .dl-inline>dd {float: none; width: auto; display: inline-block}\n",
       ".dl-inline>dt::after {content: \":\\0020\"; padding-right: .5ex}\n",
       ".dl-inline>dt:not(:first-of-type) {padding-left: .5ex}\n",
       "</style><dl class=dl-inline><dt>0%</dt><dd>0</dd><dt>20%</dt><dd>3.54</dd><dt>40%</dt><dd>11.026</dd><dt>60%</dt><dd>25.59</dd><dt>80%</dt><dd>99.978</dd><dt>100%</dt><dd>1712</dd></dl>\n"
      ],
      "text/latex": [
       "\\begin{description*}\n",
       "\\item[0\\textbackslash{}\\%] 0\n",
       "\\item[20\\textbackslash{}\\%] 3.54\n",
       "\\item[40\\textbackslash{}\\%] 11.026\n",
       "\\item[60\\textbackslash{}\\%] 25.59\n",
       "\\item[80\\textbackslash{}\\%] 99.978\n",
       "\\item[100\\textbackslash{}\\%] 1712\n",
       "\\end{description*}\n"
      ],
      "text/markdown": [
       "0%\n",
       ":   020%\n",
       ":   3.5440%\n",
       ":   11.02660%\n",
       ":   25.5980%\n",
       ":   99.978100%\n",
       ":   1712\n",
       "\n"
      ],
      "text/plain": [
       "      0%      20%      40%      60%      80%     100% \n",
       "   0.000    3.540   11.026   25.590   99.978 1712.000 "
      ]
     },
     "metadata": {},
     "output_type": "display_data"
    }
   ],
   "source": [
    "\n",
    "quantile(food_consumption$co2_emission, probs = c(0,0.2,0.4,0.6,0.8, 1))\n"
   ]
  },
  {
   "cell_type": "code",
   "execution_count": 13,
   "id": "664ee0c2-ed2f-49a0-9248-0628b82ea325",
   "metadata": {},
   "outputs": [
    {
     "data": {
      "text/html": [
       "<style>\n",
       ".dl-inline {width: auto; margin:0; padding: 0}\n",
       ".dl-inline>dt, .dl-inline>dd {float: none; width: auto; display: inline-block}\n",
       ".dl-inline>dt::after {content: \":\\0020\"; padding-right: .5ex}\n",
       ".dl-inline>dt:not(:first-of-type) {padding-left: .5ex}\n",
       "</style><dl class=dl-inline><dt>0%</dt><dd>0</dd><dt>10%</dt><dd>0.668</dd><dt>20%</dt><dd>3.54</dd><dt>30%</dt><dd>7.04</dd><dt>40%</dt><dd>11.026</dd><dt>50%</dt><dd>16.53</dd><dt>60%</dt><dd>25.59</dd><dt>70%</dt><dd>44.271</dd><dt>80%</dt><dd>99.978</dd><dt>90%</dt><dd>203.629</dd><dt>100%</dt><dd>1712</dd></dl>\n"
      ],
      "text/latex": [
       "\\begin{description*}\n",
       "\\item[0\\textbackslash{}\\%] 0\n",
       "\\item[10\\textbackslash{}\\%] 0.668\n",
       "\\item[20\\textbackslash{}\\%] 3.54\n",
       "\\item[30\\textbackslash{}\\%] 7.04\n",
       "\\item[40\\textbackslash{}\\%] 11.026\n",
       "\\item[50\\textbackslash{}\\%] 16.53\n",
       "\\item[60\\textbackslash{}\\%] 25.59\n",
       "\\item[70\\textbackslash{}\\%] 44.271\n",
       "\\item[80\\textbackslash{}\\%] 99.978\n",
       "\\item[90\\textbackslash{}\\%] 203.629\n",
       "\\item[100\\textbackslash{}\\%] 1712\n",
       "\\end{description*}\n"
      ],
      "text/markdown": [
       "0%\n",
       ":   010%\n",
       ":   0.66820%\n",
       ":   3.5430%\n",
       ":   7.0440%\n",
       ":   11.02650%\n",
       ":   16.5360%\n",
       ":   25.5970%\n",
       ":   44.27180%\n",
       ":   99.97890%\n",
       ":   203.629100%\n",
       ":   1712\n",
       "\n"
      ],
      "text/plain": [
       "      0%      10%      20%      30%      40%      50%      60%      70% \n",
       "   0.000    0.668    3.540    7.040   11.026   16.530   25.590   44.271 \n",
       "     80%      90%     100% \n",
       "  99.978  203.629 1712.000 "
      ]
     },
     "metadata": {},
     "output_type": "display_data"
    }
   ],
   "source": [
    "\n",
    "quantile(food_consumption$co2_emission, probs = seq(0,1,0.1))"
   ]
  },
  {
   "cell_type": "code",
   "execution_count": null,
   "id": "79610416-eb02-46c1-852c-777fa7024e1b",
   "metadata": {},
   "outputs": [],
   "source": []
  }
 ],
 "metadata": {
  "kernelspec": {
   "display_name": "R",
   "language": "R",
   "name": "r"
  },
  "language_info": {
   "codemirror_mode": "r",
   "file_extension": ".r",
   "mimetype": "text/x-r-source",
   "name": "R",
   "pygments_lexer": "r",
   "version": "4.3.1"
  }
 },
 "nbformat": 4,
 "nbformat_minor": 5
}
