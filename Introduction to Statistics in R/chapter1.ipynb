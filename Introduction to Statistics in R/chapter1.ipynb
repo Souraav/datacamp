{
 "cells": [
  {
   "cell_type": "markdown",
   "id": "cede2df1-107b-45d6-b2cb-c0cfa4930dc5",
   "metadata": {},
   "source": [
    "# Introduction to Statistics in R"
   ]
  },
  {
   "cell_type": "markdown",
   "id": "625be270-5a7f-436f-bc22-ce32646907b9",
   "metadata": {},
   "source": [
    "## Summary Statistics"
   ]
  },
  {
   "cell_type": "markdown",
   "id": "86a22356-8879-431d-a3f6-f31a1bc54df5",
   "metadata": {},
   "source": [
    "### Mean and median"
   ]
  },
  {
   "cell_type": "code",
   "execution_count": 1,
   "id": "96a6d844-c56b-4b19-be1d-029eab97bf1d",
   "metadata": {},
   "outputs": [],
   "source": [
    "\n",
    "\n"
   ]
  },
  {
   "cell_type": "code",
   "execution_count": 2,
   "id": "53654e0d-1458-4ec8-bda7-6d3699e49ea5",
   "metadata": {},
   "outputs": [
    {
     "name": "stdout",
     "output_type": "stream",
     "text": [
      "\n",
      "The downloaded binary packages are in\n",
      "\t/var/folders/_n/j4yxcfdd4hndhcyg8xh51sc00000gn/T//Rtmpy9WASC/downloaded_packages\n",
      "\n",
      "The downloaded binary packages are in\n",
      "\t/var/folders/_n/j4yxcfdd4hndhcyg8xh51sc00000gn/T//Rtmpy9WASC/downloaded_packages\n"
     ]
    }
   ],
   "source": [
    "install.packages(\"readr\")\n",
    "install.packages(\"tidyverse\")"
   ]
  },
  {
   "cell_type": "code",
   "execution_count": 3,
   "id": "6b72870e-a925-45e7-9ec3-8f2adf71f00a",
   "metadata": {},
   "outputs": [],
   "source": [
    "library(readr)"
   ]
  },
  {
   "cell_type": "code",
   "execution_count": 4,
   "id": "6a7118bb-56bf-47f6-8491-29a748857647",
   "metadata": {},
   "outputs": [
    {
     "name": "stderr",
     "output_type": "stream",
     "text": [
      "── \u001b[1mAttaching core tidyverse packages\u001b[22m ──────────────────────────────────────────────────────────────────────────────────────────────────────────────────────────────────────────────────────── tidyverse 2.0.0 ──\n",
      "\u001b[32m✔\u001b[39m \u001b[34mdplyr    \u001b[39m 1.1.3     \u001b[32m✔\u001b[39m \u001b[34mpurrr    \u001b[39m 1.0.2\n",
      "\u001b[32m✔\u001b[39m \u001b[34mforcats  \u001b[39m 1.0.0     \u001b[32m✔\u001b[39m \u001b[34mstringr  \u001b[39m 1.5.0\n",
      "\u001b[32m✔\u001b[39m \u001b[34mggplot2  \u001b[39m 3.4.3     \u001b[32m✔\u001b[39m \u001b[34mtibble   \u001b[39m 3.2.1\n",
      "\u001b[32m✔\u001b[39m \u001b[34mlubridate\u001b[39m 1.9.3     \u001b[32m✔\u001b[39m \u001b[34mtidyr    \u001b[39m 1.3.0\n",
      "── \u001b[1mConflicts\u001b[22m ────────────────────────────────────────────────────────────────────────────────────────────────────────────────────────────────────────────────────────────────────────── tidyverse_conflicts() ──\n",
      "\u001b[31m✖\u001b[39m \u001b[34mdplyr\u001b[39m::\u001b[32mfilter()\u001b[39m masks \u001b[34mstats\u001b[39m::filter()\n",
      "\u001b[31m✖\u001b[39m \u001b[34mdplyr\u001b[39m::\u001b[32mlag()\u001b[39m    masks \u001b[34mstats\u001b[39m::lag()\n",
      "\u001b[36mℹ\u001b[39m Use the conflicted package (\u001b[3m\u001b[34m<http://conflicted.r-lib.org/>\u001b[39m\u001b[23m) to force all conflicts to become errors\n"
     ]
    }
   ],
   "source": [
    "library(tidyverse)"
   ]
  },
  {
   "cell_type": "code",
   "execution_count": 5,
   "id": "be74c517-324d-47b7-b40b-643e8efbf8b2",
   "metadata": {},
   "outputs": [
    {
     "name": "stderr",
     "output_type": "stream",
     "text": [
      "\u001b[1mRows: \u001b[22m\u001b[34m1430\u001b[39m \u001b[1mColumns: \u001b[22m\u001b[34m4\u001b[39m\n",
      "\u001b[36m──\u001b[39m \u001b[1mColumn specification\u001b[22m \u001b[36m────────────────────────────────────────────────────────────────────────────────────────────────────────────────────────────────────────────────────────────────────────────────────────\u001b[39m\n",
      "\u001b[1mDelimiter:\u001b[22m \",\"\n",
      "\u001b[31mchr\u001b[39m (2): country, food_category\n",
      "\u001b[32mdbl\u001b[39m (2): consumption, co2_emission\n",
      "\n",
      "\u001b[36mℹ\u001b[39m Use `spec()` to retrieve the full column specification for this data.\n",
      "\u001b[36mℹ\u001b[39m Specify the column types or set `show_col_types = FALSE` to quiet this message.\n"
     ]
    }
   ],
   "source": [
    "food_consumption <- read_csv(\"food.csv\")"
   ]
  },
  {
   "cell_type": "code",
   "execution_count": 6,
   "id": "58e35e6b-7621-47a0-ba80-ef6c831b18d7",
   "metadata": {},
   "outputs": [
    {
     "data": {
      "text/html": [
       "<table class=\"dataframe\">\n",
       "<caption>A spec_tbl_df: 1430 × 4</caption>\n",
       "<thead>\n",
       "\t<tr><th scope=col>country</th><th scope=col>food_category</th><th scope=col>consumption</th><th scope=col>co2_emission</th></tr>\n",
       "\t<tr><th scope=col>&lt;chr&gt;</th><th scope=col>&lt;chr&gt;</th><th scope=col>&lt;dbl&gt;</th><th scope=col>&lt;dbl&gt;</th></tr>\n",
       "</thead>\n",
       "<tbody>\n",
       "\t<tr><td>Argentina</td><td>pork     </td><td> 10.51</td><td>  37.20</td></tr>\n",
       "\t<tr><td>Argentina</td><td>poultry  </td><td> 38.66</td><td>  41.53</td></tr>\n",
       "\t<tr><td>Argentina</td><td>beef     </td><td> 55.48</td><td>1712.00</td></tr>\n",
       "\t<tr><td>Argentina</td><td>lamb_goat</td><td>  1.56</td><td>  54.63</td></tr>\n",
       "\t<tr><td>Argentina</td><td>fish     </td><td>  4.36</td><td>   6.96</td></tr>\n",
       "\t<tr><td>Argentina</td><td>eggs     </td><td> 11.39</td><td>  10.46</td></tr>\n",
       "\t<tr><td>Argentina</td><td>dairy    </td><td>195.08</td><td> 277.87</td></tr>\n",
       "\t<tr><td>Argentina</td><td>wheat    </td><td>103.11</td><td>  19.66</td></tr>\n",
       "\t<tr><td>Argentina</td><td>rice     </td><td>  8.77</td><td>  11.22</td></tr>\n",
       "\t<tr><td>Argentina</td><td>soybeans </td><td>  0.00</td><td>   0.00</td></tr>\n",
       "\t<tr><td>Argentina</td><td>nuts     </td><td>  0.49</td><td>   0.87</td></tr>\n",
       "\t<tr><td>Australia</td><td>pork     </td><td> 24.14</td><td>  85.44</td></tr>\n",
       "\t<tr><td>Australia</td><td>poultry  </td><td> 46.12</td><td>  49.54</td></tr>\n",
       "\t<tr><td>Australia</td><td>beef     </td><td> 33.86</td><td>1044.85</td></tr>\n",
       "\t<tr><td>Australia</td><td>lamb_goat</td><td>  9.87</td><td> 345.65</td></tr>\n",
       "\t<tr><td>Australia</td><td>fish     </td><td> 17.69</td><td>  28.25</td></tr>\n",
       "\t<tr><td>Australia</td><td>eggs     </td><td>  8.51</td><td>   7.82</td></tr>\n",
       "\t<tr><td>Australia</td><td>dairy    </td><td>234.49</td><td> 334.01</td></tr>\n",
       "\t<tr><td>Australia</td><td>wheat    </td><td> 70.46</td><td>  13.44</td></tr>\n",
       "\t<tr><td>Australia</td><td>rice     </td><td> 11.03</td><td>  14.12</td></tr>\n",
       "\t<tr><td>Australia</td><td>soybeans </td><td>  0.19</td><td>   0.09</td></tr>\n",
       "\t<tr><td>Australia</td><td>nuts     </td><td>  8.73</td><td>  15.45</td></tr>\n",
       "\t<tr><td>Albania  </td><td>pork     </td><td> 10.88</td><td>  38.51</td></tr>\n",
       "\t<tr><td>Albania  </td><td>poultry  </td><td> 13.23</td><td>  14.21</td></tr>\n",
       "\t<tr><td>Albania  </td><td>beef     </td><td> 22.50</td><td> 694.30</td></tr>\n",
       "\t<tr><td>Albania  </td><td>lamb_goat</td><td> 15.32</td><td> 536.50</td></tr>\n",
       "\t<tr><td>Albania  </td><td>fish     </td><td>  3.85</td><td>   6.15</td></tr>\n",
       "\t<tr><td>Albania  </td><td>eggs     </td><td> 12.45</td><td>  11.44</td></tr>\n",
       "\t<tr><td>Albania  </td><td>dairy    </td><td>303.72</td><td> 432.62</td></tr>\n",
       "\t<tr><td>Albania  </td><td>wheat    </td><td>138.64</td><td>  26.44</td></tr>\n",
       "\t<tr><td>⋮</td><td>⋮</td><td>⋮</td><td>⋮</td></tr>\n",
       "\t<tr><td>Indonesia </td><td>lamb_goat</td><td>  0.46</td><td> 16.11</td></tr>\n",
       "\t<tr><td>Indonesia </td><td>fish     </td><td> 25.65</td><td> 40.95</td></tr>\n",
       "\t<tr><td>Indonesia </td><td>eggs     </td><td>  4.88</td><td>  4.48</td></tr>\n",
       "\t<tr><td>Indonesia </td><td>dairy    </td><td> 14.82</td><td> 21.11</td></tr>\n",
       "\t<tr><td>Indonesia </td><td>wheat    </td><td> 25.45</td><td>  4.85</td></tr>\n",
       "\t<tr><td>Indonesia </td><td>rice     </td><td>134.62</td><td>172.27</td></tr>\n",
       "\t<tr><td>Indonesia </td><td>soybeans </td><td>  1.12</td><td>  0.50</td></tr>\n",
       "\t<tr><td>Indonesia </td><td>nuts     </td><td>  4.92</td><td>  8.71</td></tr>\n",
       "\t<tr><td>Liberia   </td><td>pork     </td><td>  4.01</td><td> 14.19</td></tr>\n",
       "\t<tr><td>Liberia   </td><td>poultry  </td><td>  8.91</td><td>  9.57</td></tr>\n",
       "\t<tr><td>Liberia   </td><td>beef     </td><td>  0.78</td><td> 24.07</td></tr>\n",
       "\t<tr><td>Liberia   </td><td>lamb_goat</td><td>  0.48</td><td> 16.81</td></tr>\n",
       "\t<tr><td>Liberia   </td><td>fish     </td><td>  4.13</td><td>  6.59</td></tr>\n",
       "\t<tr><td>Liberia   </td><td>eggs     </td><td>  2.05</td><td>  1.88</td></tr>\n",
       "\t<tr><td>Liberia   </td><td>dairy    </td><td>  3.04</td><td>  4.33</td></tr>\n",
       "\t<tr><td>Liberia   </td><td>wheat    </td><td> 10.95</td><td>  2.09</td></tr>\n",
       "\t<tr><td>Liberia   </td><td>rice     </td><td> 94.75</td><td>121.25</td></tr>\n",
       "\t<tr><td>Liberia   </td><td>soybeans </td><td>  0.63</td><td>  0.28</td></tr>\n",
       "\t<tr><td>Liberia   </td><td>nuts     </td><td>  1.31</td><td>  2.32</td></tr>\n",
       "\t<tr><td>Bangladesh</td><td>pork     </td><td>  0.00</td><td>  0.00</td></tr>\n",
       "\t<tr><td>Bangladesh</td><td>poultry  </td><td>  1.40</td><td>  1.50</td></tr>\n",
       "\t<tr><td>Bangladesh</td><td>beef     </td><td>  1.28</td><td> 39.50</td></tr>\n",
       "\t<tr><td>Bangladesh</td><td>lamb_goat</td><td>  1.33</td><td> 46.58</td></tr>\n",
       "\t<tr><td>Bangladesh</td><td>fish     </td><td> 18.07</td><td> 28.85</td></tr>\n",
       "\t<tr><td>Bangladesh</td><td>eggs     </td><td>  2.08</td><td>  1.91</td></tr>\n",
       "\t<tr><td>Bangladesh</td><td>dairy    </td><td> 21.91</td><td> 31.21</td></tr>\n",
       "\t<tr><td>Bangladesh</td><td>wheat    </td><td> 17.47</td><td>  3.33</td></tr>\n",
       "\t<tr><td>Bangladesh</td><td>rice     </td><td>171.73</td><td>219.76</td></tr>\n",
       "\t<tr><td>Bangladesh</td><td>soybeans </td><td>  0.61</td><td>  0.27</td></tr>\n",
       "\t<tr><td>Bangladesh</td><td>nuts     </td><td>  0.72</td><td>  1.27</td></tr>\n",
       "</tbody>\n",
       "</table>\n"
      ],
      "text/latex": [
       "A spec\\_tbl\\_df: 1430 × 4\n",
       "\\begin{tabular}{llll}\n",
       " country & food\\_category & consumption & co2\\_emission\\\\\n",
       " <chr> & <chr> & <dbl> & <dbl>\\\\\n",
       "\\hline\n",
       "\t Argentina & pork      &  10.51 &   37.20\\\\\n",
       "\t Argentina & poultry   &  38.66 &   41.53\\\\\n",
       "\t Argentina & beef      &  55.48 & 1712.00\\\\\n",
       "\t Argentina & lamb\\_goat &   1.56 &   54.63\\\\\n",
       "\t Argentina & fish      &   4.36 &    6.96\\\\\n",
       "\t Argentina & eggs      &  11.39 &   10.46\\\\\n",
       "\t Argentina & dairy     & 195.08 &  277.87\\\\\n",
       "\t Argentina & wheat     & 103.11 &   19.66\\\\\n",
       "\t Argentina & rice      &   8.77 &   11.22\\\\\n",
       "\t Argentina & soybeans  &   0.00 &    0.00\\\\\n",
       "\t Argentina & nuts      &   0.49 &    0.87\\\\\n",
       "\t Australia & pork      &  24.14 &   85.44\\\\\n",
       "\t Australia & poultry   &  46.12 &   49.54\\\\\n",
       "\t Australia & beef      &  33.86 & 1044.85\\\\\n",
       "\t Australia & lamb\\_goat &   9.87 &  345.65\\\\\n",
       "\t Australia & fish      &  17.69 &   28.25\\\\\n",
       "\t Australia & eggs      &   8.51 &    7.82\\\\\n",
       "\t Australia & dairy     & 234.49 &  334.01\\\\\n",
       "\t Australia & wheat     &  70.46 &   13.44\\\\\n",
       "\t Australia & rice      &  11.03 &   14.12\\\\\n",
       "\t Australia & soybeans  &   0.19 &    0.09\\\\\n",
       "\t Australia & nuts      &   8.73 &   15.45\\\\\n",
       "\t Albania   & pork      &  10.88 &   38.51\\\\\n",
       "\t Albania   & poultry   &  13.23 &   14.21\\\\\n",
       "\t Albania   & beef      &  22.50 &  694.30\\\\\n",
       "\t Albania   & lamb\\_goat &  15.32 &  536.50\\\\\n",
       "\t Albania   & fish      &   3.85 &    6.15\\\\\n",
       "\t Albania   & eggs      &  12.45 &   11.44\\\\\n",
       "\t Albania   & dairy     & 303.72 &  432.62\\\\\n",
       "\t Albania   & wheat     & 138.64 &   26.44\\\\\n",
       "\t ⋮ & ⋮ & ⋮ & ⋮\\\\\n",
       "\t Indonesia  & lamb\\_goat &   0.46 &  16.11\\\\\n",
       "\t Indonesia  & fish      &  25.65 &  40.95\\\\\n",
       "\t Indonesia  & eggs      &   4.88 &   4.48\\\\\n",
       "\t Indonesia  & dairy     &  14.82 &  21.11\\\\\n",
       "\t Indonesia  & wheat     &  25.45 &   4.85\\\\\n",
       "\t Indonesia  & rice      & 134.62 & 172.27\\\\\n",
       "\t Indonesia  & soybeans  &   1.12 &   0.50\\\\\n",
       "\t Indonesia  & nuts      &   4.92 &   8.71\\\\\n",
       "\t Liberia    & pork      &   4.01 &  14.19\\\\\n",
       "\t Liberia    & poultry   &   8.91 &   9.57\\\\\n",
       "\t Liberia    & beef      &   0.78 &  24.07\\\\\n",
       "\t Liberia    & lamb\\_goat &   0.48 &  16.81\\\\\n",
       "\t Liberia    & fish      &   4.13 &   6.59\\\\\n",
       "\t Liberia    & eggs      &   2.05 &   1.88\\\\\n",
       "\t Liberia    & dairy     &   3.04 &   4.33\\\\\n",
       "\t Liberia    & wheat     &  10.95 &   2.09\\\\\n",
       "\t Liberia    & rice      &  94.75 & 121.25\\\\\n",
       "\t Liberia    & soybeans  &   0.63 &   0.28\\\\\n",
       "\t Liberia    & nuts      &   1.31 &   2.32\\\\\n",
       "\t Bangladesh & pork      &   0.00 &   0.00\\\\\n",
       "\t Bangladesh & poultry   &   1.40 &   1.50\\\\\n",
       "\t Bangladesh & beef      &   1.28 &  39.50\\\\\n",
       "\t Bangladesh & lamb\\_goat &   1.33 &  46.58\\\\\n",
       "\t Bangladesh & fish      &  18.07 &  28.85\\\\\n",
       "\t Bangladesh & eggs      &   2.08 &   1.91\\\\\n",
       "\t Bangladesh & dairy     &  21.91 &  31.21\\\\\n",
       "\t Bangladesh & wheat     &  17.47 &   3.33\\\\\n",
       "\t Bangladesh & rice      & 171.73 & 219.76\\\\\n",
       "\t Bangladesh & soybeans  &   0.61 &   0.27\\\\\n",
       "\t Bangladesh & nuts      &   0.72 &   1.27\\\\\n",
       "\\end{tabular}\n"
      ],
      "text/markdown": [
       "\n",
       "A spec_tbl_df: 1430 × 4\n",
       "\n",
       "| country &lt;chr&gt; | food_category &lt;chr&gt; | consumption &lt;dbl&gt; | co2_emission &lt;dbl&gt; |\n",
       "|---|---|---|---|\n",
       "| Argentina | pork      |  10.51 |   37.20 |\n",
       "| Argentina | poultry   |  38.66 |   41.53 |\n",
       "| Argentina | beef      |  55.48 | 1712.00 |\n",
       "| Argentina | lamb_goat |   1.56 |   54.63 |\n",
       "| Argentina | fish      |   4.36 |    6.96 |\n",
       "| Argentina | eggs      |  11.39 |   10.46 |\n",
       "| Argentina | dairy     | 195.08 |  277.87 |\n",
       "| Argentina | wheat     | 103.11 |   19.66 |\n",
       "| Argentina | rice      |   8.77 |   11.22 |\n",
       "| Argentina | soybeans  |   0.00 |    0.00 |\n",
       "| Argentina | nuts      |   0.49 |    0.87 |\n",
       "| Australia | pork      |  24.14 |   85.44 |\n",
       "| Australia | poultry   |  46.12 |   49.54 |\n",
       "| Australia | beef      |  33.86 | 1044.85 |\n",
       "| Australia | lamb_goat |   9.87 |  345.65 |\n",
       "| Australia | fish      |  17.69 |   28.25 |\n",
       "| Australia | eggs      |   8.51 |    7.82 |\n",
       "| Australia | dairy     | 234.49 |  334.01 |\n",
       "| Australia | wheat     |  70.46 |   13.44 |\n",
       "| Australia | rice      |  11.03 |   14.12 |\n",
       "| Australia | soybeans  |   0.19 |    0.09 |\n",
       "| Australia | nuts      |   8.73 |   15.45 |\n",
       "| Albania   | pork      |  10.88 |   38.51 |\n",
       "| Albania   | poultry   |  13.23 |   14.21 |\n",
       "| Albania   | beef      |  22.50 |  694.30 |\n",
       "| Albania   | lamb_goat |  15.32 |  536.50 |\n",
       "| Albania   | fish      |   3.85 |    6.15 |\n",
       "| Albania   | eggs      |  12.45 |   11.44 |\n",
       "| Albania   | dairy     | 303.72 |  432.62 |\n",
       "| Albania   | wheat     | 138.64 |   26.44 |\n",
       "| ⋮ | ⋮ | ⋮ | ⋮ |\n",
       "| Indonesia  | lamb_goat |   0.46 |  16.11 |\n",
       "| Indonesia  | fish      |  25.65 |  40.95 |\n",
       "| Indonesia  | eggs      |   4.88 |   4.48 |\n",
       "| Indonesia  | dairy     |  14.82 |  21.11 |\n",
       "| Indonesia  | wheat     |  25.45 |   4.85 |\n",
       "| Indonesia  | rice      | 134.62 | 172.27 |\n",
       "| Indonesia  | soybeans  |   1.12 |   0.50 |\n",
       "| Indonesia  | nuts      |   4.92 |   8.71 |\n",
       "| Liberia    | pork      |   4.01 |  14.19 |\n",
       "| Liberia    | poultry   |   8.91 |   9.57 |\n",
       "| Liberia    | beef      |   0.78 |  24.07 |\n",
       "| Liberia    | lamb_goat |   0.48 |  16.81 |\n",
       "| Liberia    | fish      |   4.13 |   6.59 |\n",
       "| Liberia    | eggs      |   2.05 |   1.88 |\n",
       "| Liberia    | dairy     |   3.04 |   4.33 |\n",
       "| Liberia    | wheat     |  10.95 |   2.09 |\n",
       "| Liberia    | rice      |  94.75 | 121.25 |\n",
       "| Liberia    | soybeans  |   0.63 |   0.28 |\n",
       "| Liberia    | nuts      |   1.31 |   2.32 |\n",
       "| Bangladesh | pork      |   0.00 |   0.00 |\n",
       "| Bangladesh | poultry   |   1.40 |   1.50 |\n",
       "| Bangladesh | beef      |   1.28 |  39.50 |\n",
       "| Bangladesh | lamb_goat |   1.33 |  46.58 |\n",
       "| Bangladesh | fish      |  18.07 |  28.85 |\n",
       "| Bangladesh | eggs      |   2.08 |   1.91 |\n",
       "| Bangladesh | dairy     |  21.91 |  31.21 |\n",
       "| Bangladesh | wheat     |  17.47 |   3.33 |\n",
       "| Bangladesh | rice      | 171.73 | 219.76 |\n",
       "| Bangladesh | soybeans  |   0.61 |   0.27 |\n",
       "| Bangladesh | nuts      |   0.72 |   1.27 |\n",
       "\n"
      ],
      "text/plain": [
       "     country    food_category consumption co2_emission\n",
       "1    Argentina  pork           10.51        37.20     \n",
       "2    Argentina  poultry        38.66        41.53     \n",
       "3    Argentina  beef           55.48      1712.00     \n",
       "4    Argentina  lamb_goat       1.56        54.63     \n",
       "5    Argentina  fish            4.36         6.96     \n",
       "6    Argentina  eggs           11.39        10.46     \n",
       "7    Argentina  dairy         195.08       277.87     \n",
       "8    Argentina  wheat         103.11        19.66     \n",
       "9    Argentina  rice            8.77        11.22     \n",
       "10   Argentina  soybeans        0.00         0.00     \n",
       "11   Argentina  nuts            0.49         0.87     \n",
       "12   Australia  pork           24.14        85.44     \n",
       "13   Australia  poultry        46.12        49.54     \n",
       "14   Australia  beef           33.86      1044.85     \n",
       "15   Australia  lamb_goat       9.87       345.65     \n",
       "16   Australia  fish           17.69        28.25     \n",
       "17   Australia  eggs            8.51         7.82     \n",
       "18   Australia  dairy         234.49       334.01     \n",
       "19   Australia  wheat          70.46        13.44     \n",
       "20   Australia  rice           11.03        14.12     \n",
       "21   Australia  soybeans        0.19         0.09     \n",
       "22   Australia  nuts            8.73        15.45     \n",
       "23   Albania    pork           10.88        38.51     \n",
       "24   Albania    poultry        13.23        14.21     \n",
       "25   Albania    beef           22.50       694.30     \n",
       "26   Albania    lamb_goat      15.32       536.50     \n",
       "27   Albania    fish            3.85         6.15     \n",
       "28   Albania    eggs           12.45        11.44     \n",
       "29   Albania    dairy         303.72       432.62     \n",
       "30   Albania    wheat         138.64        26.44     \n",
       "⋮    ⋮          ⋮             ⋮           ⋮           \n",
       "1401 Indonesia  lamb_goat       0.46       16.11      \n",
       "1402 Indonesia  fish           25.65       40.95      \n",
       "1403 Indonesia  eggs            4.88        4.48      \n",
       "1404 Indonesia  dairy          14.82       21.11      \n",
       "1405 Indonesia  wheat          25.45        4.85      \n",
       "1406 Indonesia  rice          134.62      172.27      \n",
       "1407 Indonesia  soybeans        1.12        0.50      \n",
       "1408 Indonesia  nuts            4.92        8.71      \n",
       "1409 Liberia    pork            4.01       14.19      \n",
       "1410 Liberia    poultry         8.91        9.57      \n",
       "1411 Liberia    beef            0.78       24.07      \n",
       "1412 Liberia    lamb_goat       0.48       16.81      \n",
       "1413 Liberia    fish            4.13        6.59      \n",
       "1414 Liberia    eggs            2.05        1.88      \n",
       "1415 Liberia    dairy           3.04        4.33      \n",
       "1416 Liberia    wheat          10.95        2.09      \n",
       "1417 Liberia    rice           94.75      121.25      \n",
       "1418 Liberia    soybeans        0.63        0.28      \n",
       "1419 Liberia    nuts            1.31        2.32      \n",
       "1420 Bangladesh pork            0.00        0.00      \n",
       "1421 Bangladesh poultry         1.40        1.50      \n",
       "1422 Bangladesh beef            1.28       39.50      \n",
       "1423 Bangladesh lamb_goat       1.33       46.58      \n",
       "1424 Bangladesh fish           18.07       28.85      \n",
       "1425 Bangladesh eggs            2.08        1.91      \n",
       "1426 Bangladesh dairy          21.91       31.21      \n",
       "1427 Bangladesh wheat          17.47        3.33      \n",
       "1428 Bangladesh rice          171.73      219.76      \n",
       "1429 Bangladesh soybeans        0.61        0.27      \n",
       "1430 Bangladesh nuts            0.72        1.27      "
      ]
     },
     "metadata": {},
     "output_type": "display_data"
    }
   ],
   "source": [
    "food_consumption"
   ]
  },
  {
   "cell_type": "markdown",
   "id": "4d9b0a2f-2b37-4ec3-b730-dbee745f9b40",
   "metadata": {},
   "source": [
    "### Mean and median"
   ]
  },
  {
   "cell_type": "code",
   "execution_count": 7,
   "id": "9a181feb-30cc-4d5d-b71c-6bbcf6180b7c",
   "metadata": {},
   "outputs": [
    {
     "data": {
      "text/html": [
       "42.1327272727273"
      ],
      "text/latex": [
       "42.1327272727273"
      ],
      "text/markdown": [
       "42.1327272727273"
      ],
      "text/plain": [
       "[1] 42.13273"
      ]
     },
     "metadata": {},
     "output_type": "display_data"
    },
    {
     "data": {
      "text/html": [
       "12.59"
      ],
      "text/latex": [
       "12.59"
      ],
      "text/markdown": [
       "12.59"
      ],
      "text/plain": [
       "[1] 12.59"
      ]
     },
     "metadata": {},
     "output_type": "display_data"
    },
    {
     "data": {
      "text/html": [
       "44.65"
      ],
      "text/latex": [
       "44.65"
      ],
      "text/markdown": [
       "44.65"
      ],
      "text/plain": [
       "[1] 44.65"
      ]
     },
     "metadata": {},
     "output_type": "display_data"
    },
    {
     "data": {
      "text/html": [
       "14.58"
      ],
      "text/latex": [
       "14.58"
      ],
      "text/markdown": [
       "14.58"
      ],
      "text/plain": [
       "[1] 14.58"
      ]
     },
     "metadata": {},
     "output_type": "display_data"
    }
   ],
   "source": [
    "\n",
    "belgium_consumption <- food_consumption %>% \n",
    "    filter(country==\"Belgium\")\n",
    "\n",
    "\n",
    "usa_consumption <- food_consumption %>% \n",
    "    filter(country==\"USA\")\n",
    "\n",
    "\n",
    "mean(belgium_consumption$consumption)\n",
    "median(belgium_consumption$consumption)\n",
    "\n",
    "\n",
    "mean(usa_consumption$consumption)\n",
    "median(usa_consumption$consumption)"
   ]
  },
  {
   "cell_type": "code",
   "execution_count": 8,
   "id": "bd6c1c30-9167-480a-8a8b-319886175008",
   "metadata": {},
   "outputs": [
    {
     "data": {
      "text/html": [
       "<table class=\"dataframe\">\n",
       "<caption>A tibble: 2 × 3</caption>\n",
       "<thead>\n",
       "\t<tr><th scope=col>country</th><th scope=col>mean_consumption</th><th scope=col>median_consumption</th></tr>\n",
       "\t<tr><th scope=col>&lt;chr&gt;</th><th scope=col>&lt;dbl&gt;</th><th scope=col>&lt;dbl&gt;</th></tr>\n",
       "</thead>\n",
       "<tbody>\n",
       "\t<tr><td>Belgium</td><td>42.13273</td><td>12.59</td></tr>\n",
       "\t<tr><td>USA    </td><td>44.65000</td><td>14.58</td></tr>\n",
       "</tbody>\n",
       "</table>\n"
      ],
      "text/latex": [
       "A tibble: 2 × 3\n",
       "\\begin{tabular}{lll}\n",
       " country & mean\\_consumption & median\\_consumption\\\\\n",
       " <chr> & <dbl> & <dbl>\\\\\n",
       "\\hline\n",
       "\t Belgium & 42.13273 & 12.59\\\\\n",
       "\t USA     & 44.65000 & 14.58\\\\\n",
       "\\end{tabular}\n"
      ],
      "text/markdown": [
       "\n",
       "A tibble: 2 × 3\n",
       "\n",
       "| country &lt;chr&gt; | mean_consumption &lt;dbl&gt; | median_consumption &lt;dbl&gt; |\n",
       "|---|---|---|\n",
       "| Belgium | 42.13273 | 12.59 |\n",
       "| USA     | 44.65000 | 14.58 |\n",
       "\n"
      ],
      "text/plain": [
       "  country mean_consumption median_consumption\n",
       "1 Belgium 42.13273         12.59             \n",
       "2 USA     44.65000         14.58             "
      ]
     },
     "metadata": {},
     "output_type": "display_data"
    }
   ],
   "source": [
    "food_consumption %>%\n",
    "  \n",
    "  filter(country %in% c(\"Belgium\", \"USA\")) %>%\n",
    "  \n",
    "  group_by(country) %>%\n",
    "  \n",
    "  summarize(mean_consumption = mean(consumption),\n",
    "      median_consumption = median(consumption))"
   ]
  },
  {
   "cell_type": "markdown",
   "id": "e91d7d48-4594-47d5-b487-420f242f5e28",
   "metadata": {},
   "source": [
    "### Mean vs. median"
   ]
  },
  {
   "cell_type": "code",
   "execution_count": 9,
   "id": "296612ea-707d-4636-b87c-86aed635fa4a",
   "metadata": {},
   "outputs": [
    {
     "name": "stderr",
     "output_type": "stream",
     "text": [
      "\u001b[1m\u001b[22m`stat_bin()` using `bins = 30`. Pick better value with `binwidth`.\n"
     ]
    },
    {
     "data": {
      "image/png": "[encoded data removed]",
      "text/plain": [
       "plot without title"
      ]
     },
     "metadata": {
      "image/png": {
       "height": 420,
       "width": 420
      }
     },
     "output_type": "display_data"
    }
   ],
   "source": [
    "food_consumption %>%\n",
    "  \n",
    "  filter(food_category == \"rice\") %>%\n",
    "  \n",
    "  ggplot(aes(co2_emission)) +\n",
    "    geom_histogram()"
   ]
  },
  {
   "cell_type": "code",
   "execution_count": 10,
   "id": "5874665a-afe1-4ded-bfb7-40e78555b9b5",
   "metadata": {},
   "outputs": [
    {
     "data": {
      "text/html": [
       "<table class=\"dataframe\">\n",
       "<caption>A tibble: 1 × 2</caption>\n",
       "<thead>\n",
       "\t<tr><th scope=col>mean_co2</th><th scope=col>median_co2</th></tr>\n",
       "\t<tr><th scope=col>&lt;dbl&gt;</th><th scope=col>&lt;dbl&gt;</th></tr>\n",
       "</thead>\n",
       "<tbody>\n",
       "\t<tr><td>37.59162</td><td>15.2</td></tr>\n",
       "</tbody>\n",
       "</table>\n"
      ],
      "text/latex": [
       "A tibble: 1 × 2\n",
       "\\begin{tabular}{ll}\n",
       " mean\\_co2 & median\\_co2\\\\\n",
       " <dbl> & <dbl>\\\\\n",
       "\\hline\n",
       "\t 37.59162 & 15.2\\\\\n",
       "\\end{tabular}\n"
      ],
      "text/markdown": [
       "\n",
       "A tibble: 1 × 2\n",
       "\n",
       "| mean_co2 &lt;dbl&gt; | median_co2 &lt;dbl&gt; |\n",
       "|---|---|\n",
       "| 37.59162 | 15.2 |\n",
       "\n"
      ],
      "text/plain": [
       "  mean_co2 median_co2\n",
       "1 37.59162 15.2      "
      ]
     },
     "metadata": {},
     "output_type": "display_data"
    }
   ],
   "source": [
    "food_consumption %>%\n",
    "  \n",
    "  filter(food_category == \"rice\") %>%\n",
    "  \n",
    "  summarize(mean_co2 = mean(co2_emission),\n",
    "            median_co2 = median(co2_emission))"
   ]
  },
  {
   "cell_type": "code",
   "execution_count": 11,
   "id": "84006727-16d9-49ff-9c6e-51ab1f8beb2f",
   "metadata": {},
   "outputs": [],
   "source": []
  },
  {
   "cell_type": "markdown",
   "id": "0a248ac5-ad79-4078-a885-49b9fd508402",
   "metadata": {},
   "source": [
    "### Quartiles, quantiles, and quintiles"
   ]
  },
  {
   "cell_type": "code",
   "execution_count": 12,
   "id": "0fd76def-967b-4ab5-858e-1cf34a0b9151",
   "metadata": {},
   "outputs": [
    {
     "data": {
      "text/html": [
       "<style>\n",
       ".dl-inline {width: auto; margin:0; padding: 0}\n",
       ".dl-inline>dt, .dl-inline>dd {float: none; width: auto; display: inline-block}\n",
       ".dl-inline>dt::after {content: \":\\0020\"; padding-right: .5ex}\n",
       ".dl-inline>dt:not(:first-of-type) {padding-left: .5ex}\n",
       "</style><dl class=dl-inline><dt>0%</dt><dd>0</dd><dt>25%</dt><dd>5.21</dd><dt>50%</dt><dd>16.53</dd><dt>75%</dt><dd>62.5975</dd><dt>100%</dt><dd>1712</dd></dl>\n"
      ],
      "text/latex": [
       "\\begin{description*}\n",
       "\\item[0\\textbackslash{}\\%] 0\n",
       "\\item[25\\textbackslash{}\\%] 5.21\n",
       "\\item[50\\textbackslash{}\\%] 16.53\n",
       "\\item[75\\textbackslash{}\\%] 62.5975\n",
       "\\item[100\\textbackslash{}\\%] 1712\n",
       "\\end{description*}\n"
      ],
      "text/markdown": [
       "0%\n",
       ":   025%\n",
       ":   5.2150%\n",
       ":   16.5375%\n",
       ":   62.5975100%\n",
       ":   1712\n",
       "\n"
      ],
      "text/plain": [
       "       0%       25%       50%       75%      100% \n",
       "   0.0000    5.2100   16.5300   62.5975 1712.0000 "
      ]
     },
     "metadata": {},
     "output_type": "display_data"
    }
   ],
   "source": [
    "\n",
    "quantile(food_consumption$co2_emission)"
   ]
  },
  {
   "cell_type": "code",
   "execution_count": 13,
   "id": "47a3adb4-e273-472b-9153-60cf06409007",
   "metadata": {},
   "outputs": [
    {
     "data": {
      "text/html": [
       "<style>\n",
       ".dl-inline {width: auto; margin:0; padding: 0}\n",
       ".dl-inline>dt, .dl-inline>dd {float: none; width: auto; display: inline-block}\n",
       ".dl-inline>dt::after {content: \":\\0020\"; padding-right: .5ex}\n",
       ".dl-inline>dt:not(:first-of-type) {padding-left: .5ex}\n",
       "</style><dl class=dl-inline><dt>0%</dt><dd>0</dd><dt>20%</dt><dd>3.54</dd><dt>40%</dt><dd>11.026</dd><dt>60%</dt><dd>25.59</dd><dt>80%</dt><dd>99.978</dd><dt>100%</dt><dd>1712</dd></dl>\n"
      ],
      "text/latex": [
       "\\begin{description*}\n",
       "\\item[0\\textbackslash{}\\%] 0\n",
       "\\item[20\\textbackslash{}\\%] 3.54\n",
       "\\item[40\\textbackslash{}\\%] 11.026\n",
       "\\item[60\\textbackslash{}\\%] 25.59\n",
       "\\item[80\\textbackslash{}\\%] 99.978\n",
       "\\item[100\\textbackslash{}\\%] 1712\n",
       "\\end{description*}\n"
      ],
      "text/markdown": [
       "0%\n",
       ":   020%\n",
       ":   3.5440%\n",
       ":   11.02660%\n",
       ":   25.5980%\n",
       ":   99.978100%\n",
       ":   1712\n",
       "\n"
      ],
      "text/plain": [
       "      0%      20%      40%      60%      80%     100% \n",
       "   0.000    3.540   11.026   25.590   99.978 1712.000 "
      ]
     },
     "metadata": {},
     "output_type": "display_data"
    }
   ],
   "source": [
    "\n",
    "quantile(food_consumption$co2_emission, probs = c(0,0.2,0.4,0.6,0.8, 1))\n"
   ]
  },
  {
   "cell_type": "code",
   "execution_count": 14,
   "id": "664ee0c2-ed2f-49a0-9248-0628b82ea325",
   "metadata": {},
   "outputs": [
    {
     "data": {
      "text/html": [
       "<style>\n",
       ".dl-inline {width: auto; margin:0; padding: 0}\n",
       ".dl-inline>dt, .dl-inline>dd {float: none; width: auto; display: inline-block}\n",
       ".dl-inline>dt::after {content: \":\\0020\"; padding-right: .5ex}\n",
       ".dl-inline>dt:not(:first-of-type) {padding-left: .5ex}\n",
       "</style><dl class=dl-inline><dt>0%</dt><dd>0</dd><dt>10%</dt><dd>0.668</dd><dt>20%</dt><dd>3.54</dd><dt>30%</dt><dd>7.04</dd><dt>40%</dt><dd>11.026</dd><dt>50%</dt><dd>16.53</dd><dt>60%</dt><dd>25.59</dd><dt>70%</dt><dd>44.271</dd><dt>80%</dt><dd>99.978</dd><dt>90%</dt><dd>203.629</dd><dt>100%</dt><dd>1712</dd></dl>\n"
      ],
      "text/latex": [
       "\\begin{description*}\n",
       "\\item[0\\textbackslash{}\\%] 0\n",
       "\\item[10\\textbackslash{}\\%] 0.668\n",
       "\\item[20\\textbackslash{}\\%] 3.54\n",
       "\\item[30\\textbackslash{}\\%] 7.04\n",
       "\\item[40\\textbackslash{}\\%] 11.026\n",
       "\\item[50\\textbackslash{}\\%] 16.53\n",
       "\\item[60\\textbackslash{}\\%] 25.59\n",
       "\\item[70\\textbackslash{}\\%] 44.271\n",
       "\\item[80\\textbackslash{}\\%] 99.978\n",
       "\\item[90\\textbackslash{}\\%] 203.629\n",
       "\\item[100\\textbackslash{}\\%] 1712\n",
       "\\end{description*}\n"
      ],
      "text/markdown": [
       "0%\n",
       ":   010%\n",
       ":   0.66820%\n",
       ":   3.5430%\n",
       ":   7.0440%\n",
       ":   11.02650%\n",
       ":   16.5360%\n",
       ":   25.5970%\n",
       ":   44.27180%\n",
       ":   99.97890%\n",
       ":   203.629100%\n",
       ":   1712\n",
       "\n"
      ],
      "text/plain": [
       "      0%      10%      20%      30%      40%      50%      60%      70% \n",
       "   0.000    0.668    3.540    7.040   11.026   16.530   25.590   44.271 \n",
       "     80%      90%     100% \n",
       "  99.978  203.629 1712.000 "
      ]
     },
     "metadata": {},
     "output_type": "display_data"
    }
   ],
   "source": [
    "\n",
    "quantile(food_consumption$co2_emission, probs = seq(0,1,0.1))"
   ]
  },
  {
   "cell_type": "markdown",
   "id": "9995116c-0a39-4ce5-80c7-f28c76be2140",
   "metadata": {},
   "source": [
    "### Variance and standard deviation"
   ]
  },
  {
   "cell_type": "code",
   "execution_count": 15,
   "id": "bfb12f41-e16c-48af-83b2-bfacb4b56b8b",
   "metadata": {},
   "outputs": [
    {
     "data": {
      "text/html": [
       "<table class=\"dataframe\">\n",
       "<caption>A tibble: 11 × 3</caption>\n",
       "<thead>\n",
       "\t<tr><th scope=col>food_category</th><th scope=col>var_co2</th><th scope=col>sd_co2</th></tr>\n",
       "\t<tr><th scope=col>&lt;chr&gt;</th><th scope=col>&lt;dbl&gt;</th><th scope=col>&lt;dbl&gt;</th></tr>\n",
       "</thead>\n",
       "<tbody>\n",
       "\t<tr><td>beef     </td><td>8.874841e+04</td><td>297.9067105</td></tr>\n",
       "\t<tr><td>dairy    </td><td>1.767189e+04</td><td>132.9356686</td></tr>\n",
       "\t<tr><td>eggs     </td><td>2.137182e+01</td><td>  4.6229665</td></tr>\n",
       "\t<tr><td>fish     </td><td>9.216373e+02</td><td> 30.3584807</td></tr>\n",
       "\t<tr><td>lamb_goat</td><td>1.647552e+04</td><td>128.3569958</td></tr>\n",
       "\t<tr><td>nuts     </td><td>3.563965e+01</td><td>  5.9698955</td></tr>\n",
       "\t<tr><td>pork     </td><td>3.094964e+03</td><td> 55.6323965</td></tr>\n",
       "\t<tr><td>poultry  </td><td>2.450268e+02</td><td> 15.6533320</td></tr>\n",
       "\t<tr><td>rice     </td><td>2.281376e+03</td><td> 47.7637545</td></tr>\n",
       "\t<tr><td>soybeans </td><td>8.798818e-01</td><td>  0.9380202</td></tr>\n",
       "\t<tr><td>wheat    </td><td>7.102394e+01</td><td>  8.4275700</td></tr>\n",
       "</tbody>\n",
       "</table>\n"
      ],
      "text/latex": [
       "A tibble: 11 × 3\n",
       "\\begin{tabular}{lll}\n",
       " food\\_category & var\\_co2 & sd\\_co2\\\\\n",
       " <chr> & <dbl> & <dbl>\\\\\n",
       "\\hline\n",
       "\t beef      & 8.874841e+04 & 297.9067105\\\\\n",
       "\t dairy     & 1.767189e+04 & 132.9356686\\\\\n",
       "\t eggs      & 2.137182e+01 &   4.6229665\\\\\n",
       "\t fish      & 9.216373e+02 &  30.3584807\\\\\n",
       "\t lamb\\_goat & 1.647552e+04 & 128.3569958\\\\\n",
       "\t nuts      & 3.563965e+01 &   5.9698955\\\\\n",
       "\t pork      & 3.094964e+03 &  55.6323965\\\\\n",
       "\t poultry   & 2.450268e+02 &  15.6533320\\\\\n",
       "\t rice      & 2.281376e+03 &  47.7637545\\\\\n",
       "\t soybeans  & 8.798818e-01 &   0.9380202\\\\\n",
       "\t wheat     & 7.102394e+01 &   8.4275700\\\\\n",
       "\\end{tabular}\n"
      ],
      "text/markdown": [
       "\n",
       "A tibble: 11 × 3\n",
       "\n",
       "| food_category &lt;chr&gt; | var_co2 &lt;dbl&gt; | sd_co2 &lt;dbl&gt; |\n",
       "|---|---|---|\n",
       "| beef      | 8.874841e+04 | 297.9067105 |\n",
       "| dairy     | 1.767189e+04 | 132.9356686 |\n",
       "| eggs      | 2.137182e+01 |   4.6229665 |\n",
       "| fish      | 9.216373e+02 |  30.3584807 |\n",
       "| lamb_goat | 1.647552e+04 | 128.3569958 |\n",
       "| nuts      | 3.563965e+01 |   5.9698955 |\n",
       "| pork      | 3.094964e+03 |  55.6323965 |\n",
       "| poultry   | 2.450268e+02 |  15.6533320 |\n",
       "| rice      | 2.281376e+03 |  47.7637545 |\n",
       "| soybeans  | 8.798818e-01 |   0.9380202 |\n",
       "| wheat     | 7.102394e+01 |   8.4275700 |\n",
       "\n"
      ],
      "text/plain": [
       "   food_category var_co2      sd_co2     \n",
       "1  beef          8.874841e+04 297.9067105\n",
       "2  dairy         1.767189e+04 132.9356686\n",
       "3  eggs          2.137182e+01   4.6229665\n",
       "4  fish          9.216373e+02  30.3584807\n",
       "5  lamb_goat     1.647552e+04 128.3569958\n",
       "6  nuts          3.563965e+01   5.9698955\n",
       "7  pork          3.094964e+03  55.6323965\n",
       "8  poultry       2.450268e+02  15.6533320\n",
       "9  rice          2.281376e+03  47.7637545\n",
       "10 soybeans      8.798818e-01   0.9380202\n",
       "11 wheat         7.102394e+01   8.4275700"
      ]
     },
     "metadata": {},
     "output_type": "display_data"
    },
    {
     "name": "stderr",
     "output_type": "stream",
     "text": [
      "\u001b[1m\u001b[22m`stat_bin()` using `bins = 30`. Pick better value with `binwidth`.\n"
     ]
    },
    {
     "data": {
      "image/png": "[encoded data removed]",
      "text/plain": [
       "plot without title"
      ]
     },
     "metadata": {
      "image/png": {
       "height": 420,
       "width": 420
      }
     },
     "output_type": "display_data"
    }
   ],
   "source": [
    "\n",
    "food_consumption %>% \n",
    "  group_by(food_category) %>% \n",
    "  summarize(var_co2 = var(co2_emission),\n",
    "           sd_co2 = sd(co2_emission))\n",
    "\n",
    "\n",
    "ggplot(food_consumption, aes(co2_emission)) +\n",
    "  \n",
    "  geom_histogram() +\n",
    "  \n",
    "  facet_wrap(~ food_category)"
   ]
  },
  {
   "cell_type": "markdown",
   "id": "65b5c8e0-f6bd-4572-b362-aefdfd3aebf3",
   "metadata": {},
   "source": [
    "### Finding outliers using IQR"
   ]
  },
  {
   "cell_type": "code",
   "execution_count": 16,
   "id": "a5b8fb92-7741-436e-ac42-108bfc375b08",
   "metadata": {},
   "outputs": [
    {
     "data": {
      "text/html": [
       "<table class=\"dataframe\">\n",
       "<caption>A tibble: 130 × 2</caption>\n",
       "<thead>\n",
       "\t<tr><th scope=col>country</th><th scope=col>total_emission</th></tr>\n",
       "\t<tr><th scope=col>&lt;chr&gt;</th><th scope=col>&lt;dbl&gt;</th></tr>\n",
       "</thead>\n",
       "<tbody>\n",
       "\t<tr><td>Albania               </td><td>1777.85</td></tr>\n",
       "\t<tr><td>Algeria               </td><td> 707.88</td></tr>\n",
       "\t<tr><td>Angola                </td><td> 412.99</td></tr>\n",
       "\t<tr><td>Argentina             </td><td>2172.40</td></tr>\n",
       "\t<tr><td>Armenia               </td><td>1109.93</td></tr>\n",
       "\t<tr><td>Australia             </td><td>1938.66</td></tr>\n",
       "\t<tr><td>Austria               </td><td>1211.16</td></tr>\n",
       "\t<tr><td>Bahamas               </td><td>1192.90</td></tr>\n",
       "\t<tr><td>Bangladesh            </td><td> 374.18</td></tr>\n",
       "\t<tr><td>Barbados              </td><td> 889.11</td></tr>\n",
       "\t<tr><td>Belarus               </td><td> 960.22</td></tr>\n",
       "\t<tr><td>Belgium               </td><td>1102.09</td></tr>\n",
       "\t<tr><td>Belize                </td><td> 433.08</td></tr>\n",
       "\t<tr><td>Bermuda               </td><td>1483.28</td></tr>\n",
       "\t<tr><td>Bolivia               </td><td> 873.03</td></tr>\n",
       "\t<tr><td>Bosnia and Herzegovina</td><td> 628.18</td></tr>\n",
       "\t<tr><td>Botswana              </td><td> 576.84</td></tr>\n",
       "\t<tr><td>Brazil                </td><td>1616.73</td></tr>\n",
       "\t<tr><td>Bulgaria              </td><td> 560.16</td></tr>\n",
       "\t<tr><td>Cambodia              </td><td> 452.41</td></tr>\n",
       "\t<tr><td>Cameroon              </td><td> 283.61</td></tr>\n",
       "\t<tr><td>Canada                </td><td>1437.16</td></tr>\n",
       "\t<tr><td>Chile                 </td><td>1099.57</td></tr>\n",
       "\t<tr><td>China                 </td><td> 640.19</td></tr>\n",
       "\t<tr><td>Colombia              </td><td> 781.53</td></tr>\n",
       "\t<tr><td>Congo                 </td><td> 262.55</td></tr>\n",
       "\t<tr><td>Costa Rica            </td><td> 891.27</td></tr>\n",
       "\t<tr><td>Croatia               </td><td> 996.15</td></tr>\n",
       "\t<tr><td>Cuba                  </td><td> 591.69</td></tr>\n",
       "\t<tr><td>Cyprus                </td><td> 741.37</td></tr>\n",
       "\t<tr><td>⋮</td><td>⋮</td></tr>\n",
       "\t<tr><td>Saudi Arabia        </td><td> 692.86</td></tr>\n",
       "\t<tr><td>Senegal             </td><td> 469.43</td></tr>\n",
       "\t<tr><td>Serbia              </td><td> 723.34</td></tr>\n",
       "\t<tr><td>Sierra Leone        </td><td> 300.41</td></tr>\n",
       "\t<tr><td>Slovakia            </td><td> 560.34</td></tr>\n",
       "\t<tr><td>Slovenia            </td><td>1111.56</td></tr>\n",
       "\t<tr><td>South Africa        </td><td> 892.41</td></tr>\n",
       "\t<tr><td>South Korea         </td><td> 822.05</td></tr>\n",
       "\t<tr><td>Spain               </td><td> 988.47</td></tr>\n",
       "\t<tr><td>Sri Lanka           </td><td> 294.46</td></tr>\n",
       "\t<tr><td>Swaziland           </td><td> 678.94</td></tr>\n",
       "\t<tr><td>Sweden              </td><td>1527.03</td></tr>\n",
       "\t<tr><td>Switzerland         </td><td>1356.75</td></tr>\n",
       "\t<tr><td>Taiwan. ROC         </td><td> 559.55</td></tr>\n",
       "\t<tr><td>Tanzania            </td><td> 343.02</td></tr>\n",
       "\t<tr><td>Thailand            </td><td> 378.00</td></tr>\n",
       "\t<tr><td>Togo                </td><td> 188.09</td></tr>\n",
       "\t<tr><td>Trinidad and Tobago </td><td> 610.41</td></tr>\n",
       "\t<tr><td>Tunisia             </td><td> 618.89</td></tr>\n",
       "\t<tr><td>Turkey              </td><td> 897.01</td></tr>\n",
       "\t<tr><td>USA                 </td><td>1718.86</td></tr>\n",
       "\t<tr><td>Uganda              </td><td> 304.72</td></tr>\n",
       "\t<tr><td>Ukraine             </td><td> 665.73</td></tr>\n",
       "\t<tr><td>United Arab Emirates</td><td> 897.32</td></tr>\n",
       "\t<tr><td>United Kingdom      </td><td>1241.63</td></tr>\n",
       "\t<tr><td>Uruguay             </td><td>1634.91</td></tr>\n",
       "\t<tr><td>Venezuela           </td><td>1104.10</td></tr>\n",
       "\t<tr><td>Vietnam             </td><td> 641.51</td></tr>\n",
       "\t<tr><td>Zambia              </td><td> 225.30</td></tr>\n",
       "\t<tr><td>Zimbabwe            </td><td> 350.33</td></tr>\n",
       "</tbody>\n",
       "</table>\n"
      ],
      "text/latex": [
       "A tibble: 130 × 2\n",
       "\\begin{tabular}{ll}\n",
       " country & total\\_emission\\\\\n",
       " <chr> & <dbl>\\\\\n",
       "\\hline\n",
       "\t Albania                & 1777.85\\\\\n",
       "\t Algeria                &  707.88\\\\\n",
       "\t Angola                 &  412.99\\\\\n",
       "\t Argentina              & 2172.40\\\\\n",
       "\t Armenia                & 1109.93\\\\\n",
       "\t Australia              & 1938.66\\\\\n",
       "\t Austria                & 1211.16\\\\\n",
       "\t Bahamas                & 1192.90\\\\\n",
       "\t Bangladesh             &  374.18\\\\\n",
       "\t Barbados               &  889.11\\\\\n",
       "\t Belarus                &  960.22\\\\\n",
       "\t Belgium                & 1102.09\\\\\n",
       "\t Belize                 &  433.08\\\\\n",
       "\t Bermuda                & 1483.28\\\\\n",
       "\t Bolivia                &  873.03\\\\\n",
       "\t Bosnia and Herzegovina &  628.18\\\\\n",
       "\t Botswana               &  576.84\\\\\n",
       "\t Brazil                 & 1616.73\\\\\n",
       "\t Bulgaria               &  560.16\\\\\n",
       "\t Cambodia               &  452.41\\\\\n",
       "\t Cameroon               &  283.61\\\\\n",
       "\t Canada                 & 1437.16\\\\\n",
       "\t Chile                  & 1099.57\\\\\n",
       "\t China                  &  640.19\\\\\n",
       "\t Colombia               &  781.53\\\\\n",
       "\t Congo                  &  262.55\\\\\n",
       "\t Costa Rica             &  891.27\\\\\n",
       "\t Croatia                &  996.15\\\\\n",
       "\t Cuba                   &  591.69\\\\\n",
       "\t Cyprus                 &  741.37\\\\\n",
       "\t ⋮ & ⋮\\\\\n",
       "\t Saudi Arabia         &  692.86\\\\\n",
       "\t Senegal              &  469.43\\\\\n",
       "\t Serbia               &  723.34\\\\\n",
       "\t Sierra Leone         &  300.41\\\\\n",
       "\t Slovakia             &  560.34\\\\\n",
       "\t Slovenia             & 1111.56\\\\\n",
       "\t South Africa         &  892.41\\\\\n",
       "\t South Korea          &  822.05\\\\\n",
       "\t Spain                &  988.47\\\\\n",
       "\t Sri Lanka            &  294.46\\\\\n",
       "\t Swaziland            &  678.94\\\\\n",
       "\t Sweden               & 1527.03\\\\\n",
       "\t Switzerland          & 1356.75\\\\\n",
       "\t Taiwan. ROC          &  559.55\\\\\n",
       "\t Tanzania             &  343.02\\\\\n",
       "\t Thailand             &  378.00\\\\\n",
       "\t Togo                 &  188.09\\\\\n",
       "\t Trinidad and Tobago  &  610.41\\\\\n",
       "\t Tunisia              &  618.89\\\\\n",
       "\t Turkey               &  897.01\\\\\n",
       "\t USA                  & 1718.86\\\\\n",
       "\t Uganda               &  304.72\\\\\n",
       "\t Ukraine              &  665.73\\\\\n",
       "\t United Arab Emirates &  897.32\\\\\n",
       "\t United Kingdom       & 1241.63\\\\\n",
       "\t Uruguay              & 1634.91\\\\\n",
       "\t Venezuela            & 1104.10\\\\\n",
       "\t Vietnam              &  641.51\\\\\n",
       "\t Zambia               &  225.30\\\\\n",
       "\t Zimbabwe             &  350.33\\\\\n",
       "\\end{tabular}\n"
      ],
      "text/markdown": [
       "\n",
       "A tibble: 130 × 2\n",
       "\n",
       "| country &lt;chr&gt; | total_emission &lt;dbl&gt; |\n",
       "|---|---|\n",
       "| Albania                | 1777.85 |\n",
       "| Algeria                |  707.88 |\n",
       "| Angola                 |  412.99 |\n",
       "| Argentina              | 2172.40 |\n",
       "| Armenia                | 1109.93 |\n",
       "| Australia              | 1938.66 |\n",
       "| Austria                | 1211.16 |\n",
       "| Bahamas                | 1192.90 |\n",
       "| Bangladesh             |  374.18 |\n",
       "| Barbados               |  889.11 |\n",
       "| Belarus                |  960.22 |\n",
       "| Belgium                | 1102.09 |\n",
       "| Belize                 |  433.08 |\n",
       "| Bermuda                | 1483.28 |\n",
       "| Bolivia                |  873.03 |\n",
       "| Bosnia and Herzegovina |  628.18 |\n",
       "| Botswana               |  576.84 |\n",
       "| Brazil                 | 1616.73 |\n",
       "| Bulgaria               |  560.16 |\n",
       "| Cambodia               |  452.41 |\n",
       "| Cameroon               |  283.61 |\n",
       "| Canada                 | 1437.16 |\n",
       "| Chile                  | 1099.57 |\n",
       "| China                  |  640.19 |\n",
       "| Colombia               |  781.53 |\n",
       "| Congo                  |  262.55 |\n",
       "| Costa Rica             |  891.27 |\n",
       "| Croatia                |  996.15 |\n",
       "| Cuba                   |  591.69 |\n",
       "| Cyprus                 |  741.37 |\n",
       "| ⋮ | ⋮ |\n",
       "| Saudi Arabia         |  692.86 |\n",
       "| Senegal              |  469.43 |\n",
       "| Serbia               |  723.34 |\n",
       "| Sierra Leone         |  300.41 |\n",
       "| Slovakia             |  560.34 |\n",
       "| Slovenia             | 1111.56 |\n",
       "| South Africa         |  892.41 |\n",
       "| South Korea          |  822.05 |\n",
       "| Spain                |  988.47 |\n",
       "| Sri Lanka            |  294.46 |\n",
       "| Swaziland            |  678.94 |\n",
       "| Sweden               | 1527.03 |\n",
       "| Switzerland          | 1356.75 |\n",
       "| Taiwan. ROC          |  559.55 |\n",
       "| Tanzania             |  343.02 |\n",
       "| Thailand             |  378.00 |\n",
       "| Togo                 |  188.09 |\n",
       "| Trinidad and Tobago  |  610.41 |\n",
       "| Tunisia              |  618.89 |\n",
       "| Turkey               |  897.01 |\n",
       "| USA                  | 1718.86 |\n",
       "| Uganda               |  304.72 |\n",
       "| Ukraine              |  665.73 |\n",
       "| United Arab Emirates |  897.32 |\n",
       "| United Kingdom       | 1241.63 |\n",
       "| Uruguay              | 1634.91 |\n",
       "| Venezuela            | 1104.10 |\n",
       "| Vietnam              |  641.51 |\n",
       "| Zambia               |  225.30 |\n",
       "| Zimbabwe             |  350.33 |\n",
       "\n"
      ],
      "text/plain": [
       "    country                total_emission\n",
       "1   Albania                1777.85       \n",
       "2   Algeria                 707.88       \n",
       "3   Angola                  412.99       \n",
       "4   Argentina              2172.40       \n",
       "5   Armenia                1109.93       \n",
       "6   Australia              1938.66       \n",
       "7   Austria                1211.16       \n",
       "8   Bahamas                1192.90       \n",
       "9   Bangladesh              374.18       \n",
       "10  Barbados                889.11       \n",
       "11  Belarus                 960.22       \n",
       "12  Belgium                1102.09       \n",
       "13  Belize                  433.08       \n",
       "14  Bermuda                1483.28       \n",
       "15  Bolivia                 873.03       \n",
       "16  Bosnia and Herzegovina  628.18       \n",
       "17  Botswana                576.84       \n",
       "18  Brazil                 1616.73       \n",
       "19  Bulgaria                560.16       \n",
       "20  Cambodia                452.41       \n",
       "21  Cameroon                283.61       \n",
       "22  Canada                 1437.16       \n",
       "23  Chile                  1099.57       \n",
       "24  China                   640.19       \n",
       "25  Colombia                781.53       \n",
       "26  Congo                   262.55       \n",
       "27  Costa Rica              891.27       \n",
       "28  Croatia                 996.15       \n",
       "29  Cuba                    591.69       \n",
       "30  Cyprus                  741.37       \n",
       "⋮   ⋮                      ⋮             \n",
       "101 Saudi Arabia            692.86       \n",
       "102 Senegal                 469.43       \n",
       "103 Serbia                  723.34       \n",
       "104 Sierra Leone            300.41       \n",
       "105 Slovakia                560.34       \n",
       "106 Slovenia               1111.56       \n",
       "107 South Africa            892.41       \n",
       "108 South Korea             822.05       \n",
       "109 Spain                   988.47       \n",
       "110 Sri Lanka               294.46       \n",
       "111 Swaziland               678.94       \n",
       "112 Sweden                 1527.03       \n",
       "113 Switzerland            1356.75       \n",
       "114 Taiwan. ROC             559.55       \n",
       "115 Tanzania                343.02       \n",
       "116 Thailand                378.00       \n",
       "117 Togo                    188.09       \n",
       "118 Trinidad and Tobago     610.41       \n",
       "119 Tunisia                 618.89       \n",
       "120 Turkey                  897.01       \n",
       "121 USA                    1718.86       \n",
       "122 Uganda                  304.72       \n",
       "123 Ukraine                 665.73       \n",
       "124 United Arab Emirates    897.32       \n",
       "125 United Kingdom         1241.63       \n",
       "126 Uruguay                1634.91       \n",
       "127 Venezuela              1104.10       \n",
       "128 Vietnam                 641.51       \n",
       "129 Zambia                  225.30       \n",
       "130 Zimbabwe                350.33       "
      ]
     },
     "metadata": {},
     "output_type": "display_data"
    }
   ],
   "source": [
    "\n",
    "emissions_by_country <- food_consumption %>%\n",
    "  group_by(country) %>%\n",
    "  summarize(total_emission = sum(co2_emission))\n",
    "\n",
    "emissions_by_country"
   ]
  },
  {
   "cell_type": "code",
   "execution_count": 17,
   "id": "5fa52605-f22b-4fc8-80b6-36dc2fbd5da7",
   "metadata": {},
   "outputs": [],
   "source": [
    "\n",
    "q1 <- quantile(emissions_by_country$total_emission, 0.25)\n",
    "q3 <- quantile(emissions_by_country$total_emission, 0.75)\n",
    "iqr <- q3 - q1"
   ]
  },
  {
   "cell_type": "code",
   "execution_count": null,
   "id": "d09ac84b-c6f5-4cb6-92d2-891ee7e31e67",
   "metadata": {},
   "outputs": [],
   "source": []
  }
 ],
 "metadata": {
  "kernelspec": {
   "display_name": "R",
   "language": "R",
   "name": "r"
  },
  "language_info": {
   "codemirror_mode": "r",
   "file_extension": ".r",
   "mimetype": "text/x-r-source",
   "name": "R",
   "pygments_lexer": "r",
   "version": "4.3.1"
  }
 },
 "nbformat": 4,
 "nbformat_minor": 5
}
